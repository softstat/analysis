{
  "nbformat": 4,
  "nbformat_minor": 0,
  "metadata": {
    "colab": {
      "provenance": [],
      "authorship_tag": "ABX9TyPIawXGlLkoCDjvUDwx+tNw",
      "include_colab_link": true
    },
    "kernelspec": {
      "name": "python3",
      "display_name": "Python 3"
    },
    "language_info": {
      "name": "python"
    }
  },
  "cells": [
    {
      "cell_type": "markdown",
      "metadata": {
        "id": "view-in-github",
        "colab_type": "text"
      },
      "source": [
        "<a href=\"https://colab.research.google.com/github/softstat/analysis/blob/main/looking_back.ipynb\" target=\"_parent\"><img src=\"https://colab.research.google.com/assets/colab-badge.svg\" alt=\"Open In Colab\"/></a>"
      ]
    },
    {
      "cell_type": "code",
      "execution_count": null,
      "metadata": {
        "colab": {
          "base_uri": "https://localhost:8080/"
        },
        "id": "98VK-SuuNkIx",
        "outputId": "5b753557-497a-452f-e9b3-2f3f5fc02739"
      },
      "outputs": [
        {
          "output_type": "stream",
          "name": "stdout",
          "text": [
            "Mounted at /content/drive\n"
          ]
        }
      ],
      "source": [
        "from google.colab import drive\n",
        "drive.mount('/content/drive')"
      ]
    },
    {
      "cell_type": "code",
      "source": [
        "cd drive"
      ],
      "metadata": {
        "colab": {
          "base_uri": "https://localhost:8080/"
        },
        "id": "DRDJ0uEMNzSQ",
        "outputId": "9a14451f-8abd-4756-fec1-ba355be2d96c"
      },
      "execution_count": null,
      "outputs": [
        {
          "output_type": "stream",
          "name": "stdout",
          "text": [
            "/content/drive\n"
          ]
        }
      ]
    },
    {
      "cell_type": "code",
      "source": [
        "cd MyDrive"
      ],
      "metadata": {
        "colab": {
          "base_uri": "https://localhost:8080/"
        },
        "id": "LXYtwAhyN-G2",
        "outputId": "821e8062-5e77-488f-a702-98f23e09edf0"
      },
      "execution_count": null,
      "outputs": [
        {
          "output_type": "stream",
          "name": "stdout",
          "text": [
            "/content/drive/MyDrive\n"
          ]
        }
      ]
    },
    {
      "cell_type": "code",
      "source": [
        "cd Data"
      ],
      "metadata": {
        "colab": {
          "base_uri": "https://localhost:8080/"
        },
        "id": "MhcIcbTrOCzG",
        "outputId": "4dd39a36-1062-490f-f528-b7c61ce9bfb5"
      },
      "execution_count": null,
      "outputs": [
        {
          "output_type": "stream",
          "name": "stdout",
          "text": [
            "/content/drive/MyDrive/Data\n"
          ]
        }
      ]
    },
    {
      "cell_type": "code",
      "source": [
        "ls"
      ],
      "metadata": {
        "id": "m3yUrRi79RuE",
        "colab": {
          "base_uri": "https://localhost:8080/"
        },
        "outputId": "18f1398f-b9af-4770-8383-e4f45a0ab736"
      },
      "execution_count": null,
      "outputs": [
        {
          "output_type": "stream",
          "name": "stdout",
          "text": [
            " angle_gait.csv              \u001b[0m\u001b[01;34meye_open\u001b[0m/           non_PRC.csv     titanic_train.csv\n",
            "'Clinical Assessment.xlsx'   final_merged.csv    par_logit.csv   weather.csv\n",
            " data.csv                    \u001b[01;34mlooking_back\u001b[0m/       PRC.csv         \u001b[01;34m머신러닝\u001b[0m/\n",
            " \u001b[01;34meye_close\u001b[0m/                  non_par_logit.csv   \u001b[01;34mstand\u001b[0m/\n"
          ]
        }
      ]
    },
    {
      "cell_type": "code",
      "source": [
        "import pandas as pd\n",
        "non_PRC = pd.read_csv('looking_back/look.csv')\n",
        "PRC = pd.read_csv('looking_back/look_par.csv')\n",
        "clinical_assessment = pd.read_excel('Clinical Assessment.xlsx')"
      ],
      "metadata": {
        "id": "0hhulw_EODVG"
      },
      "execution_count": null,
      "outputs": []
    },
    {
      "cell_type": "code",
      "source": [
        "import pandas as pd\n",
        "from sklearn.decomposition import PCA\n",
        "from sklearn.model_selection import train_test_split\n",
        "from sklearn.linear_model import LogisticRegression\n",
        "from sklearn.ensemble import RandomForestClassifier\n",
        "from sklearn.svm import SVC\n",
        "from xgboost import XGBClassifier\n",
        "from sklearn.discriminant_analysis import LinearDiscriminantAnalysis as LDA\n",
        "from sklearn.metrics import confusion_matrix, roc_auc_score, roc_curve\n",
        "from sklearn.model_selection import GridSearchCV\n",
        "from sklearn.preprocessing import StandardScaler\n",
        "from sklearn.metrics import f1_score\n",
        "from sklearn.metrics import accuracy_score\n",
        "from sklearn.feature_selection import SelectKBest\n",
        "from sklearn.feature_selection import f_classif\n",
        "import warnings\n",
        "from sklearn.feature_selection import RFE\n",
        "from sklearn.metrics import accuracy_score, classification_report\n",
        "from sklearn.model_selection import GridSearchCV\n",
        "from sklearn.metrics import roc_curve\n",
        "import matplotlib.pyplot as plt"
      ],
      "metadata": {
        "id": "sOS1cNMDT7Mf"
      },
      "execution_count": null,
      "outputs": []
    },
    {
      "cell_type": "code",
      "source": [
        "warnings.filterwarnings(action='ignore')"
      ],
      "metadata": {
        "id": "ZMolryQYSmuk"
      },
      "execution_count": null,
      "outputs": []
    },
    {
      "cell_type": "code",
      "source": [
        "score = clinical_assessment.iloc[:,9]"
      ],
      "metadata": {
        "id": "Tdpok48uhZpk"
      },
      "execution_count": null,
      "outputs": []
    },
    {
      "cell_type": "code",
      "source": [
        "score = score.dropna()\n",
        "del score[0]\n",
        "del score[1]\n",
        "del score[9]\n",
        "del score[18]"
      ],
      "metadata": {
        "id": "AJadJlbSjOH_"
      },
      "execution_count": null,
      "outputs": []
    },
    {
      "cell_type": "code",
      "source": [
        "y = []\n",
        "for value in score:\n",
        "    if value >= 45:\n",
        "        y.append(1)\n",
        "    else:\n",
        "        y.append(0)\n",
        "print(y)"
      ],
      "metadata": {
        "colab": {
          "base_uri": "https://localhost:8080/"
        },
        "id": "QwYQTMIPm8Na",
        "outputId": "2ed737d3-75c4-4148-84c1-c24e9c168d9b"
      },
      "execution_count": null,
      "outputs": [
        {
          "output_type": "stream",
          "name": "stdout",
          "text": [
            "[1, 1, 1, 0, 0, 1, 1, 0, 1, 0, 0, 1, 1, 1, 0, 1, 1, 1, 0, 0, 1, 0, 1, 1, 0, 1, 1, 1, 1, 1, 1, 0, 1, 1, 1, 1, 1, 1, 1, 1, 0]\n"
          ]
        }
      ]
    },
    {
      "cell_type": "markdown",
      "source": [
        "## Non-paretic Side"
      ],
      "metadata": {
        "id": "JSSzXrGY96iI"
      }
    },
    {
      "cell_type": "code",
      "source": [
        "df_non = pd.DataFrame(non_PRC)"
      ],
      "metadata": {
        "id": "JsPFHwjPs6Nc"
      },
      "execution_count": null,
      "outputs": []
    },
    {
      "cell_type": "code",
      "source": [
        "y = pd.DataFrame(y)"
      ],
      "metadata": {
        "id": "llaQpSJBt47Z"
      },
      "execution_count": null,
      "outputs": []
    },
    {
      "cell_type": "code",
      "source": [
        "non = pd.concat([y,df_non],axis=1)"
      ],
      "metadata": {
        "id": "ogLfBjR2uFA3"
      },
      "execution_count": null,
      "outputs": []
    },
    {
      "cell_type": "code",
      "source": [
        "colname = list(non.columns)\n",
        "colname[0] = \"score\"\n",
        "non.columns = colname\n",
        "non.columns"
      ],
      "metadata": {
        "colab": {
          "base_uri": "https://localhost:8080/"
        },
        "id": "KDH0f19zwv2X",
        "outputId": "d5a97293-315a-4ea7-c895-c8971ec1989b"
      },
      "execution_count": null,
      "outputs": [
        {
          "output_type": "execute_result",
          "data": {
            "text/plain": [
              "Index(['score', 'Unnamed: 0', 'PC1', 'PC2', 'PC3', 'PC4', 'PC5', 'PC6', 'PC7',\n",
              "       'PC8', 'PC9', 'PC10', 'PC11', 'PC12', 'PC13', 'PC14', 'PC15', 'PC16',\n",
              "       'PC17', 'PC18', 'PC19', 'PC20', 'PC21', 'PC22', 'PC23', 'PC24', 'PC25',\n",
              "       'PC26', 'PC27', 'PC28', 'PC29', 'PC30', 'PC31', 'PC32', 'PC33', 'PC34',\n",
              "       'PC35', 'PC36', 'PC37', 'PC38', 'PC39', 'PC40', 'PC41'],\n",
              "      dtype='object')"
            ]
          },
          "metadata": {},
          "execution_count": 15
        }
      ]
    },
    {
      "cell_type": "code",
      "source": [
        "X = non.loc[:,['PC4','PC8','PC14','PC16','PC19','PC28']]\n",
        "y = non['score']\n",
        "X_train, X_test, y_train, y_test = train_test_split(X, y, test_size=0.4, random_state=123, stratify=y)"
      ],
      "metadata": {
        "id": "Jf5TVztFllwt"
      },
      "execution_count": null,
      "outputs": []
    },
    {
      "cell_type": "markdown",
      "source": [
        "### logistic regression\n",
        "- f1-score : 0.815\n",
        "- AUC : 0.558"
      ],
      "metadata": {
        "id": "c-EUa6cL_B7j"
      }
    },
    {
      "cell_type": "code",
      "source": [
        "lr_model = LogisticRegression()\n",
        "\n",
        "# 선택된 특성으로 모델 학습\n",
        "lr_model.fit(X_train, y_train)\n",
        "\n",
        "y_pred_lr = lr_model.predict(X_test)\n",
        "\n",
        "conf_matrix = confusion_matrix(y_test, y_pred_lr)\n",
        "print(\"Confusion Matrix:\\n\", conf_matrix)\n",
        "# 정확도 계산\n",
        "accuracy_lr = accuracy_score(y_test, y_pred_lr)\n",
        "print(\"Test Accuracy:\", accuracy_lr)\n",
        "\n",
        "# f1-score 계산\n",
        "f1_lr = f1_score(y_test, y_pred_lr)\n",
        "print(\"f1-score:\", f1_lr)\n",
        "\n",
        "# auc 계산\n",
        "auc_lr = roc_auc_score(y_test,y_pred_lr)\n",
        "print(\"AUC:\",auc_lr)\n",
        "\n",
        "# 분류 보고서 출력\n",
        "classification_rep_lr = classification_report(y_test, y_pred_lr)\n",
        "print(\"Classification Report:\\n\", classification_rep_lr)"
      ],
      "metadata": {
        "colab": {
          "base_uri": "https://localhost:8080/"
        },
        "id": "hdqSImHyS90Q",
        "outputId": "1fe5d071-d69e-48fb-a115-5cc32e4493ee"
      },
      "execution_count": null,
      "outputs": [
        {
          "output_type": "stream",
          "name": "stdout",
          "text": [
            "Confusion Matrix:\n",
            " [[2 3]\n",
            " [3 9]]\n",
            "Test Accuracy: 0.6470588235294118\n",
            "f1-score: 0.75\n",
            "AUC: 0.575\n",
            "Classification Report:\n",
            "               precision    recall  f1-score   support\n",
            "\n",
            "           0       0.40      0.40      0.40         5\n",
            "           1       0.75      0.75      0.75        12\n",
            "\n",
            "    accuracy                           0.65        17\n",
            "   macro avg       0.57      0.57      0.58        17\n",
            "weighted avg       0.65      0.65      0.65        17\n",
            "\n"
          ]
        }
      ]
    },
    {
      "cell_type": "markdown",
      "source": [
        "### Random Forest\n",
        "- f1-score : 0.828\n",
        "- AUC : 0.5"
      ],
      "metadata": {
        "id": "BlZbG2hX_Fhx"
      }
    },
    {
      "cell_type": "code",
      "source": [
        "from sklearn.model_selection import GridSearchCV\n",
        "from sklearn.ensemble import RandomForestClassifier\n",
        "\n",
        "\n",
        "param_grid = {\n",
        "    'n_estimators': [100, 200, 300],\n",
        "    'max_depth': [None, 10, 20],\n",
        "    'min_samples_split': [2, 5, 10],\n",
        "    'min_samples_leaf': [1, 2, 4]\n",
        "}\n",
        "\n",
        "\n",
        "grid_search = GridSearchCV(RandomForestClassifier(random_state=123), param_grid, cv=5, scoring='accuracy')\n",
        "\n",
        "\n",
        "grid_search.fit(X_train, y_train)\n",
        "\n",
        "\n",
        "best_rf_model = grid_search.best_estimator_\n",
        "best_params = grid_search.best_params_\n",
        "print(\"Best Random Forest Model:\", best_rf_model)\n",
        "print(\"Best Hyperparameters:\", best_params)\n",
        "\n",
        "y_pred_best_rf = best_rf_model.predict(X_test)\n",
        "\n",
        "\n",
        "conf_matrix_best = confusion_matrix(y_test, y_pred_best_rf)\n",
        "print(\"Confusion Matrix:\\n\", conf_matrix_best)\n",
        "\n",
        "accuracy_best_rf = accuracy_score(y_test, y_pred_best_rf)\n",
        "print(\"Test Accuracy with Best Model:\", accuracy_best_rf)\n",
        "\n",
        "f1_best_rf = f1_score(y_test, y_pred_best_rf)\n",
        "print(\"f1-score with Best Model:\", f1_best_rf)\n",
        "\n",
        "auc_best_rf = roc_auc_score(y_test, y_pred_best_rf)\n",
        "print(\"AUC with Best Model:\", auc_best_rf)\n",
        "\n",
        "classification_rep_best_rf = classification_report(y_test, y_pred_best_rf)\n",
        "print(\"Classification Report with Best Model:\\n\", classification_rep_best_rf)\n",
        "\n"
      ],
      "metadata": {
        "id": "b2ZcJHuQVn2h",
        "colab": {
          "base_uri": "https://localhost:8080/"
        },
        "outputId": "ee335e9a-765c-452e-9593-22a0d83b353c"
      },
      "execution_count": null,
      "outputs": [
        {
          "output_type": "stream",
          "name": "stdout",
          "text": [
            "Best Random Forest Model: RandomForestClassifier(min_samples_leaf=4, random_state=123)\n",
            "Best Hyperparameters: {'max_depth': None, 'min_samples_leaf': 4, 'min_samples_split': 2, 'n_estimators': 100}\n",
            "Confusion Matrix:\n",
            " [[ 0  5]\n",
            " [ 0 12]]\n",
            "Test Accuracy with Best Model: 0.7058823529411765\n",
            "f1-score with Best Model: 0.8275862068965517\n",
            "AUC with Best Model: 0.5\n",
            "Classification Report with Best Model:\n",
            "               precision    recall  f1-score   support\n",
            "\n",
            "           0       0.00      0.00      0.00         5\n",
            "           1       0.71      1.00      0.83        12\n",
            "\n",
            "    accuracy                           0.71        17\n",
            "   macro avg       0.35      0.50      0.41        17\n",
            "weighted avg       0.50      0.71      0.58        17\n",
            "\n"
          ]
        }
      ]
    },
    {
      "cell_type": "markdown",
      "source": [
        "### SVM Linear\n",
        "- f1-score : 0.769\n",
        "- AUC : 0.55"
      ],
      "metadata": {
        "id": "xsGv8kVa_NdT"
      }
    },
    {
      "cell_type": "code",
      "source": [
        "from sklearn.model_selection import GridSearchCV\n",
        "from sklearn.svm import SVC\n",
        "\n",
        "param_grid = {\n",
        "    'C': [0.1, 1, 10],\n",
        "    'kernel': ['linear'],\n",
        "    'degree':[2,3,4]\n",
        "}\n",
        "\n",
        "\n",
        "grid_search = GridSearchCV(SVC(random_state=123), param_grid, cv=5, scoring='accuracy')\n",
        "\n",
        "\n",
        "grid_search.fit(X_train, y_train)\n",
        "\n",
        "\n",
        "best_svm_model = grid_search.best_estimator_\n",
        "best_params = grid_search.best_params_\n",
        "print(\"Best SVM Model:\", best_svm_model)\n",
        "print(\"Best Hyperparameters:\", best_params)\n",
        "\n",
        "\n",
        "y_pred_best_svm_linear = best_svm_model.predict(X_test)\n",
        "\n",
        "\n",
        "conf_matrix_best = confusion_matrix(y_test, y_pred_best_svm_linear)\n",
        "print(\"Confusion Matrix:\\n\", conf_matrix_best)\n",
        "\n",
        "accuracy_best_svm_linear = accuracy_score(y_test, y_pred_best_svm_linear)\n",
        "print(\"Test Accuracy with Best Model:\", accuracy_best_svm_linear)\n",
        "\n",
        "f1_best_svm_linear = f1_score(y_test, y_pred_best_svm_linear)\n",
        "print(\"f1-score with Best Model:\", f1_best_svm_linear)\n",
        "\n",
        "y_scores_best_svm = best_svm_model.decision_function(X_test)\n",
        "auc_best_svm_linear = roc_auc_score(y_test, y_scores_best_svm)\n",
        "print(\"AUC with Best Model:\", auc_best_svm_linear)\n",
        "\n",
        "classification_rep_best_svm_linear = classification_report(y_test, y_pred_best_svm_linear)\n",
        "print(\"Classification Report with Best Model:\\n\", classification_rep_best_svm_linear)\n",
        "\n"
      ],
      "metadata": {
        "id": "Dju3eI8S_M4Y",
        "colab": {
          "base_uri": "https://localhost:8080/"
        },
        "outputId": "93dcf47a-0cfe-4532-c590-3558702ad6aa"
      },
      "execution_count": null,
      "outputs": [
        {
          "output_type": "stream",
          "name": "stdout",
          "text": [
            "Best SVM Model: SVC(C=1, degree=2, kernel='linear', random_state=123)\n",
            "Best Hyperparameters: {'C': 1, 'degree': 2, 'kernel': 'linear'}\n",
            "Confusion Matrix:\n",
            " [[ 1  4]\n",
            " [ 2 10]]\n",
            "Test Accuracy with Best Model: 0.6470588235294118\n",
            "f1-score with Best Model: 0.7692307692307692\n",
            "AUC with Best Model: 0.5666666666666667\n",
            "Classification Report with Best Model:\n",
            "               precision    recall  f1-score   support\n",
            "\n",
            "           0       0.33      0.20      0.25         5\n",
            "           1       0.71      0.83      0.77        12\n",
            "\n",
            "    accuracy                           0.65        17\n",
            "   macro avg       0.52      0.52      0.51        17\n",
            "weighted avg       0.60      0.65      0.62        17\n",
            "\n"
          ]
        }
      ]
    },
    {
      "cell_type": "markdown",
      "source": [
        "### SVM Poly\n",
        "- f1-score : 0.828\n",
        "- AUC : 0.75"
      ],
      "metadata": {
        "id": "3IgDdovP4rkb"
      }
    },
    {
      "cell_type": "code",
      "source": [
        "from sklearn.model_selection import GridSearchCV\n",
        "from sklearn.svm import SVC\n",
        "\n",
        "param_grid = {\n",
        "    'C': [0.1, 1, 10],\n",
        "    'kernel': ['poly'],\n",
        "    'degree': [2, 3, 4],\n",
        "}\n",
        "\n",
        "\n",
        "grid_search = GridSearchCV(SVC(random_state=123), param_grid, cv=5, scoring='accuracy')\n",
        "\n",
        "\n",
        "grid_search.fit(X_train, y_train)\n",
        "\n",
        "\n",
        "best_svm_model = grid_search.best_estimator_\n",
        "best_params = grid_search.best_params_\n",
        "print(\"Best SVM Model:\", best_svm_model)\n",
        "print(\"Best Hyperparameters:\", best_params)\n",
        "\n",
        "\n",
        "y_pred_best_svm_poly = best_svm_model.predict(X_test)\n",
        "\n",
        "\n",
        "conf_matrix_best = confusion_matrix(y_test, y_pred_best_svm_poly)\n",
        "print(\"Confusion Matrix:\\n\", conf_matrix_best)\n",
        "\n",
        "accuracy_best_svm_poly = accuracy_score(y_test, y_pred_best_svm_poly)\n",
        "print(\"Test Accuracy with Best Model:\", accuracy_best_svm_poly)\n",
        "\n",
        "f1_best_svm_poly = f1_score(y_test, y_pred_best_svm_poly)\n",
        "print(\"f1-score with Best Model:\", f1_best_svm_poly)\n",
        "\n",
        "y_scores_best_svm_poly = best_svm_model.decision_function(X_test)\n",
        "auc_best_svm_poly = roc_auc_score(y_test, y_scores_best_svm_poly)\n",
        "print(\"AUC with Best Model:\", auc_best_svm_poly)\n",
        "\n",
        "classification_rep_best_svm_poly = classification_report(y_test, y_pred_best_svm_poly)\n",
        "print(\"Classification Report with Best Model:\\n\", classification_rep_best_svm_poly)"
      ],
      "metadata": {
        "id": "xusb6F524gUF",
        "colab": {
          "base_uri": "https://localhost:8080/"
        },
        "outputId": "4968539c-eb96-4291-bf33-5225a4f82c90"
      },
      "execution_count": null,
      "outputs": [
        {
          "output_type": "stream",
          "name": "stdout",
          "text": [
            "Best SVM Model: SVC(C=0.1, degree=2, kernel='poly', random_state=123)\n",
            "Best Hyperparameters: {'C': 0.1, 'degree': 2, 'kernel': 'poly'}\n",
            "Confusion Matrix:\n",
            " [[ 0  5]\n",
            " [ 0 12]]\n",
            "Test Accuracy with Best Model: 0.7058823529411765\n",
            "f1-score with Best Model: 0.8275862068965517\n",
            "AUC with Best Model: 0.6166666666666667\n",
            "Classification Report with Best Model:\n",
            "               precision    recall  f1-score   support\n",
            "\n",
            "           0       0.00      0.00      0.00         5\n",
            "           1       0.71      1.00      0.83        12\n",
            "\n",
            "    accuracy                           0.71        17\n",
            "   macro avg       0.35      0.50      0.41        17\n",
            "weighted avg       0.50      0.71      0.58        17\n",
            "\n"
          ]
        }
      ]
    },
    {
      "cell_type": "markdown",
      "source": [
        "### XGBoost\n",
        "- f1-score: 0.857\n",
        "- AUC : 0.6"
      ],
      "metadata": {
        "id": "AbxWhSSo_RKA"
      }
    },
    {
      "cell_type": "code",
      "source": [
        "from sklearn.model_selection import GridSearchCV\n",
        "import xgboost as xgb\n",
        "\n",
        "\n",
        "param_grid = {\n",
        "    'n_estimators': [100, 200, 300],\n",
        "    'max_depth': [3, 4, 5],\n",
        "    'learning_rate': [0.01, 0.1, 0.2],\n",
        "}\n",
        "\n",
        "\n",
        "grid_search = GridSearchCV(xgb.XGBClassifier(random_state=123), param_grid, cv=5, scoring='accuracy')\n",
        "\n",
        "\n",
        "grid_search.fit(X_train, y_train)\n",
        "\n",
        "\n",
        "best_xgb_model = grid_search.best_estimator_\n",
        "best_params = grid_search.best_params_\n",
        "print(\"Best XGBoost Model:\", best_xgb_model)\n",
        "print(\"Best Hyperparameters:\", best_params)\n",
        "\n",
        "\n",
        "y_pred_best_xgb = best_xgb_model.predict(X_test)\n",
        "\n",
        "conf_matrix_best = confusion_matrix(y_test, y_pred_best_xgb)\n",
        "print(\"Confusion Matrix:\\n\", conf_matrix_best)\n",
        "\n",
        "accuracy_best_xgb = accuracy_score(y_test, y_pred_best_xgb)\n",
        "print(\"Test Accuracy with Best Model:\", accuracy_best_xgb)\n",
        "\n",
        "f1_best_xgb = f1_score(y_test, y_pred_best_xgb)\n",
        "print(\"f1-score with Best Model:\", f1_best_xgb)\n",
        "\n",
        "auc_best_xgb = roc_auc_score(y_test, y_pred_best_xgb)\n",
        "print(\"AUC with Best Model:\", auc_best_xgb)\n",
        "\n",
        "classification_rep_best_xgb = classification_report(y_test, y_pred_best_xgb)\n",
        "print(\"Classification Report with Best Model:\\n\", classification_rep_best_xgb)\n"
      ],
      "metadata": {
        "id": "71QM59Gy_QwB",
        "colab": {
          "base_uri": "https://localhost:8080/"
        },
        "outputId": "4894644e-94f2-48a9-b946-cd5f92e1be2a"
      },
      "execution_count": null,
      "outputs": [
        {
          "output_type": "stream",
          "name": "stdout",
          "text": [
            "Best XGBoost Model: XGBClassifier(base_score=None, booster=None, callbacks=None,\n",
            "              colsample_bylevel=None, colsample_bynode=None,\n",
            "              colsample_bytree=None, device=None, early_stopping_rounds=None,\n",
            "              enable_categorical=False, eval_metric=None, feature_types=None,\n",
            "              gamma=None, grow_policy=None, importance_type=None,\n",
            "              interaction_constraints=None, learning_rate=0.01, max_bin=None,\n",
            "              max_cat_threshold=None, max_cat_to_onehot=None,\n",
            "              max_delta_step=None, max_depth=3, max_leaves=None,\n",
            "              min_child_weight=None, missing=nan, monotone_constraints=None,\n",
            "              multi_strategy=None, n_estimators=100, n_jobs=None,\n",
            "              num_parallel_tree=None, random_state=123, ...)\n",
            "Best Hyperparameters: {'learning_rate': 0.01, 'max_depth': 3, 'n_estimators': 100}\n",
            "Confusion Matrix:\n",
            " [[ 0  5]\n",
            " [ 2 10]]\n",
            "Test Accuracy with Best Model: 0.5882352941176471\n",
            "f1-score with Best Model: 0.7407407407407408\n",
            "AUC with Best Model: 0.4166666666666667\n",
            "Classification Report with Best Model:\n",
            "               precision    recall  f1-score   support\n",
            "\n",
            "           0       0.00      0.00      0.00         5\n",
            "           1       0.67      0.83      0.74        12\n",
            "\n",
            "    accuracy                           0.59        17\n",
            "   macro avg       0.33      0.42      0.37        17\n",
            "weighted avg       0.47      0.59      0.52        17\n",
            "\n"
          ]
        }
      ]
    },
    {
      "cell_type": "code",
      "source": [
        "import matplotlib.pyplot as plt\n",
        "from sklearn.metrics import roc_curve, roc_auc_score, auc\n",
        "\n",
        "fpr_lr, tpr_lr, _ = roc_curve(y_test, y_pred_lr)\n",
        "fpr_rf, tpr_rf, _ = roc_curve(y_test, y_pred_best_rf)\n",
        "fpr_svm_linear, tpr_svm_linear, _ = roc_curve(y_test, y_pred_best_svm_linear)\n",
        "fpr_svm_poly, tpr_svm_poly, _ = roc_curve(y_test, y_pred_best_svm_poly)\n",
        "fpr_xgb, tpr_xgb, _ = roc_curve(y_test, y_pred_best_xgb)\n",
        "\n",
        "\n",
        "# ROC 곡선 그리기\n",
        "plt.figure(figsize=(10, 8))\n",
        "plt.plot(fpr_lr, tpr_lr, label='Logistic Regression (AUC = %0.2f)' % auc_lr)\n",
        "plt.plot(fpr_rf, tpr_rf, label='Random Forest (AUC = %0.2f)' % auc_best_rf)\n",
        "plt.plot(fpr_svm_linear, tpr_svm_linear, label='SVM linear(AUC = %0.2f)' % auc_best_svm_linear)\n",
        "plt.plot(fpr_svm_poly, tpr_svm_poly, label='SVM Poly(AUC = %0.2f)' % auc_best_svm_poly)\n",
        "plt.plot(fpr_xgb, tpr_xgb, label='XGBoost (AUC = %0.2f)' % auc_best_xgb)\n",
        "\n",
        "plt.plot([0, 1], [0, 1], 'k--')\n",
        "plt.xlim([0.0, 1.0])\n",
        "plt.ylim([0.0, 1.05])\n",
        "plt.xlabel('False Positive Rate')\n",
        "plt.ylabel('True Positive Rate')\n",
        "plt.title('ROC Curve')\n",
        "plt.legend(loc=\"lower right\")\n",
        "plt.show()"
      ],
      "metadata": {
        "id": "7Vb7IhxnsV0t",
        "colab": {
          "base_uri": "https://localhost:8080/",
          "height": 718
        },
        "outputId": "a21adc01-c71f-4a06-d1d9-c06a6bca233c"
      },
      "execution_count": null,
      "outputs": [
        {
          "output_type": "display_data",
          "data": {
            "text/plain": [
              "<Figure size 1000x800 with 1 Axes>"
            ],
            "image/png": "[encoded data removed]"
          },
          "metadata": {}
        }
      ]
    },
    {
      "cell_type": "markdown",
      "source": [
        "## paretic-Side"
      ],
      "metadata": {
        "id": "YdRdHm2b4hpG"
      }
    },
    {
      "cell_type": "code",
      "source": [
        "df_par = pd.DataFrame(PRC)\n",
        "y = pd.DataFrame(y)\n",
        "par = pd.concat([y,df_par],axis=1)\n",
        "colname = list(par.columns)\n",
        "colname[0] = \"score\""
      ],
      "metadata": {
        "id": "vMCizY8R4hQ7"
      },
      "execution_count": null,
      "outputs": []
    },
    {
      "cell_type": "code",
      "source": [
        "import random\n",
        "random.seed(1)\n",
        "X = par.loc[:,['PC4','PC7','PC25','PC29','PC31','PC32']]\n",
        "y = par['score']\n",
        "X_train , X_test , y_train , y_test  = train_test_split(X,y,test_size = 0.4,random_state=123,stratify=y)"
      ],
      "metadata": {
        "id": "Ux9MaXYJ4tav"
      },
      "execution_count": null,
      "outputs": []
    },
    {
      "cell_type": "markdown",
      "source": [
        "### logistic regression\n",
        "- f1-score : 0.667\n",
        "- AUC : 0.592"
      ],
      "metadata": {
        "id": "etZAizsY-eiw"
      }
    },
    {
      "cell_type": "code",
      "source": [
        "lr_model = LogisticRegression()\n",
        "\n",
        "lr_model.fit(X_train, y_train)\n",
        "\n",
        "y_pred_par_lr = lr_model.predict(X_test)\n",
        "\n",
        "conf_matrix = confusion_matrix(y_test, y_pred_par_lr)\n",
        "print(\"Confusion Matrix:\\n\", conf_matrix)\n",
        "# 정확도 계산\n",
        "accuracy_lr_ps = accuracy_score(y_test, y_pred_par_lr)\n",
        "print(\"Test Accuracy:\", accuracy_lr_ps)\n",
        "\n",
        "# f1-score 계산\n",
        "f1_lr_ps = f1_score(y_test, y_pred_par_lr)\n",
        "print(\"f1-score:\", f1_lr_ps)\n",
        "\n",
        "# AUC 계산\n",
        "auc_lr_ps = roc_auc_score(y_test,y_pred_par_lr)\n",
        "print(\"AUC:\",auc_lr_ps)\n",
        "\n",
        "\n",
        "classification_rep_lr = classification_report(y_test, y_pred_par_lr)\n",
        "print(\"Classification Report:\\n\", classification_rep_lr)"
      ],
      "metadata": {
        "id": "cIJBpDcsZfHt",
        "colab": {
          "base_uri": "https://localhost:8080/"
        },
        "outputId": "4f9c2cbc-172e-4f18-929c-4a896bec5359"
      },
      "execution_count": null,
      "outputs": [
        {
          "output_type": "stream",
          "name": "stdout",
          "text": [
            "Confusion Matrix:\n",
            " [[ 0  5]\n",
            " [ 1 11]]\n",
            "Test Accuracy: 0.6470588235294118\n",
            "f1-score: 0.7857142857142857\n",
            "AUC: 0.4583333333333333\n",
            "Classification Report:\n",
            "               precision    recall  f1-score   support\n",
            "\n",
            "           0       0.00      0.00      0.00         5\n",
            "           1       0.69      0.92      0.79        12\n",
            "\n",
            "    accuracy                           0.65        17\n",
            "   macro avg       0.34      0.46      0.39        17\n",
            "weighted avg       0.49      0.65      0.55        17\n",
            "\n"
          ]
        }
      ]
    },
    {
      "cell_type": "markdown",
      "source": [
        "### paretic RandomForest\n",
        "- f1-score : 0.833\n",
        "- AUC : 0.717"
      ],
      "metadata": {
        "id": "W1Kk6Iua_-Uq"
      }
    },
    {
      "cell_type": "code",
      "source": [
        "from sklearn.model_selection import GridSearchCV\n",
        "from sklearn.ensemble import RandomForestClassifier\n",
        "\n",
        "param_grid = {\n",
        "    'n_estimators': [100, 200, 300],\n",
        "    'max_depth': [None, 10, 20],\n",
        "    'min_samples_split': [2, 5, 10],\n",
        "    'min_samples_leaf': [1, 2, 4]\n",
        "}\n",
        "\n",
        "\n",
        "grid_search = GridSearchCV(RandomForestClassifier(random_state=123), param_grid, cv=5, scoring='accuracy')\n",
        "\n",
        "\n",
        "grid_search.fit(X_train, y_train)\n",
        "\n",
        "# 최적의 모델과 하이퍼파라미터 출력\n",
        "best_rf_model = grid_search.best_estimator_\n",
        "best_params = grid_search.best_params_\n",
        "print(\"Best Random Forest Model:\", best_rf_model)\n",
        "print(\"Best Hyperparameters:\", best_params)\n",
        "\n",
        "# 최적의 모델로 테스트 데이터에 대한 예측 수행\n",
        "y_pred_best_par_rf = best_rf_model.predict(X_test)\n",
        "\n",
        "# 성능 메트릭 계산\n",
        "conf_matrix_best = confusion_matrix(y_test, y_pred_best_par_rf)\n",
        "print(\"Confusion Matrix:\\n\", conf_matrix_best)\n",
        "\n",
        "accuracy_best_par_rf = accuracy_score(y_test, y_pred_best_par_rf)\n",
        "print(\"Test Accuracy with Best Model:\", accuracy_best_par_rf)\n",
        "\n",
        "f1_best_par_rf = f1_score(y_test, y_pred_best_par_rf)\n",
        "print(\"F1-score with Best Model:\", f1_best_par_rf)\n",
        "\n",
        "auc_best_par_rf = roc_auc_score(y_test, y_pred_best_par_rf)\n",
        "print(\"AUC with Best Model:\", auc_best_par_rf)\n",
        "\n",
        "classification_rep_best_par_rf = classification_report(y_test, y_pred_best_par_rf)\n",
        "print(\"Classification Report with Best Model:\\n\", classification_rep_best_par_rf)\n",
        "\n"
      ],
      "metadata": {
        "id": "NKuW_hIUZkwv",
        "colab": {
          "base_uri": "https://localhost:8080/"
        },
        "outputId": "9887e850-8240-49d2-e5d0-8689997913a9"
      },
      "execution_count": null,
      "outputs": [
        {
          "output_type": "stream",
          "name": "stdout",
          "text": [
            "Best Random Forest Model: RandomForestClassifier(min_samples_leaf=4, min_samples_split=10,\n",
            "                       random_state=123)\n",
            "Best Hyperparameters: {'max_depth': None, 'min_samples_leaf': 4, 'min_samples_split': 10, 'n_estimators': 100}\n",
            "Confusion Matrix:\n",
            " [[ 0  5]\n",
            " [ 0 12]]\n",
            "Test Accuracy with Best Model: 0.7058823529411765\n",
            "F1-score with Best Model: 0.8275862068965517\n",
            "AUC with Best Model: 0.5\n",
            "Classification Report with Best Model:\n",
            "               precision    recall  f1-score   support\n",
            "\n",
            "           0       0.00      0.00      0.00         5\n",
            "           1       0.71      1.00      0.83        12\n",
            "\n",
            "    accuracy                           0.71        17\n",
            "   macro avg       0.35      0.50      0.41        17\n",
            "weighted avg       0.50      0.71      0.58        17\n",
            "\n"
          ]
        }
      ]
    },
    {
      "cell_type": "markdown",
      "source": [
        "### paretic SVM Linear\n",
        "- f1-score : 0.6\n",
        "- AUC : 0.567"
      ],
      "metadata": {
        "id": "S20wVQYSAFkH"
      }
    },
    {
      "cell_type": "code",
      "source": [
        "from sklearn.model_selection import GridSearchCV\n",
        "from sklearn.svm import SVC\n",
        "\n",
        "param_grid = {\n",
        "    'C': [0.1, 1, 10],\n",
        "    'kernel': ['linear'],\n",
        "    'degree':[2,3,4]\n",
        "}\n",
        "\n",
        "\n",
        "grid_search = GridSearchCV(SVC(random_state=123), param_grid, cv=5, scoring='accuracy')\n",
        "\n",
        "\n",
        "grid_search.fit(X_train, y_train)\n",
        "\n",
        "\n",
        "best_svm_model = grid_search.best_estimator_\n",
        "best_params = grid_search.best_params_\n",
        "print(\"Best SVM Model:\", best_svm_model)\n",
        "print(\"Best Hyperparameters:\", best_params)\n",
        "\n",
        "\n",
        "y_pred_best_par_svm_linear = best_svm_model.predict(X_test)\n",
        "\n",
        "# 성능 메트릭 계산\n",
        "conf_matrix_best = confusion_matrix(y_test, y_pred_best_par_svm_linear)\n",
        "print(\"Confusion Matrix:\\n\", conf_matrix_best)\n",
        "\n",
        "accuracy_best_par_svm_linear = accuracy_score(y_test, y_pred_best_par_svm_linear)\n",
        "print(\"Test Accuracy with Best Model:\", accuracy_best_par_svm_linear)\n",
        "\n",
        "f1_best_par_svm_linear = f1_score(y_test, y_pred_best_par_svm_linear)\n",
        "print(\"F1-score with Best Model:\", f1_best_par_svm_linear)\n",
        "\n",
        "y_scores_best_par_svm_linear = best_svm_model.decision_function(X_test)\n",
        "auc_best_par_svm_linear = roc_auc_score(y_test, y_scores_best_par_svm_linear)\n",
        "print(\"AUC with Best Model:\", auc_best_par_svm_linear)\n",
        "\n",
        "classification_rep_best_par_svm = classification_report(y_test, y_pred_best_par_svm_linear)\n",
        "print(\"Classification Report with Best Model:\\n\", classification_rep_best_par_svm)\n",
        "\n"
      ],
      "metadata": {
        "id": "Gfm_jfA1ZscT",
        "colab": {
          "base_uri": "https://localhost:8080/"
        },
        "outputId": "82e57f8c-4f3a-42b0-ec3a-135dcc177e8c"
      },
      "execution_count": null,
      "outputs": [
        {
          "output_type": "stream",
          "name": "stdout",
          "text": [
            "Best SVM Model: SVC(C=0.1, degree=2, kernel='linear', random_state=123)\n",
            "Best Hyperparameters: {'C': 0.1, 'degree': 2, 'kernel': 'linear'}\n",
            "Confusion Matrix:\n",
            " [[ 2  3]\n",
            " [ 2 10]]\n",
            "Test Accuracy with Best Model: 0.7058823529411765\n",
            "F1-score with Best Model: 0.8\n",
            "AUC with Best Model: 0.43333333333333335\n",
            "Classification Report with Best Model:\n",
            "               precision    recall  f1-score   support\n",
            "\n",
            "           0       0.50      0.40      0.44         5\n",
            "           1       0.77      0.83      0.80        12\n",
            "\n",
            "    accuracy                           0.71        17\n",
            "   macro avg       0.63      0.62      0.62        17\n",
            "weighted avg       0.69      0.71      0.70        17\n",
            "\n"
          ]
        }
      ]
    },
    {
      "cell_type": "markdown",
      "source": [
        "### paretic SVM Poly\n",
        "- f1-score : 0.828\n",
        "- AUC : 0.2"
      ],
      "metadata": {
        "id": "D2gjFj2k4ynK"
      }
    },
    {
      "cell_type": "code",
      "source": [
        "from sklearn.model_selection import GridSearchCV\n",
        "from sklearn.svm import SVC\n",
        "\n",
        "param_grid = {\n",
        "    'C': [0.1, 1, 10],\n",
        "    'kernel': ['poly'],\n",
        "    'degree': [2, 3, 4],\n",
        "}\n",
        "\n",
        "\n",
        "grid_search = GridSearchCV(SVC(random_state=123), param_grid, cv=5, scoring='accuracy')\n",
        "\n",
        "\n",
        "grid_search.fit(X_train, y_train)\n",
        "\n",
        "\n",
        "best_svm_model = grid_search.best_estimator_\n",
        "best_params = grid_search.best_params_\n",
        "print(\"Best SVM Model:\", best_svm_model)\n",
        "print(\"Best Hyperparameters:\", best_params)\n",
        "\n",
        "\n",
        "y_pred_best_par_svm_poly = best_svm_model.predict(X_test)\n",
        "\n",
        "# 성능 메트릭 계산\n",
        "conf_matrix_best = confusion_matrix(y_test, y_pred_best_par_svm_poly)\n",
        "print(\"Confusion Matrix:\\n\", conf_matrix_best)\n",
        "\n",
        "accuracy_best_par_svm_poly = accuracy_score(y_test, y_pred_best_par_svm_poly)\n",
        "print(\"Test Accuracy with Best Model:\", accuracy_best_par_svm_poly)\n",
        "\n",
        "f1_best_par_svm_poly = f1_score(y_test, y_pred_best_par_svm_poly)\n",
        "print(\"F1-score with Best Model:\", f1_best_par_svm_poly)\n",
        "\n",
        "y_scores_best_par_svm_poly = best_svm_model.decision_function(X_test)\n",
        "auc_best_par_svm_poly = roc_auc_score(y_test, y_scores_best_par_svm_poly)\n",
        "print(\"AUC with Best Model:\", auc_best_par_svm_poly)\n",
        "\n",
        "classification_rep_best_par_svm = classification_report(y_test, y_pred_best_par_svm_poly)\n",
        "print(\"Classification Report with Best Model:\\n\", classification_rep_best_par_svm)\n"
      ],
      "metadata": {
        "id": "grj_0L_B4ybL",
        "colab": {
          "base_uri": "https://localhost:8080/"
        },
        "outputId": "26f66ce3-799f-4580-e361-152c3ee3c48a"
      },
      "execution_count": null,
      "outputs": [
        {
          "output_type": "stream",
          "name": "stdout",
          "text": [
            "Best SVM Model: SVC(C=0.1, degree=2, kernel='poly', random_state=123)\n",
            "Best Hyperparameters: {'C': 0.1, 'degree': 2, 'kernel': 'poly'}\n",
            "Confusion Matrix:\n",
            " [[ 0  5]\n",
            " [ 0 12]]\n",
            "Test Accuracy with Best Model: 0.7058823529411765\n",
            "F1-score with Best Model: 0.8275862068965517\n",
            "AUC with Best Model: 0.23333333333333328\n",
            "Classification Report with Best Model:\n",
            "               precision    recall  f1-score   support\n",
            "\n",
            "           0       0.00      0.00      0.00         5\n",
            "           1       0.71      1.00      0.83        12\n",
            "\n",
            "    accuracy                           0.71        17\n",
            "   macro avg       0.35      0.50      0.41        17\n",
            "weighted avg       0.50      0.71      0.58        17\n",
            "\n"
          ]
        }
      ]
    },
    {
      "cell_type": "markdown",
      "source": [
        "### paretic XGBoost\n",
        "- f1-score : 0.818\n",
        "- AUC : 0.775"
      ],
      "metadata": {
        "id": "lkz1H0BrALQC"
      }
    },
    {
      "cell_type": "code",
      "source": [
        "\n",
        "from sklearn.model_selection import GridSearchCV\n",
        "import xgboost as xgb\n",
        "\n",
        "\n",
        "param_grid = {\n",
        "    'n_estimators': [100, 200, 300],\n",
        "    'max_depth': [3, 4, 5],\n",
        "    'learning_rate': [0.01, 0.1, 0.2],\n",
        "}\n",
        "\n",
        "\n",
        "grid_search = GridSearchCV(xgb.XGBClassifier(random_state=123), param_grid, cv=5, scoring='accuracy')\n",
        "\n",
        "\n",
        "grid_search.fit(X_train, y_train)\n",
        "\n",
        "\n",
        "best_xgb_model = grid_search.best_estimator_\n",
        "best_params = grid_search.best_params_\n",
        "print(\"Best XGBoost Model:\", best_xgb_model)\n",
        "print(\"Best Hyperparameters:\", best_params)\n",
        "\n",
        "\n",
        "y_pred_best_par_xgb = best_xgb_model.predict(X_test)\n",
        "\n",
        "conf_matrix_best = confusion_matrix(y_test, y_pred_best_par_xgb)\n",
        "print(\"Confusion Matrix:\\n\", conf_matrix_best)\n",
        "\n",
        "accuracy_best_par_xgb = accuracy_score(y_test, y_pred_best_par_xgb)\n",
        "print(\"Test Accuracy with Best Model:\", accuracy_best_par_xgb)\n",
        "\n",
        "f1_best_par_xgb = f1_score(y_test, y_pred_best_par_xgb)\n",
        "print(\"F1-score with Best Model:\", f1_best_par_xgb)\n",
        "\n",
        "auc_best_par_xgb = roc_auc_score(y_test, y_pred_best_par_xgb)\n",
        "print(\"AUC with Best Model:\", auc_best_par_xgb)\n",
        "\n",
        "classification_rep_best_par_xgb = classification_report(y_test, y_pred_best_par_xgb)\n",
        "print(\"Classification Report with Best Model:\\n\", classification_rep_best_par_xgb)\n",
        "\n"
      ],
      "metadata": {
        "id": "0I1DYESOZzbi",
        "colab": {
          "base_uri": "https://localhost:8080/"
        },
        "outputId": "98c3f234-5e94-4c08-9834-689c0411d79a"
      },
      "execution_count": null,
      "outputs": [
        {
          "output_type": "stream",
          "name": "stdout",
          "text": [
            "Best XGBoost Model: XGBClassifier(base_score=None, booster=None, callbacks=None,\n",
            "              colsample_bylevel=None, colsample_bynode=None,\n",
            "              colsample_bytree=None, device=None, early_stopping_rounds=None,\n",
            "              enable_categorical=False, eval_metric=None, feature_types=None,\n",
            "              gamma=None, grow_policy=None, importance_type=None,\n",
            "              interaction_constraints=None, learning_rate=0.01, max_bin=None,\n",
            "              max_cat_threshold=None, max_cat_to_onehot=None,\n",
            "              max_delta_step=None, max_depth=3, max_leaves=None,\n",
            "              min_child_weight=None, missing=nan, monotone_constraints=None,\n",
            "              multi_strategy=None, n_estimators=100, n_jobs=None,\n",
            "              num_parallel_tree=None, random_state=123, ...)\n",
            "Best Hyperparameters: {'learning_rate': 0.01, 'max_depth': 3, 'n_estimators': 100}\n",
            "Confusion Matrix:\n",
            " [[4 1]\n",
            " [3 9]]\n",
            "Test Accuracy with Best Model: 0.7647058823529411\n",
            "F1-score with Best Model: 0.8181818181818182\n",
            "AUC with Best Model: 0.7750000000000001\n",
            "Classification Report with Best Model:\n",
            "               precision    recall  f1-score   support\n",
            "\n",
            "           0       0.57      0.80      0.67         5\n",
            "           1       0.90      0.75      0.82        12\n",
            "\n",
            "    accuracy                           0.76        17\n",
            "   macro avg       0.74      0.78      0.74        17\n",
            "weighted avg       0.80      0.76      0.77        17\n",
            "\n"
          ]
        }
      ]
    },
    {
      "cell_type": "code",
      "source": [
        "import matplotlib.pyplot as plt\n",
        "from sklearn.metrics import roc_curve, roc_auc_score, auc\n",
        "\n",
        "fpr_par_lr, tpr_par_lr, _ = roc_curve(y_test, y_pred_par_lr)  # Logistic Regression\n",
        "fpr_par_rf, tpr_par_rf, _ = roc_curve(y_test, y_pred_best_par_rf)  # Random Forest\n",
        "fpr_par_svm_linear, tpr_par_svm_linear, _ = roc_curve(y_test, y_pred_best_par_svm_linear)\n",
        "fpr_par_svm_poly, tpr_par_svm_poly, _ = roc_curve(y_test, y_pred_best_par_svm_poly)  # SVM\n",
        "fpr_par_xgb, tpr_par_xgb, _ = roc_curve(y_test, y_pred_best_par_xgb)  # XGBoost\n",
        "\n",
        "\n",
        "# ROC 곡선 그리기\n",
        "plt.figure(figsize=(10, 8))\n",
        "plt.plot(fpr_par_lr, tpr_par_lr, label='Logistic Regression (AUC = %0.2f)' % auc_lr_ps)\n",
        "plt.plot(fpr_par_rf, tpr_par_rf, label='Random Forest (AUC = %0.2f)' % auc_best_par_rf)\n",
        "plt.plot(fpr_par_svm_linear, tpr_par_svm_linear, label='SVM Linear(AUC = %0.2f)' % auc_best_par_svm_linear)\n",
        "plt.plot(fpr_par_svm_poly, tpr_par_svm_poly, label='SVM Poly(AUC = %0.2f)' % auc_best_par_svm_poly)\n",
        "plt.plot(fpr_par_xgb, tpr_par_xgb, label='XGBoost (AUC = %0.2f)' % auc_best_par_xgb)\n",
        "\n",
        "plt.plot([0, 1], [0, 1], 'k--')\n",
        "plt.xlim([0.0, 1.0])\n",
        "plt.ylim([0.0, 1.05])\n",
        "plt.xlabel('False Positive Rate')\n",
        "plt.ylabel('True Positive Rate')\n",
        "plt.title('ROC Curve')\n",
        "plt.legend(loc=\"lower right\")\n",
        "plt.show()"
      ],
      "metadata": {
        "id": "EVhi_HJCp48j",
        "colab": {
          "base_uri": "https://localhost:8080/",
          "height": 718
        },
        "outputId": "0502ccb4-4329-4bce-edac-491edd4fa90e"
      },
      "execution_count": null,
      "outputs": [
        {
          "output_type": "display_data",
          "data": {
            "text/plain": [
              "<Figure size 1000x800 with 1 Axes>"
            ],
            "image/png": "[encoded data removed]"
          },
          "metadata": {}
        }
      ]
    },
    {
      "cell_type": "code",
      "source": [
        "### AUC 결과\n",
        "result = {'model':[\"logistic\",\"RandomForest\",\"SVM(Linear)\",\"SVM(Poly)\",\"XGBoost\"],\n",
        "          'f1_score':[f1_lr,f1_best_rf,f1_best_svm_linear,f1_best_svm_poly,f1_best_xgb],\n",
        "          'AUC':[auc_lr,auc_best_rf,auc_best_svm_linear,auc_best_svm_poly,auc_best_xgb],\n",
        "          'paretic_f1_score':[f1_lr_ps,f1_best_par_rf,f1_best_par_svm_linear,f1_best_par_svm_poly,f1_best_par_xgb],\n",
        "          'Paretic_AUC':[auc_lr_ps,auc_best_par_rf,auc_best_par_svm_linear,auc_best_par_svm_poly,auc_best_par_xgb]}\n"
      ],
      "metadata": {
        "id": "M2gFZ2mZhVjP"
      },
      "execution_count": null,
      "outputs": []
    },
    {
      "cell_type": "code",
      "source": [
        "result = pd.DataFrame(result)\n",
        "result"
      ],
      "metadata": {
        "id": "5520zG2GmcpK",
        "colab": {
          "base_uri": "https://localhost:8080/",
          "height": 206
        },
        "outputId": "797d7f43-cb1e-4f4f-b91e-6a789f2f392d"
      },
      "execution_count": null,
      "outputs": [
        {
          "output_type": "execute_result",
          "data": {
            "text/plain": [
              "          model  f1_score       AUC  paretic_f1_score  Paretic_AUC\n",
              "0      logistic  0.750000  0.575000          0.785714     0.458333\n",
              "1  RandomForest  0.827586  0.500000          0.827586     0.500000\n",
              "2   SVM(Linear)  0.769231  0.566667          0.800000     0.433333\n",
              "3     SVM(Poly)  0.827586  0.616667          0.827586     0.233333\n",
              "4       XGBoost  0.740741  0.416667          0.818182     0.775000"
            ],
            "text/html": [
              "\n",
              "  <div id=\"df-ed65672c-7154-4276-b4be-f34214cb15cb\" class=\"colab-df-container\">\n",
              "    <div>\n",
              "<style scoped>\n",
              "    .dataframe tbody tr th:only-of-type {\n",
              "        vertical-align: middle;\n",
              "    }\n",
              "\n",
              "    .dataframe tbody tr th {\n",
              "        vertical-align: top;\n",
              "    }\n",
              "\n",
              "    .dataframe thead th {\n",
              "        text-align: right;\n",
              "    }\n",
              "</style>\n",
              "<table border=\"1\" class=\"dataframe\">\n",
              "  <thead>\n",
              "    <tr style=\"text-align: right;\">\n",
              "      <th></th>\n",
              "      <th>model</th>\n",
              "      <th>f1_score</th>\n",
              "      <th>AUC</th>\n",
              "      <th>paretic_f1_score</th>\n",
              "      <th>Paretic_AUC</th>\n",
              "    </tr>\n",
              "  </thead>\n",
              "  <tbody>\n",
              "    <tr>\n",
              "      <th>0</th>\n",
              "      <td>logistic</td>\n",
              "      <td>0.750000</td>\n",
              "      <td>0.575000</td>\n",
              "      <td>0.785714</td>\n",
              "      <td>0.458333</td>\n",
              "    </tr>\n",
              "    <tr>\n",
              "      <th>1</th>\n",
              "      <td>RandomForest</td>\n",
              "      <td>0.827586</td>\n",
              "      <td>0.500000</td>\n",
              "      <td>0.827586</td>\n",
              "      <td>0.500000</td>\n",
              "    </tr>\n",
              "    <tr>\n",
              "      <th>2</th>\n",
              "      <td>SVM(Linear)</td>\n",
              "      <td>0.769231</td>\n",
              "      <td>0.566667</td>\n",
              "      <td>0.800000</td>\n",
              "      <td>0.433333</td>\n",
              "    </tr>\n",
              "    <tr>\n",
              "      <th>3</th>\n",
              "      <td>SVM(Poly)</td>\n",
              "      <td>0.827586</td>\n",
              "      <td>0.616667</td>\n",
              "      <td>0.827586</td>\n",
              "      <td>0.233333</td>\n",
              "    </tr>\n",
              "    <tr>\n",
              "      <th>4</th>\n",
              "      <td>XGBoost</td>\n",
              "      <td>0.740741</td>\n",
              "      <td>0.416667</td>\n",
              "      <td>0.818182</td>\n",
              "      <td>0.775000</td>\n",
              "    </tr>\n",
              "  </tbody>\n",
              "</table>\n",
              "</div>\n",
              "    <div class=\"colab-df-buttons\">\n",
              "\n",
              "  <div class=\"colab-df-container\">\n",
              "    <button class=\"colab-df-convert\" onclick=\"convertToInteractive('df-ed65672c-7154-4276-b4be-f34214cb15cb')\"\n",
              "            title=\"Convert this dataframe to an interactive table.\"\n",
              "            style=\"display:none;\">\n",
              "\n",
              "  <svg xmlns=\"http://www.w3.org/2000/svg\" height=\"24px\" viewBox=\"0 -960 960 960\">\n",
              "    <path d=\"M120-120v-720h720v720H120Zm60-500h600v-160H180v160Zm220 220h160v-160H400v160Zm0 220h160v-160H400v160ZM180-400h160v-160H180v160Zm440 0h160v-160H620v160ZM180-180h160v-160H180v160Zm440 0h160v-160H620v160Z\"/>\n",
              "  </svg>\n",
              "    </button>\n",
              "\n",
              "  <style>\n",
              "    .colab-df-container {\n",
              "      display:flex;\n",
              "      gap: 12px;\n",
              "    }\n",
              "\n",
              "    .colab-df-convert {\n",
              "      background-color: #E8F0FE;\n",
              "      border: none;\n",
              "      border-radius: 50%;\n",
              "      cursor: pointer;\n",
              "      display: none;\n",
              "      fill: #1967D2;\n",
              "      height: 32px;\n",
              "      padding: 0 0 0 0;\n",
              "      width: 32px;\n",
              "    }\n",
              "\n",
              "    .colab-df-convert:hover {\n",
              "      background-color: #E2EBFA;\n",
              "      box-shadow: 0px 1px 2px rgba(60, 64, 67, 0.3), 0px 1px 3px 1px rgba(60, 64, 67, 0.15);\n",
              "      fill: #174EA6;\n",
              "    }\n",
              "\n",
              "    .colab-df-buttons div {\n",
              "      margin-bottom: 4px;\n",
              "    }\n",
              "\n",
              "    [theme=dark] .colab-df-convert {\n",
              "      background-color: #3B4455;\n",
              "      fill: #D2E3FC;\n",
              "    }\n",
              "\n",
              "    [theme=dark] .colab-df-convert:hover {\n",
              "      background-color: #434B5C;\n",
              "      box-shadow: 0px 1px 3px 1px rgba(0, 0, 0, 0.15);\n",
              "      filter: drop-shadow(0px 1px 2px rgba(0, 0, 0, 0.3));\n",
              "      fill: #FFFFFF;\n",
              "    }\n",
              "  </style>\n",
              "\n",
              "    <script>\n",
              "      const buttonEl =\n",
              "        document.querySelector('#df-ed65672c-7154-4276-b4be-f34214cb15cb button.colab-df-convert');\n",
              "      buttonEl.style.display =\n",
              "        google.colab.kernel.accessAllowed ? 'block' : 'none';\n",
              "\n",
              "      async function convertToInteractive(key) {\n",
              "        const element = document.querySelector('#df-ed65672c-7154-4276-b4be-f34214cb15cb');\n",
              "        const dataTable =\n",
              "          await google.colab.kernel.invokeFunction('convertToInteractive',\n",
              "                                                    [key], {});\n",
              "        if (!dataTable) return;\n",
              "\n",
              "        const docLinkHtml = 'Like what you see? Visit the ' +\n",
              "          '<a target=\"_blank\" href=https://colab.research.google.com/notebooks/data_table.ipynb>data table notebook</a>'\n",
              "          + ' to learn more about interactive tables.';\n",
              "        element.innerHTML = '';\n",
              "        dataTable['output_type'] = 'display_data';\n",
              "        await google.colab.output.renderOutput(dataTable, element);\n",
              "        const docLink = document.createElement('div');\n",
              "        docLink.innerHTML = docLinkHtml;\n",
              "        element.appendChild(docLink);\n",
              "      }\n",
              "    </script>\n",
              "  </div>\n",
              "\n",
              "\n",
              "<div id=\"df-c71564aa-0d51-444f-acbb-b82d8ae74db0\">\n",
              "  <button class=\"colab-df-quickchart\" onclick=\"quickchart('df-c71564aa-0d51-444f-acbb-b82d8ae74db0')\"\n",
              "            title=\"Suggest charts\"\n",
              "            style=\"display:none;\">\n",
              "\n",
              "<svg xmlns=\"http://www.w3.org/2000/svg\" height=\"24px\"viewBox=\"0 0 24 24\"\n",
              "     width=\"24px\">\n",
              "    <g>\n",
              "        <path d=\"M19 3H5c-1.1 0-2 .9-2 2v14c0 1.1.9 2 2 2h14c1.1 0 2-.9 2-2V5c0-1.1-.9-2-2-2zM9 17H7v-7h2v7zm4 0h-2V7h2v10zm4 0h-2v-4h2v4z\"/>\n",
              "    </g>\n",
              "</svg>\n",
              "  </button>\n",
              "\n",
              "<style>\n",
              "  .colab-df-quickchart {\n",
              "      --bg-color: #E8F0FE;\n",
              "      --fill-color: #1967D2;\n",
              "      --hover-bg-color: #E2EBFA;\n",
              "      --hover-fill-color: #174EA6;\n",
              "      --disabled-fill-color: #AAA;\n",
              "      --disabled-bg-color: #DDD;\n",
              "  }\n",
              "\n",
              "  [theme=dark] .colab-df-quickchart {\n",
              "      --bg-color: #3B4455;\n",
              "      --fill-color: #D2E3FC;\n",
              "      --hover-bg-color: #434B5C;\n",
              "      --hover-fill-color: #FFFFFF;\n",
              "      --disabled-bg-color: #3B4455;\n",
              "      --disabled-fill-color: #666;\n",
              "  }\n",
              "\n",
              "  .colab-df-quickchart {\n",
              "    background-color: var(--bg-color);\n",
              "    border: none;\n",
              "    border-radius: 50%;\n",
              "    cursor: pointer;\n",
              "    display: none;\n",
              "    fill: var(--fill-color);\n",
              "    height: 32px;\n",
              "    padding: 0;\n",
              "    width: 32px;\n",
              "  }\n",
              "\n",
              "  .colab-df-quickchart:hover {\n",
              "    background-color: var(--hover-bg-color);\n",
              "    box-shadow: 0 1px 2px rgba(60, 64, 67, 0.3), 0 1px 3px 1px rgba(60, 64, 67, 0.15);\n",
              "    fill: var(--button-hover-fill-color);\n",
              "  }\n",
              "\n",
              "  .colab-df-quickchart-complete:disabled,\n",
              "  .colab-df-quickchart-complete:disabled:hover {\n",
              "    background-color: var(--disabled-bg-color);\n",
              "    fill: var(--disabled-fill-color);\n",
              "    box-shadow: none;\n",
              "  }\n",
              "\n",
              "  .colab-df-spinner {\n",
              "    border: 2px solid var(--fill-color);\n",
              "    border-color: transparent;\n",
              "    border-bottom-color: var(--fill-color);\n",
              "    animation:\n",
              "      spin 1s steps(1) infinite;\n",
              "  }\n",
              "\n",
              "  @keyframes spin {\n",
              "    0% {\n",
              "      border-color: transparent;\n",
              "      border-bottom-color: var(--fill-color);\n",
              "      border-left-color: var(--fill-color);\n",
              "    }\n",
              "    20% {\n",
              "      border-color: transparent;\n",
              "      border-left-color: var(--fill-color);\n",
              "      border-top-color: var(--fill-color);\n",
              "    }\n",
              "    30% {\n",
              "      border-color: transparent;\n",
              "      border-left-color: var(--fill-color);\n",
              "      border-top-color: var(--fill-color);\n",
              "      border-right-color: var(--fill-color);\n",
              "    }\n",
              "    40% {\n",
              "      border-color: transparent;\n",
              "      border-right-color: var(--fill-color);\n",
              "      border-top-color: var(--fill-color);\n",
              "    }\n",
              "    60% {\n",
              "      border-color: transparent;\n",
              "      border-right-color: var(--fill-color);\n",
              "    }\n",
              "    80% {\n",
              "      border-color: transparent;\n",
              "      border-right-color: var(--fill-color);\n",
              "      border-bottom-color: var(--fill-color);\n",
              "    }\n",
              "    90% {\n",
              "      border-color: transparent;\n",
              "      border-bottom-color: var(--fill-color);\n",
              "    }\n",
              "  }\n",
              "</style>\n",
              "\n",
              "  <script>\n",
              "    async function quickchart(key) {\n",
              "      const quickchartButtonEl =\n",
              "        document.querySelector('#' + key + ' button');\n",
              "      quickchartButtonEl.disabled = true;  // To prevent multiple clicks.\n",
              "      quickchartButtonEl.classList.add('colab-df-spinner');\n",
              "      try {\n",
              "        const charts = await google.colab.kernel.invokeFunction(\n",
              "            'suggestCharts', [key], {});\n",
              "      } catch (error) {\n",
              "        console.error('Error during call to suggestCharts:', error);\n",
              "      }\n",
              "      quickchartButtonEl.classList.remove('colab-df-spinner');\n",
              "      quickchartButtonEl.classList.add('colab-df-quickchart-complete');\n",
              "    }\n",
              "    (() => {\n",
              "      let quickchartButtonEl =\n",
              "        document.querySelector('#df-c71564aa-0d51-444f-acbb-b82d8ae74db0 button');\n",
              "      quickchartButtonEl.style.display =\n",
              "        google.colab.kernel.accessAllowed ? 'block' : 'none';\n",
              "    })();\n",
              "  </script>\n",
              "</div>\n",
              "    </div>\n",
              "  </div>\n"
            ]
          },
          "metadata": {},
          "execution_count": 32
        }
      ]
    },
    {
      "cell_type": "code",
      "source": [
        "# !jupyter nbconvert --to html \"/content/drive/MyDrive/Colab Notebooks/Angle.ipynb\""
      ],
      "metadata": {
        "id": "xODny4UMQxNC"
      },
      "execution_count": null,
      "outputs": []
    },
    {
      "cell_type": "code",
      "source": [],
      "metadata": {
        "id": "sgwe-OkKbOBp"
      },
      "execution_count": null,
      "outputs": []
    }
  ]
}