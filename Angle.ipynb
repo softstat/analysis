{
  "nbformat": 4,
  "nbformat_minor": 0,
  "metadata": {
    "colab": {
      "provenance": [],
      "authorship_tag": "ABX9TyOugcevPLhURqlcR5KmhJu8",
      "include_colab_link": true
    },
    "kernelspec": {
      "name": "python3",
      "display_name": "Python 3"
    },
    "language_info": {
      "name": "python"
    }
  },
  "cells": [
    {
      "cell_type": "markdown",
      "metadata": {
        "id": "view-in-github",
        "colab_type": "text"
      },
      "source": [
        "<a href=\"https://colab.research.google.com/github/softstat/analysis/blob/main/Angle.ipynb\" target=\"_parent\"><img src=\"https://colab.research.google.com/assets/colab-badge.svg\" alt=\"Open In Colab\"/></a>"
      ]
    },
    {
      "cell_type": "code",
      "execution_count": 1,
      "metadata": {
        "colab": {
          "base_uri": "https://localhost:8080/"
        },
        "id": "98VK-SuuNkIx",
        "outputId": "b6a3ced8-b226-4be6-8bbd-903bc1d86f5c"
      },
      "outputs": [
        {
          "output_type": "stream",
          "name": "stdout",
          "text": [
            "Mounted at /content/drive\n"
          ]
        }
      ],
      "source": [
        "from google.colab import drive\n",
        "drive.mount('/content/drive')"
      ]
    },
    {
      "cell_type": "code",
      "source": [
        "cd drive"
      ],
      "metadata": {
        "colab": {
          "base_uri": "https://localhost:8080/"
        },
        "id": "DRDJ0uEMNzSQ",
        "outputId": "32bca236-2565-433c-c4c1-ec34c3ab7ef5"
      },
      "execution_count": 2,
      "outputs": [
        {
          "output_type": "stream",
          "name": "stdout",
          "text": [
            "/content/drive\n"
          ]
        }
      ]
    },
    {
      "cell_type": "code",
      "source": [
        "cd MyDrive"
      ],
      "metadata": {
        "colab": {
          "base_uri": "https://localhost:8080/"
        },
        "id": "LXYtwAhyN-G2",
        "outputId": "6f26ec99-b0bb-4f05-81f8-b0a0cc823ee0"
      },
      "execution_count": 3,
      "outputs": [
        {
          "output_type": "stream",
          "name": "stdout",
          "text": [
            "/content/drive/MyDrive\n"
          ]
        }
      ]
    },
    {
      "cell_type": "code",
      "source": [
        "cd Data"
      ],
      "metadata": {
        "colab": {
          "base_uri": "https://localhost:8080/"
        },
        "id": "nQu45800OBnK",
        "outputId": "f39a0e4f-90a4-4727-9f2e-de41b9c42512"
      },
      "execution_count": 4,
      "outputs": [
        {
          "output_type": "stream",
          "name": "stdout",
          "text": [
            "/content/drive/MyDrive/Data\n"
          ]
        }
      ]
    },
    {
      "cell_type": "code",
      "source": [
        "ls"
      ],
      "metadata": {
        "colab": {
          "base_uri": "https://localhost:8080/"
        },
        "id": "MhcIcbTrOCzG",
        "outputId": "8cd87312-6af7-49ed-c5e4-b798920dc671"
      },
      "execution_count": 5,
      "outputs": [
        {
          "output_type": "stream",
          "name": "stdout",
          "text": [
            " angle_gait.csv              data.csv            weather.csv\n",
            "'Clinical Assessment.xlsx'   titanic_train.csv\n"
          ]
        }
      ]
    },
    {
      "cell_type": "code",
      "source": [
        "import pandas as pd\n",
        "angle = pd.read_csv('angle_gait.csv')\n",
        "clinical_assessment = pd.read_excel('Clinical Assessment.xlsx')"
      ],
      "metadata": {
        "id": "0hhulw_EODVG"
      },
      "execution_count": 6,
      "outputs": []
    },
    {
      "cell_type": "code",
      "source": [
        "angle.drop('Unnamed: 0',axis=1,inplace=True)"
      ],
      "metadata": {
        "id": "4NMcAhwFOJMp"
      },
      "execution_count": 7,
      "outputs": []
    },
    {
      "cell_type": "code",
      "source": [
        "import pandas as pd\n",
        "from sklearn.decomposition import PCA\n",
        "from sklearn.model_selection import train_test_split\n",
        "from sklearn.linear_model import LogisticRegression\n",
        "from sklearn.ensemble import RandomForestClassifier\n",
        "from sklearn.svm import SVC\n",
        "from xgboost import XGBClassifier\n",
        "from sklearn.discriminant_analysis import LinearDiscriminantAnalysis as LDA\n",
        "from sklearn.metrics import confusion_matrix, roc_auc_score, roc_curve\n",
        "from sklearn.model_selection import GridSearchCV\n",
        "from sklearn.preprocessing import StandardScaler\n",
        "from sklearn.metrics import f1_score\n",
        "from sklearn.metrics import accuracy_score\n",
        "from sklearn.feature_selection import SelectKBest\n",
        "from sklearn.feature_selection import f_classif\n",
        "import warnings\n",
        "from sklearn.feature_selection import RFE\n",
        "from sklearn.metrics import accuracy_score, classification_report"
      ],
      "metadata": {
        "id": "sOS1cNMDT7Mf"
      },
      "execution_count": 8,
      "outputs": []
    },
    {
      "cell_type": "code",
      "source": [
        "warnings.filterwarnings(action='ignore')"
      ],
      "metadata": {
        "id": "ZMolryQYSmuk"
      },
      "execution_count": 9,
      "outputs": []
    },
    {
      "cell_type": "code",
      "source": [
        "def perform_pca(data, num_components):\n",
        "    scaler = StandardScaler()\n",
        "    scaled_data = scaler.fit_transform(data)\n",
        "    pca = PCA(n_components=num_components)\n",
        "    pca_result = pca.fit_transform(scaled_data)\n",
        "    return pca_result"
      ],
      "metadata": {
        "id": "pVcB4nqlUCWT"
      },
      "execution_count": 10,
      "outputs": []
    },
    {
      "cell_type": "code",
      "source": [
        "col = angle.columns\n",
        "col = col.str.replace('[^\\w\\s]', '', regex=True)\n",
        "angle.columns = col\n",
        "num_components = 43"
      ],
      "metadata": {
        "id": "4cEr_CT4UGF_"
      },
      "execution_count": 11,
      "outputs": []
    },
    {
      "cell_type": "code",
      "source": [
        "angle = angle.dropna()\n",
        "na_sum = angle.isna().sum()"
      ],
      "metadata": {
        "id": "wlISc1Lzd4tD"
      },
      "execution_count": 12,
      "outputs": []
    },
    {
      "cell_type": "code",
      "source": [
        "import random\n",
        "random.seed(1)\n",
        "total_angle_gait_pca = angle.copy()\n",
        "total_angle_model = PCA(n_components=num_components)\n",
        "total_angle_result = total_angle_model.fit_transform(total_angle_gait_pca)"
      ],
      "metadata": {
        "id": "kTCcpUeaUK-P"
      },
      "execution_count": 13,
      "outputs": []
    },
    {
      "cell_type": "code",
      "source": [
        "total_angle_result"
      ],
      "metadata": {
        "colab": {
          "base_uri": "https://localhost:8080/"
        },
        "id": "AddrhzTpUZgH",
        "outputId": "bea49136-e40a-418c-83d9-92ef23f9142b"
      },
      "execution_count": 14,
      "outputs": [
        {
          "output_type": "execute_result",
          "data": {
            "text/plain": [
              "array([[-1.69715644e+02,  2.78757824e+01,  1.24143094e+02, ...,\n",
              "        -3.92471603e+00,  2.51926619e+00,  8.50845056e-14],\n",
              "       [-2.23333375e+02, -1.54750144e+01,  4.69437877e+01, ...,\n",
              "        -4.22573239e-01,  3.29514125e+00,  8.50845056e-14],\n",
              "       [ 6.22312161e+01, -1.43502742e+01,  5.24627212e+02, ...,\n",
              "        -6.68759815e-01,  2.06298071e+00,  8.50845056e-14],\n",
              "       ...,\n",
              "       [ 2.16404983e+02,  2.36416445e+02, -8.90716272e+01, ...,\n",
              "         2.55564438e-02,  7.50927346e+00,  8.50845056e-14],\n",
              "       [-1.13801129e+01, -3.60015911e+01, -4.82583542e+01, ...,\n",
              "         1.01146215e+01,  5.30972112e+00,  8.50845056e-14],\n",
              "       [ 3.27822467e+01, -1.90162479e+02,  1.36776906e+02, ...,\n",
              "         4.80209806e+00,  6.26140866e+00,  8.50845056e-14]])"
            ]
          },
          "metadata": {},
          "execution_count": 14
        }
      ]
    },
    {
      "cell_type": "code",
      "source": [
        "import numpy as np\n",
        "angle = np.array(angle)\n",
        "non_angle = angle[:,0:2424]"
      ],
      "metadata": {
        "id": "s6NuCfd1eTIO"
      },
      "execution_count": 15,
      "outputs": []
    },
    {
      "cell_type": "code",
      "source": [
        "random.seed(123)\n",
        "non_angle_model = PCA(n_components=num_components)\n",
        "non_angle_result = non_angle_model.fit_transform(non_angle)"
      ],
      "metadata": {
        "id": "AiebPadie8tT"
      },
      "execution_count": 16,
      "outputs": []
    },
    {
      "cell_type": "code",
      "source": [
        "non_angle_result.shape"
      ],
      "metadata": {
        "colab": {
          "base_uri": "https://localhost:8080/"
        },
        "id": "LwXPOl3yhgCL",
        "outputId": "7a4e96b0-d64b-4117-ae13-d622a80fc515"
      },
      "execution_count": 17,
      "outputs": [
        {
          "output_type": "execute_result",
          "data": {
            "text/plain": [
              "(43, 43)"
            ]
          },
          "metadata": {},
          "execution_count": 17
        }
      ]
    },
    {
      "cell_type": "code",
      "source": [
        "par_angle = angle[:,2525:4848]\n",
        "random.seed(123)\n",
        "par_angle_model = PCA(n_components=num_components)\n",
        "par_angle_result = par_angle_model.fit_transform(par_angle)"
      ],
      "metadata": {
        "id": "PP4xFRIZfvex"
      },
      "execution_count": 18,
      "outputs": []
    },
    {
      "cell_type": "code",
      "source": [
        "score = clinical_assessment.iloc[:,9]"
      ],
      "metadata": {
        "id": "Tdpok48uhZpk"
      },
      "execution_count": 19,
      "outputs": []
    },
    {
      "cell_type": "code",
      "source": [
        "score = score.dropna()\n",
        "del score[0]\n",
        "del score[15]"
      ],
      "metadata": {
        "id": "AJadJlbSjOH_"
      },
      "execution_count": 20,
      "outputs": []
    },
    {
      "cell_type": "code",
      "source": [
        "y = []\n",
        "for value in score:\n",
        "    if value >= 45:\n",
        "        y.append(1)\n",
        "    else:\n",
        "        y.append(0)\n",
        "print(y)"
      ],
      "metadata": {
        "colab": {
          "base_uri": "https://localhost:8080/"
        },
        "id": "QwYQTMIPm8Na",
        "outputId": "6ea1b8d0-83ca-4e59-c4fa-be413a714489"
      },
      "execution_count": 21,
      "outputs": [
        {
          "output_type": "stream",
          "name": "stdout",
          "text": [
            "[0, 1, 1, 1, 0, 0, 1, 1, 1, 0, 1, 0, 0, 1, 1, 0, 0, 1, 1, 1, 0, 0, 1, 0, 1, 1, 0, 1, 1, 1, 1, 1, 1, 0, 1, 1, 1, 1, 1, 1, 1, 1, 0]\n"
          ]
        }
      ]
    },
    {
      "cell_type": "markdown",
      "source": [
        "## Non-paretic Side"
      ],
      "metadata": {
        "id": "JSSzXrGY96iI"
      }
    },
    {
      "cell_type": "code",
      "source": [
        "df_non = pd.DataFrame(non_angle_result)"
      ],
      "metadata": {
        "id": "JsPFHwjPs6Nc"
      },
      "execution_count": 22,
      "outputs": []
    },
    {
      "cell_type": "code",
      "source": [
        "y = pd.DataFrame(y)"
      ],
      "metadata": {
        "id": "llaQpSJBt47Z"
      },
      "execution_count": 23,
      "outputs": []
    },
    {
      "cell_type": "code",
      "source": [
        "non = pd.concat([y,df_non],axis=1)"
      ],
      "metadata": {
        "id": "ogLfBjR2uFA3"
      },
      "execution_count": 24,
      "outputs": []
    },
    {
      "cell_type": "code",
      "source": [
        "non.columns = ['PC'+ str(i) for i in range(0,44)]"
      ],
      "metadata": {
        "id": "IGrsQTFQv35s"
      },
      "execution_count": 25,
      "outputs": []
    },
    {
      "cell_type": "code",
      "source": [
        "colname = list(non.columns)\n",
        "colname[0] = \"score\"\n",
        "non.columns = colname\n",
        "non.columns"
      ],
      "metadata": {
        "colab": {
          "base_uri": "https://localhost:8080/"
        },
        "id": "KDH0f19zwv2X",
        "outputId": "51cce636-4978-46c3-bbb6-58622b32cff6"
      },
      "execution_count": 26,
      "outputs": [
        {
          "output_type": "execute_result",
          "data": {
            "text/plain": [
              "Index(['score', 'PC1', 'PC2', 'PC3', 'PC4', 'PC5', 'PC6', 'PC7', 'PC8', 'PC9',\n",
              "       'PC10', 'PC11', 'PC12', 'PC13', 'PC14', 'PC15', 'PC16', 'PC17', 'PC18',\n",
              "       'PC19', 'PC20', 'PC21', 'PC22', 'PC23', 'PC24', 'PC25', 'PC26', 'PC27',\n",
              "       'PC28', 'PC29', 'PC30', 'PC31', 'PC32', 'PC33', 'PC34', 'PC35', 'PC36',\n",
              "       'PC37', 'PC38', 'PC39', 'PC40', 'PC41', 'PC42', 'PC43'],\n",
              "      dtype='object')"
            ]
          },
          "metadata": {},
          "execution_count": 26
        }
      ]
    },
    {
      "cell_type": "code",
      "source": [
        "X = non.loc[:,'PC1':'PC43']\n",
        "y = non['score']\n",
        "X_train , X_test , y_train , y_test  = train_test_split(X,y,test_size = 0.4,random_state=123)"
      ],
      "metadata": {
        "id": "Jf5TVztFllwt"
      },
      "execution_count": 27,
      "outputs": []
    },
    {
      "cell_type": "markdown",
      "source": [
        "### logistic regression\n",
        "- f1-score : 0.777"
      ],
      "metadata": {
        "id": "c-EUa6cL_B7j"
      }
    },
    {
      "cell_type": "code",
      "source": [
        "from sklearn.feature_selection import RFECV\n",
        "lr_model = LogisticRegression()\n",
        "\n",
        "# RFECV를 사용하여 최적의 특성 선택\n",
        "rfecv = RFECV(estimator=lr_model, cv=5)\n",
        "X_train_rfecv = rfecv.fit_transform(X_train, y_train)\n",
        "\n",
        "# 선택된 특성으로 모델 학습\n",
        "lr_model.fit(X_train_rfecv, y_train)\n",
        "\n",
        "# 테스트 데이터에도 선택된 특성을 적용\n",
        "X_test_rfecv = rfecv.transform(X_test)\n",
        "\n",
        "# 테스트 데이터에 대한 예측\n",
        "y_pred_lr = lr_model.predict(X_test_rfecv)\n",
        "\n",
        "conf_matrix = confusion_matrix(y_test, y_pred_lr)\n",
        "print(\"Confusion Matrix:\\n\", conf_matrix)\n",
        "# 정확도 계산\n",
        "accuracy_lr = accuracy_score(y_test, y_pred_lr)\n",
        "print(\"Test Accuracy:\", accuracy_lr)\n",
        "\n",
        "# f1-score 계산\n",
        "f1_lr = f1_score(y_test, y_pred_lr)\n",
        "print(\"f1-score:\", f1_lr)\n",
        "\n",
        "# auc 계산\n",
        "auc_lr = roc_auc_score(y_test,y_pred_lr)\n",
        "print(\"AUC:\",auc_lr)\n",
        "\n",
        "# 분류 보고서 출력 (정밀도, 재현율, F1 점수 등)\n",
        "classification_rep_lr = classification_report(y_test, y_pred_lr)\n",
        "print(\"Classification Report:\\n\", classification_rep_lr)\n",
        "\n",
        "# 최적의 특성 개수 출력\n",
        "print(\"Optimal Number of Features:\", rfecv.n_features_)"
      ],
      "metadata": {
        "colab": {
          "base_uri": "https://localhost:8080/"
        },
        "id": "hdqSImHyS90Q",
        "outputId": "4535c345-14fb-4fa9-d293-4f5aaf10812f"
      },
      "execution_count": 29,
      "outputs": [
        {
          "output_type": "stream",
          "name": "stdout",
          "text": [
            "Confusion Matrix:\n",
            " [[7 0]\n",
            " [4 7]]\n",
            "Test Accuracy: 0.7777777777777778\n",
            "f1-score: 0.7777777777777778\n",
            "AUC: 0.8181818181818181\n",
            "Classification Report:\n",
            "               precision    recall  f1-score   support\n",
            "\n",
            "           0       0.64      1.00      0.78         7\n",
            "           1       1.00      0.64      0.78        11\n",
            "\n",
            "    accuracy                           0.78        18\n",
            "   macro avg       0.82      0.82      0.78        18\n",
            "weighted avg       0.86      0.78      0.78        18\n",
            "\n",
            "Optimal Number of Features: 6\n"
          ]
        }
      ]
    },
    {
      "cell_type": "markdown",
      "source": [
        "### Random Forest\n",
        "- f1-score : 0.861"
      ],
      "metadata": {
        "id": "BlZbG2hX_Fhx"
      }
    },
    {
      "cell_type": "code",
      "source": [
        "from sklearn.feature_selection import RFECV\n",
        "rf_model = RandomForestClassifier(n_estimators=100,random_state=123)\n",
        "\n",
        "# RFECV를 사용하여 최적의 특성 선택\n",
        "rfecv = RFECV(estimator=rf_model, cv=5)\n",
        "X_train_rfecv = rfecv.fit_transform(X_train, y_train)\n",
        "\n",
        "# 선택된 특성으로 모델 학습\n",
        "rf_model.fit(X_train_rfecv, y_train)\n",
        "\n",
        "# 테스트 데이터에도 선택된 특성을 적용\n",
        "X_test_rfecv = rfecv.transform(X_test)\n",
        "\n",
        "# 테스트 데이터에 대한 예측\n",
        "y_pred_rf = rf_model.predict(X_test_rfecv)\n",
        "\n",
        "conf_matrix = confusion_matrix(y_test, y_pred_rf)\n",
        "print(\"Confusion Matrix:\\n\", conf_matrix)\n",
        "\n",
        "# 정확도 계산\n",
        "accuracy_rf = accuracy_score(y_test, y_pred_rf)\n",
        "print(\"Test Accuracy:\", accuracy_rf)\n",
        "\n",
        "# f1-score 계산\n",
        "f1_rf = f1_score(y_test, y_pred_rf)\n",
        "print(\"f1-score:\", f1_rf)\n",
        "\n",
        "# AUC 계산\n",
        "auc_rf = roc_auc_score(y_test,y_pred_rf)\n",
        "print(\"AUC:\",auc_rf)\n",
        "\n",
        "\n",
        "# 분류 보고서 출력 (정밀도, 재현율, F1 점수 등)\n",
        "classification_rep_rf = classification_report(y_test, y_pred_rf)\n",
        "print(\"Classification Report:\\n\", classification_rep_rf)\n",
        "\n",
        "# 최적의 특성 개수 출력\n",
        "print(\"Optimal Number of Features:\", rfecv.n_features_)"
      ],
      "metadata": {
        "colab": {
          "base_uri": "https://localhost:8080/"
        },
        "id": "b2ZcJHuQVn2h",
        "outputId": "e067dff0-1987-43d2-d6a6-d39f029b8eb0"
      },
      "execution_count": 30,
      "outputs": [
        {
          "output_type": "stream",
          "name": "stdout",
          "text": [
            "Confusion Matrix:\n",
            " [[ 3  4]\n",
            " [ 0 11]]\n",
            "Test Accuracy: 0.7777777777777778\n",
            "f1-score: 0.846153846153846\n",
            "AUC: 0.7142857142857143\n",
            "Classification Report:\n",
            "               precision    recall  f1-score   support\n",
            "\n",
            "           0       1.00      0.43      0.60         7\n",
            "           1       0.73      1.00      0.85        11\n",
            "\n",
            "    accuracy                           0.78        18\n",
            "   macro avg       0.87      0.71      0.72        18\n",
            "weighted avg       0.84      0.78      0.75        18\n",
            "\n",
            "Optimal Number of Features: 5\n"
          ]
        }
      ]
    },
    {
      "cell_type": "markdown",
      "source": [
        "### SVM\n",
        "- f1-score : 0.909"
      ],
      "metadata": {
        "id": "xsGv8kVa_NdT"
      }
    },
    {
      "cell_type": "code",
      "source": [
        "from sklearn.feature_selection import RFECV\n",
        "svm_model = SVC(kernel='linear',random_state=123)\n",
        "\n",
        "# RFECV를 사용하여 최적의 특성 선택\n",
        "rfecv = RFECV(estimator=rf_model, cv=5)\n",
        "X_train_rfecv = rfecv.fit_transform(X_train, y_train)\n",
        "\n",
        "# 선택된 특성으로 모델 학습\n",
        "svm_model.fit(X_train_rfecv, y_train)\n",
        "\n",
        "# 테스트 데이터에도 선택된 특성을 적용\n",
        "X_test_rfecv = rfecv.transform(X_test)\n",
        "\n",
        "# 테스트 데이터에 대한 예측\n",
        "y_pred_svm = svm_model.predict(X_test_rfecv)\n",
        "\n",
        "conf_matrix = confusion_matrix(y_test, y_pred_svm)\n",
        "print(\"Confusion Matrix:\\n\", conf_matrix)\n",
        "\n",
        "# 정확도 계산\n",
        "accuracy_svm = accuracy_score(y_test, y_pred_svm)\n",
        "print(\"Test Accuracy:\", accuracy_svm)\n",
        "\n",
        "# f1-score 계산\n",
        "f1_svm = f1_score(y_test, y_pred_svm)\n",
        "print(\"f1-score:\", f1_svm)\n",
        "\n",
        "# AUC 계산\n",
        "auc_svm = roc_auc_score(y_test,y_pred_svm)\n",
        "print(\"AUC:\",auc_svm)\n",
        "\n",
        "# 분류 보고서 출력 (정밀도, 재현율, F1 점수 등)\n",
        "classification_rep_svm = classification_report(y_test, y_pred_svm)\n",
        "print(\"Classification Report:\\n\", classification_rep_svm)\n",
        "\n",
        "# 최적의 특성 개수 출력\n",
        "print(\"Optimal Number of Features:\", rfecv.n_features_)"
      ],
      "metadata": {
        "colab": {
          "base_uri": "https://localhost:8080/"
        },
        "id": "Dju3eI8S_M4Y",
        "outputId": "0649e20c-c0ce-40cf-b6dd-01f6cf64f593"
      },
      "execution_count": 31,
      "outputs": [
        {
          "output_type": "stream",
          "name": "stdout",
          "text": [
            "Confusion Matrix:\n",
            " [[ 6  1]\n",
            " [ 1 10]]\n",
            "Test Accuracy: 0.8888888888888888\n",
            "f1-score: 0.9090909090909091\n",
            "AUC: 0.8831168831168832\n",
            "Classification Report:\n",
            "               precision    recall  f1-score   support\n",
            "\n",
            "           0       0.86      0.86      0.86         7\n",
            "           1       0.91      0.91      0.91        11\n",
            "\n",
            "    accuracy                           0.89        18\n",
            "   macro avg       0.88      0.88      0.88        18\n",
            "weighted avg       0.89      0.89      0.89        18\n",
            "\n",
            "Optimal Number of Features: 5\n"
          ]
        }
      ]
    },
    {
      "cell_type": "markdown",
      "source": [
        "### XGBoost\n",
        "- f1-score: 0.88"
      ],
      "metadata": {
        "id": "AbxWhSSo_RKA"
      }
    },
    {
      "cell_type": "code",
      "source": [
        "from sklearn.feature_selection import RFECV\n",
        "import xgboost as xgb\n",
        "xgb_model = xgb.XGBClassifier(random_state=123)\n",
        "\n",
        "# RFECV를 사용하여 최적의 특성 선택\n",
        "rfecv = RFECV(estimator=rf_model, cv=5)\n",
        "X_train_rfecv = rfecv.fit_transform(X_train, y_train)\n",
        "\n",
        "# 선택된 특성으로 모델 학습\n",
        "xgb_model.fit(X_train_rfecv, y_train)\n",
        "\n",
        "# 테스트 데이터에도 선택된 특성을 적용\n",
        "X_test_rfecv = rfecv.transform(X_test)\n",
        "\n",
        "# 테스트 데이터에 대한 예측\n",
        "y_pred_xgb = xgb_model.predict(X_test_rfecv)\n",
        "\n",
        "conf_matrix = confusion_matrix(y_test, y_pred_xgb)\n",
        "print(\"Confusion Matrix:\\n\", conf_matrix)\n",
        "\n",
        "# 정확도 계산\n",
        "accuracy_xgb = accuracy_score(y_test, y_pred_xgb)\n",
        "print(\"Test Accuracy:\", accuracy_xgb)\n",
        "\n",
        "# f1-score 계산\n",
        "f1_xgb = f1_score(y_test, y_pred_xgb)\n",
        "print(\"f1-score:\", f1_xgb)\n",
        "\n",
        "# AUC 계산\n",
        "auc_xgb = roc_auc_score(y_test,y_pred_xgb)\n",
        "print(\"AUC:\",auc_xgb)\n",
        "\n",
        "# 분류 보고서 출력 (정밀도, 재현율, F1 점수 등)\n",
        "classification_rep_xgb = classification_report(y_test, y_pred_xgb)\n",
        "print(\"Classification Report:\\n\", classification_rep_xgb)\n",
        "\n",
        "# 최적의 특성 개수 출력\n",
        "print(\"Optimal Number of Features:\", rfecv.n_features_)"
      ],
      "metadata": {
        "id": "71QM59Gy_QwB",
        "colab": {
          "base_uri": "https://localhost:8080/"
        },
        "outputId": "61f41613-bc05-42b1-bcf1-c5b66dee9cd5"
      },
      "execution_count": 32,
      "outputs": [
        {
          "output_type": "stream",
          "name": "stdout",
          "text": [
            "Confusion Matrix:\n",
            " [[ 4  3]\n",
            " [ 0 11]]\n",
            "Test Accuracy: 0.8333333333333334\n",
            "f1-score: 0.88\n",
            "AUC: 0.7857142857142857\n",
            "Classification Report:\n",
            "               precision    recall  f1-score   support\n",
            "\n",
            "           0       1.00      0.57      0.73         7\n",
            "           1       0.79      1.00      0.88        11\n",
            "\n",
            "    accuracy                           0.83        18\n",
            "   macro avg       0.89      0.79      0.80        18\n",
            "weighted avg       0.87      0.83      0.82        18\n",
            "\n",
            "Optimal Number of Features: 5\n"
          ]
        }
      ]
    },
    {
      "cell_type": "markdown",
      "source": [
        "### LDA\n",
        "- f1-score : 0.870"
      ],
      "metadata": {
        "id": "cP65SQaN_Ujg"
      }
    },
    {
      "cell_type": "code",
      "source": [
        "# LDA 모델\n",
        "from sklearn.discriminant_analysis import LinearDiscriminantAnalysis\n",
        "lda_model = LinearDiscriminantAnalysis()\n",
        "# RFECV를 사용하여 최적의 특성 선택\n",
        "rfecv = RFECV(estimator=rf_model, cv=5)\n",
        "X_train_rfecv = rfecv.fit_transform(X_train, y_train)\n",
        "\n",
        "# 선택된 특성으로 모델 학습\n",
        "lda_model.fit(X_train_rfecv, y_train)\n",
        "\n",
        "# 테스트 데이터에도 선택된 특성을 적용\n",
        "X_test_rfecv = rfecv.transform(X_test)\n",
        "\n",
        "# 테스트 데이터에 대한 예측\n",
        "y_pred_lda = lda_model.predict(X_test_rfecv)\n",
        "\n",
        "conf_matrix = confusion_matrix(y_test, y_pred_lda)\n",
        "print(\"Confusion Matrix:\\n\", conf_matrix)\n",
        "\n",
        "# 정확도 계산\n",
        "accuracy_lda = accuracy_score(y_test, y_pred_lda)\n",
        "print(\"Test Accuracy:\", accuracy_lda)\n",
        "\n",
        "# f1-score 계산\n",
        "f1_lda = f1_score(y_test, y_pred_lda)\n",
        "print(\"f1-score:\", f1_lda)\n",
        "\n",
        "# AUC 계산\n",
        "auc_lda = roc_auc_score(y_test,y_pred_lda)\n",
        "print(\"AUC:\",auc_lda)\n",
        "\n",
        "# 분류 보고서 출력 (정밀도, 재현율, F1 점수 등)\n",
        "classification_rep_lda = classification_report(y_test, y_pred_lda)\n",
        "print(\"Classification Report:\\n\", classification_rep_lda)\n",
        "\n",
        "# 최적의 특성 개수 출력\n",
        "print(\"Optimal Number of Features:\", rfecv.n_features_)"
      ],
      "metadata": {
        "id": "dR_D943g_UIL",
        "colab": {
          "base_uri": "https://localhost:8080/"
        },
        "outputId": "a3a3ac19-c3cc-43d5-d63f-9ef8d6e360f5"
      },
      "execution_count": 33,
      "outputs": [
        {
          "output_type": "stream",
          "name": "stdout",
          "text": [
            "Confusion Matrix:\n",
            " [[ 5  2]\n",
            " [ 1 10]]\n",
            "Test Accuracy: 0.8333333333333334\n",
            "f1-score: 0.8695652173913043\n",
            "AUC: 0.8116883116883118\n",
            "Classification Report:\n",
            "               precision    recall  f1-score   support\n",
            "\n",
            "           0       0.83      0.71      0.77         7\n",
            "           1       0.83      0.91      0.87        11\n",
            "\n",
            "    accuracy                           0.83        18\n",
            "   macro avg       0.83      0.81      0.82        18\n",
            "weighted avg       0.83      0.83      0.83        18\n",
            "\n",
            "Optimal Number of Features: 5\n"
          ]
        }
      ]
    },
    {
      "cell_type": "markdown",
      "source": [
        "## paretic-Side"
      ],
      "metadata": {
        "id": "YdRdHm2b4hpG"
      }
    },
    {
      "cell_type": "code",
      "source": [
        "df_par = pd.DataFrame(par_angle_result)\n",
        "y = pd.DataFrame(y)\n",
        "par = pd.concat([y,df_par],axis=1)\n",
        "par.columns = ['PC'+ str(i) for i in range(0,44)]\n",
        "colname = list(par.columns)\n",
        "colname[0] = \"score\"\n",
        "par.columns = colname\n",
        "par.columns"
      ],
      "metadata": {
        "id": "vMCizY8R4hQ7",
        "colab": {
          "base_uri": "https://localhost:8080/"
        },
        "outputId": "e8730f4a-f649-4b77-ed77-2417b483fd95"
      },
      "execution_count": 34,
      "outputs": [
        {
          "output_type": "execute_result",
          "data": {
            "text/plain": [
              "Index(['score', 'PC1', 'PC2', 'PC3', 'PC4', 'PC5', 'PC6', 'PC7', 'PC8', 'PC9',\n",
              "       'PC10', 'PC11', 'PC12', 'PC13', 'PC14', 'PC15', 'PC16', 'PC17', 'PC18',\n",
              "       'PC19', 'PC20', 'PC21', 'PC22', 'PC23', 'PC24', 'PC25', 'PC26', 'PC27',\n",
              "       'PC28', 'PC29', 'PC30', 'PC31', 'PC32', 'PC33', 'PC34', 'PC35', 'PC36',\n",
              "       'PC37', 'PC38', 'PC39', 'PC40', 'PC41', 'PC42', 'PC43'],\n",
              "      dtype='object')"
            ]
          },
          "metadata": {},
          "execution_count": 34
        }
      ]
    },
    {
      "cell_type": "code",
      "source": [
        "random.seed(1)\n",
        "X = par.loc[:,'PC1':'PC30']\n",
        "y = par['score']\n",
        "X_train , X_test , y_train , y_test  = train_test_split(X,y,test_size = 0.4,random_state=123)"
      ],
      "metadata": {
        "id": "Ux9MaXYJ4tav"
      },
      "execution_count": 35,
      "outputs": []
    },
    {
      "cell_type": "code",
      "source": [
        "k_best = SelectKBest(f_classif, k=20)  # 예제로 20개의 최상위 특성 선택\n",
        "X_train_selected = k_best.fit_transform(X_train, y_train)\n",
        "X_test_selected = k_best.transform(X_test)"
      ],
      "metadata": {
        "id": "EukGTeag4zNL"
      },
      "execution_count": 36,
      "outputs": []
    },
    {
      "cell_type": "markdown",
      "source": [
        "### logistic regression\n",
        "- f1-score : 0.583"
      ],
      "metadata": {
        "id": "etZAizsY-eiw"
      }
    },
    {
      "cell_type": "code",
      "source": [
        "from sklearn.feature_selection import RFECV\n",
        "lr_model = LogisticRegression()\n",
        "\n",
        "# RFECV를 사용하여 최적의 특성 선택\n",
        "rfecv = RFECV(estimator=lr_model, cv=5)\n",
        "X_train_rfecv = rfecv.fit_transform(X_train, y_train)\n",
        "\n",
        "# 선택된 특성으로 모델 학습\n",
        "lr_model.fit(X_train_rfecv, y_train)\n",
        "\n",
        "# 테스트 데이터에도 선택된 특성을 적용\n",
        "X_test_rfecv = rfecv.transform(X_test)\n",
        "\n",
        "# 테스트 데이터에 대한 예측\n",
        "y_pred_lr = lr_model.predict(X_test_rfecv)\n",
        "\n",
        "conf_matrix = confusion_matrix(y_test, y_pred_lr)\n",
        "print(\"Confusion Matrix:\\n\", conf_matrix)\n",
        "# 정확도 계산\n",
        "accuracy_lr = accuracy_score(y_test, y_pred_lr)\n",
        "print(\"Test Accuracy:\", accuracy_lr)\n",
        "\n",
        "# f1-score 계산\n",
        "f1_lr = f1_score(y_test, y_pred_lr)\n",
        "print(\"f1-score:\", f1_lr)\n",
        "\n",
        "# AUC 계산\n",
        "auc_lr = roc_auc_score(y_test,y_pred_lr)\n",
        "print(\"AUC:\",auc_lr)\n",
        "\n",
        "# 분류 보고서 출력 (정밀도, 재현율, F1 점수 등)\n",
        "classification_rep_lr = classification_report(y_test, y_pred_lr)\n",
        "print(\"Classification Report:\\n\", classification_rep_lr)\n",
        "\n",
        "# 최적의 특성 개수 출력\n",
        "print(\"Optimal Number of Features:\", rfecv.n_features_)"
      ],
      "metadata": {
        "colab": {
          "base_uri": "https://localhost:8080/"
        },
        "id": "cIJBpDcsZfHt",
        "outputId": "97b45223-444f-4b6a-f44b-519134959776"
      },
      "execution_count": 37,
      "outputs": [
        {
          "output_type": "stream",
          "name": "stdout",
          "text": [
            "Confusion Matrix:\n",
            " [[1 6]\n",
            " [4 7]]\n",
            "Test Accuracy: 0.4444444444444444\n",
            "f1-score: 0.5833333333333334\n",
            "AUC: 0.38961038961038963\n",
            "Classification Report:\n",
            "               precision    recall  f1-score   support\n",
            "\n",
            "           0       0.20      0.14      0.17         7\n",
            "           1       0.54      0.64      0.58        11\n",
            "\n",
            "    accuracy                           0.44        18\n",
            "   macro avg       0.37      0.39      0.38        18\n",
            "weighted avg       0.41      0.44      0.42        18\n",
            "\n",
            "Optimal Number of Features: 2\n"
          ]
        }
      ]
    },
    {
      "cell_type": "markdown",
      "source": [
        "### paretic RandomForest\n",
        "- f1-score : 0.786"
      ],
      "metadata": {
        "id": "W1Kk6Iua_-Uq"
      }
    },
    {
      "cell_type": "code",
      "source": [
        "from sklearn.feature_selection import RFECV\n",
        "rf_model = RandomForestClassifier(n_estimators=100,random_state=123)\n",
        "\n",
        "# RFECV를 사용하여 최적의 특성 선택\n",
        "rfecv = RFECV(estimator=rf_model, cv=5)\n",
        "X_train_rfecv = rfecv.fit_transform(X_train, y_train)\n",
        "\n",
        "# 선택된 특성으로 모델 학습\n",
        "rf_model.fit(X_train_rfecv, y_train)\n",
        "\n",
        "# 테스트 데이터에도 선택된 특성을 적용\n",
        "X_test_rfecv = rfecv.transform(X_test)\n",
        "\n",
        "# 테스트 데이터에 대한 예측\n",
        "y_pred_rf = rf_model.predict(X_test_rfecv)\n",
        "\n",
        "conf_matrix = confusion_matrix(y_test, y_pred_rf)\n",
        "print(\"Confusion Matrix:\\n\", conf_matrix)\n",
        "\n",
        "# 정확도 계산\n",
        "accuracy_rf = accuracy_score(y_test, y_pred_rf)\n",
        "print(\"Test Accuracy:\", accuracy_rf)\n",
        "\n",
        "# f1-score 계산\n",
        "f1_rf = f1_score(y_test, y_pred_rf)\n",
        "print(\"f1-score:\", f1_rf)\n",
        "\n",
        "# AUC 계산\n",
        "auc_rf = roc_auc_score(y_test,y_pred_rf)\n",
        "print(\"AUC:\",auc_rf)\n",
        "\n",
        "\n",
        "# 분류 보고서 출력 (정밀도, 재현율, F1 점수 등)\n",
        "classification_rep_rf = classification_report(y_test, y_pred_rf)\n",
        "print(\"Classification Report:\\n\", classification_rep_rf)\n",
        "\n",
        "# 최적의 특성 개수 출력\n",
        "print(\"Optimal Number of Features:\", rfecv.n_features_)"
      ],
      "metadata": {
        "colab": {
          "base_uri": "https://localhost:8080/"
        },
        "id": "NKuW_hIUZkwv",
        "outputId": "0007d338-1639-4640-e6f9-518e6333b7b1"
      },
      "execution_count": 38,
      "outputs": [
        {
          "output_type": "stream",
          "name": "stdout",
          "text": [
            "Confusion Matrix:\n",
            " [[ 1  6]\n",
            " [ 0 11]]\n",
            "Test Accuracy: 0.6666666666666666\n",
            "f1-score: 0.7857142857142858\n",
            "AUC: 0.5714285714285714\n",
            "Classification Report:\n",
            "               precision    recall  f1-score   support\n",
            "\n",
            "           0       1.00      0.14      0.25         7\n",
            "           1       0.65      1.00      0.79        11\n",
            "\n",
            "    accuracy                           0.67        18\n",
            "   macro avg       0.82      0.57      0.52        18\n",
            "weighted avg       0.78      0.67      0.58        18\n",
            "\n",
            "Optimal Number of Features: 6\n"
          ]
        }
      ]
    },
    {
      "cell_type": "markdown",
      "source": [
        "### paretic SVM\n",
        "- f1-score : 0.667"
      ],
      "metadata": {
        "id": "S20wVQYSAFkH"
      }
    },
    {
      "cell_type": "code",
      "source": [
        "from sklearn.feature_selection import RFECV\n",
        "svm_model = SVC(kernel='linear',random_state=123)\n",
        "\n",
        "# RFECV를 사용하여 최적의 특성 선택\n",
        "rfecv = RFECV(estimator=rf_model, cv=5)\n",
        "X_train_rfecv = rfecv.fit_transform(X_train, y_train)\n",
        "\n",
        "# 선택된 특성으로 모델 학습\n",
        "svm_model.fit(X_train_rfecv, y_train)\n",
        "\n",
        "# 테스트 데이터에도 선택된 특성을 적용\n",
        "X_test_rfecv = rfecv.transform(X_test)\n",
        "\n",
        "# 테스트 데이터에 대한 예측\n",
        "y_pred_svm = svm_model.predict(X_test_rfecv)\n",
        "\n",
        "conf_matrix = confusion_matrix(y_test, y_pred_svm)\n",
        "print(\"Confusion Matrix:\\n\", conf_matrix)\n",
        "\n",
        "# 정확도 계산\n",
        "accuracy_svm = accuracy_score(y_test, y_pred_svm)\n",
        "print(\"Test Accuracy:\", accuracy_svm)\n",
        "\n",
        "# f1-score 계산\n",
        "f1_svm = f1_score(y_test, y_pred_svm)\n",
        "print(\"f1-score:\", f1_svm)\n",
        "\n",
        "# AUC 계산\n",
        "auc_svm = roc_auc_score(y_test,y_pred_svm)\n",
        "print(\"AUC:\",auc_svm)\n",
        "\n",
        "\n",
        "# 분류 보고서 출력 (정밀도, 재현율, F1 점수 등)\n",
        "classification_rep_svm = classification_report(y_test, y_pred_svm)\n",
        "print(\"Classification Report:\\n\", classification_rep_svm)\n",
        "\n",
        "# 최적의 특성 개수 출력\n",
        "print(\"Optimal Number of Features:\", rfecv.n_features_)"
      ],
      "metadata": {
        "colab": {
          "base_uri": "https://localhost:8080/"
        },
        "id": "Gfm_jfA1ZscT",
        "outputId": "3ab6f199-7724-4eef-873e-53297303a2b4"
      },
      "execution_count": 39,
      "outputs": [
        {
          "output_type": "stream",
          "name": "stdout",
          "text": [
            "Confusion Matrix:\n",
            " [[2 5]\n",
            " [3 8]]\n",
            "Test Accuracy: 0.5555555555555556\n",
            "f1-score: 0.6666666666666667\n",
            "AUC: 0.5064935064935066\n",
            "Classification Report:\n",
            "               precision    recall  f1-score   support\n",
            "\n",
            "           0       0.40      0.29      0.33         7\n",
            "           1       0.62      0.73      0.67        11\n",
            "\n",
            "    accuracy                           0.56        18\n",
            "   macro avg       0.51      0.51      0.50        18\n",
            "weighted avg       0.53      0.56      0.54        18\n",
            "\n",
            "Optimal Number of Features: 6\n"
          ]
        }
      ]
    },
    {
      "cell_type": "markdown",
      "source": [
        "### paretic XGBoost\n",
        "- f1-score : 0.667"
      ],
      "metadata": {
        "id": "lkz1H0BrALQC"
      }
    },
    {
      "cell_type": "code",
      "source": [
        "from sklearn.feature_selection import RFECV\n",
        "import xgboost as xgb\n",
        "xgb_model = xgb.XGBClassifier(random_state=123)\n",
        "\n",
        "# RFECV를 사용하여 최적의 특성 선택\n",
        "rfecv = RFECV(estimator=rf_model, cv=5)\n",
        "X_train_rfecv = rfecv.fit_transform(X_train, y_train)\n",
        "\n",
        "# 선택된 특성으로 모델 학습\n",
        "xgb_model.fit(X_train_rfecv, y_train)\n",
        "\n",
        "# 테스트 데이터에도 선택된 특성을 적용\n",
        "X_test_rfecv = rfecv.transform(X_test)\n",
        "\n",
        "# 테스트 데이터에 대한 예측\n",
        "y_pred_xgb = xgb_model.predict(X_test_rfecv)\n",
        "\n",
        "conf_matrix = confusion_matrix(y_test, y_pred_xgb)\n",
        "print(\"Confusion Matrix:\\n\", conf_matrix)\n",
        "\n",
        "# 정확도 계산\n",
        "accuracy_xgb = accuracy_score(y_test, y_pred_xgb)\n",
        "print(\"Test Accuracy:\", accuracy_xgb)\n",
        "\n",
        "# f1-score 계산\n",
        "f1_xgb = f1_score(y_test, y_pred_xgb)\n",
        "print(\"f1-score:\", f1_xgb)\n",
        "\n",
        "# AUC 계산\n",
        "auc_xgb = roc_auc_score(y_test,y_pred_xgb)\n",
        "print(\"AUC:\",auc_xgb)\n",
        "\n",
        "\n",
        "# 분류 보고서 출력 (정밀도, 재현율, F1 점수 등)\n",
        "classification_rep_xgb = classification_report(y_test, y_pred_xgb)\n",
        "print(\"Classification Report:\\n\", classification_rep_xgb)\n",
        "\n",
        "# 최적의 특성 개수 출력\n",
        "print(\"Optimal Number of Features:\", rfecv.n_features_)"
      ],
      "metadata": {
        "colab": {
          "base_uri": "https://localhost:8080/"
        },
        "id": "0I1DYESOZzbi",
        "outputId": "c95d6a8e-09c5-433a-c510-6b10643c27c7"
      },
      "execution_count": 40,
      "outputs": [
        {
          "output_type": "stream",
          "name": "stdout",
          "text": [
            "Confusion Matrix:\n",
            " [[2 5]\n",
            " [3 8]]\n",
            "Test Accuracy: 0.5555555555555556\n",
            "f1-score: 0.6666666666666667\n",
            "AUC: 0.5064935064935066\n",
            "Classification Report:\n",
            "               precision    recall  f1-score   support\n",
            "\n",
            "           0       0.40      0.29      0.33         7\n",
            "           1       0.62      0.73      0.67        11\n",
            "\n",
            "    accuracy                           0.56        18\n",
            "   macro avg       0.51      0.51      0.50        18\n",
            "weighted avg       0.53      0.56      0.54        18\n",
            "\n",
            "Optimal Number of Features: 6\n"
          ]
        }
      ]
    },
    {
      "cell_type": "markdown",
      "source": [
        "### paretic LDA  \n",
        "- f1-score : 0.741"
      ],
      "metadata": {
        "id": "W3GNbtO8AO5O"
      }
    },
    {
      "cell_type": "code",
      "source": [
        "# LDA 모델\n",
        "from sklearn.discriminant_analysis import LinearDiscriminantAnalysis\n",
        "lda_model = LinearDiscriminantAnalysis()\n",
        "# RFECV를 사용하여 최적의 특성 선택\n",
        "rfecv = RFECV(estimator=rf_model, cv=5)\n",
        "X_train_rfecv = rfecv.fit_transform(X_train, y_train)\n",
        "\n",
        "# 선택된 특성으로 모델 학습\n",
        "lda_model.fit(X_train_rfecv, y_train)\n",
        "\n",
        "# 테스트 데이터에도 선택된 특성을 적용\n",
        "X_test_rfecv = rfecv.transform(X_test)\n",
        "\n",
        "# 테스트 데이터에 대한 예측\n",
        "y_pred_lda = lda_model.predict(X_test_rfecv)\n",
        "\n",
        "conf_matrix = confusion_matrix(y_test, y_pred_lda)\n",
        "print(\"Confusion Matrix:\\n\", conf_matrix)\n",
        "\n",
        "# 정확도 계산\n",
        "accuracy_lda = accuracy_score(y_test, y_pred_lda)\n",
        "print(\"Test Accuracy:\", accuracy_lda)\n",
        "\n",
        "# f1-score 계산\n",
        "f1_lda = f1_score(y_test, y_pred_lda)\n",
        "print(\"f1-score:\", f1_lda)\n",
        "\n",
        "# AUC 계산\n",
        "auc_lda = roc_auc_score(y_test,y_pred_lda)\n",
        "print(\"AUC:\",auc_lda)\n",
        "\n",
        "\n",
        "# 분류 보고서 출력 (정밀도, 재현율, F1 점수 등)\n",
        "classification_rep_lda = classification_report(y_test, y_pred_lda)\n",
        "print(\"Classification Report:\\n\", classification_rep_lda)\n",
        "\n",
        "# 최적의 특성 개수 출력\n",
        "print(\"Optimal Number of Features:\", rfecv.n_features_)"
      ],
      "metadata": {
        "colab": {
          "base_uri": "https://localhost:8080/"
        },
        "id": "eQbXsCFpZ5on",
        "outputId": "bc1d05b7-1b71-46a3-dee1-635fd43cb5a7"
      },
      "execution_count": 41,
      "outputs": [
        {
          "output_type": "stream",
          "name": "stdout",
          "text": [
            "Confusion Matrix:\n",
            " [[ 1  6]\n",
            " [ 1 10]]\n",
            "Test Accuracy: 0.6111111111111112\n",
            "f1-score: 0.7407407407407406\n",
            "AUC: 0.525974025974026\n",
            "Classification Report:\n",
            "               precision    recall  f1-score   support\n",
            "\n",
            "           0       0.50      0.14      0.22         7\n",
            "           1       0.62      0.91      0.74        11\n",
            "\n",
            "    accuracy                           0.61        18\n",
            "   macro avg       0.56      0.53      0.48        18\n",
            "weighted avg       0.58      0.61      0.54        18\n",
            "\n",
            "Optimal Number of Features: 6\n"
          ]
        }
      ]
    },
    {
      "cell_type": "code",
      "source": [
        "!jupyter nbconvert --to html \"/content/drive/MyDrive/Colab Notebooks/Angle.ipynb\""
      ],
      "metadata": {
        "colab": {
          "base_uri": "https://localhost:8080/"
        },
        "id": "xODny4UMQxNC",
        "outputId": "ceb47082-a562-46aa-e86f-1c0d1424e1b8"
      },
      "execution_count": 42,
      "outputs": [
        {
          "output_type": "stream",
          "name": "stdout",
          "text": [
            "[NbConvertApp] Converting notebook /content/drive/MyDrive/Colab Notebooks/Angle.ipynb to html\n",
            "[NbConvertApp] Writing 677708 bytes to /content/drive/MyDrive/Colab Notebooks/Angle.html\n"
          ]
        }
      ]
    }
  ]
}