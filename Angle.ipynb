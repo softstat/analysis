{
  "nbformat": 4,
  "nbformat_minor": 0,
  "metadata": {
    "colab": {
      "provenance": [],
      "authorship_tag": "ABX9TyNWEV3bAUY0PWtusLTJZGcN",
      "include_colab_link": true
    },
    "kernelspec": {
      "name": "python3",
      "display_name": "Python 3"
    },
    "language_info": {
      "name": "python"
    }
  },
  "cells": [
    {
      "cell_type": "markdown",
      "metadata": {
        "id": "view-in-github",
        "colab_type": "text"
      },
      "source": [
        "<a href=\"https://colab.research.google.com/github/softstat/analysis/blob/main/Angle.ipynb\" target=\"_parent\"><img src=\"https://colab.research.google.com/assets/colab-badge.svg\" alt=\"Open In Colab\"/></a>"
      ]
    },
    {
      "cell_type": "code",
      "execution_count": 1,
      "metadata": {
        "colab": {
          "base_uri": "https://localhost:8080/"
        },
        "id": "98VK-SuuNkIx",
        "outputId": "f59b9c46-5bd7-45a5-8482-f8045e09cba0"
      },
      "outputs": [
        {
          "output_type": "stream",
          "name": "stdout",
          "text": [
            "Mounted at /content/drive\n"
          ]
        }
      ],
      "source": [
        "from google.colab import drive\n",
        "drive.mount('/content/drive')"
      ]
    },
    {
      "cell_type": "code",
      "source": [
        "cd drive"
      ],
      "metadata": {
        "colab": {
          "base_uri": "https://localhost:8080/"
        },
        "id": "DRDJ0uEMNzSQ",
        "outputId": "86cae139-fcda-4182-d093-aa2b66e6ffb4"
      },
      "execution_count": 3,
      "outputs": [
        {
          "output_type": "stream",
          "name": "stdout",
          "text": [
            "/content/drive\n"
          ]
        }
      ]
    },
    {
      "cell_type": "code",
      "source": [
        "cd MyDrive"
      ],
      "metadata": {
        "colab": {
          "base_uri": "https://localhost:8080/"
        },
        "id": "LXYtwAhyN-G2",
        "outputId": "7b0471c1-7c20-4ae2-e474-e783e3e91962"
      },
      "execution_count": 4,
      "outputs": [
        {
          "output_type": "stream",
          "name": "stdout",
          "text": [
            "/content/drive/MyDrive\n"
          ]
        }
      ]
    },
    {
      "cell_type": "code",
      "source": [
        "cd Data"
      ],
      "metadata": {
        "colab": {
          "base_uri": "https://localhost:8080/"
        },
        "id": "nQu45800OBnK",
        "outputId": "f573ca02-18f9-4dee-d678-97830e5bec10"
      },
      "execution_count": 5,
      "outputs": [
        {
          "output_type": "stream",
          "name": "stdout",
          "text": [
            "/content/drive/MyDrive/Data\n"
          ]
        }
      ]
    },
    {
      "cell_type": "code",
      "source": [
        "ls"
      ],
      "metadata": {
        "colab": {
          "base_uri": "https://localhost:8080/"
        },
        "id": "MhcIcbTrOCzG",
        "outputId": "1677438d-f4ab-45d6-a39d-c1b3941f46ef"
      },
      "execution_count": 6,
      "outputs": [
        {
          "output_type": "stream",
          "name": "stdout",
          "text": [
            "angle_gait.csv  data.csv  titanic_train.csv  weather.csv\n"
          ]
        }
      ]
    },
    {
      "cell_type": "code",
      "source": [
        "import pandas as pd\n",
        "angle = pd.read_csv('angle_gait.csv')\n",
        "clinical_assessment = pd.read_excel('Clinical Assessment.xlsx')"
      ],
      "metadata": {
        "id": "0hhulw_EODVG"
      },
      "execution_count": 94,
      "outputs": []
    },
    {
      "cell_type": "code",
      "source": [
        "angle.drop('Unnamed: 0',axis=1,inplace=True)"
      ],
      "metadata": {
        "id": "4NMcAhwFOJMp"
      },
      "execution_count": 19,
      "outputs": []
    },
    {
      "cell_type": "code",
      "source": [
        "import pandas as pd\n",
        "from sklearn.decomposition import PCA\n",
        "from sklearn.model_selection import train_test_split\n",
        "from sklearn.linear_model import LogisticRegression\n",
        "from sklearn.ensemble import RandomForestClassifier\n",
        "from sklearn.svm import SVC\n",
        "from xgboost import XGBClassifier\n",
        "from sklearn.discriminant_analysis import LinearDiscriminantAnalysis as LDA\n",
        "from sklearn.metrics import confusion_matrix, roc_auc_score, roc_curve\n",
        "from sklearn.model_selection import GridSearchCV\n",
        "from sklearn.preprocessing import StandardScaler\n",
        "from sklearn.metrics import f1_score"
      ],
      "metadata": {
        "id": "sOS1cNMDT7Mf"
      },
      "execution_count": 142,
      "outputs": []
    },
    {
      "cell_type": "code",
      "source": [
        "def perform_pca(data, num_components):\n",
        "    scaler = StandardScaler()\n",
        "    scaled_data = scaler.fit_transform(data)\n",
        "    pca = PCA(n_components=num_components)\n",
        "    pca_result = pca.fit_transform(scaled_data)\n",
        "    return pca_result"
      ],
      "metadata": {
        "id": "pVcB4nqlUCWT"
      },
      "execution_count": 55,
      "outputs": []
    },
    {
      "cell_type": "code",
      "source": [
        "col = angle.columns\n",
        "col = col.str.replace('[^\\w\\s]', '', regex=True)\n",
        "angle.columns = col\n",
        "num_components = 30"
      ],
      "metadata": {
        "id": "4cEr_CT4UGF_"
      },
      "execution_count": 58,
      "outputs": []
    },
    {
      "cell_type": "code",
      "source": [
        "angle = angle.dropna()\n",
        "na_sum = angle.isna().sum()"
      ],
      "metadata": {
        "id": "wlISc1Lzd4tD"
      },
      "execution_count": 60,
      "outputs": []
    },
    {
      "cell_type": "code",
      "source": [
        "import random\n",
        "random.seed(1)\n",
        "total_angle_gait_pca = angle.copy()\n",
        "total_angle_model = PCA(n_components=num_components)\n",
        "total_angle_result = total_angle_model.fit_transform(total_angle_gait_pca)"
      ],
      "metadata": {
        "id": "kTCcpUeaUK-P"
      },
      "execution_count": 63,
      "outputs": []
    },
    {
      "cell_type": "code",
      "source": [
        "total_angle_result"
      ],
      "metadata": {
        "colab": {
          "base_uri": "https://localhost:8080/"
        },
        "id": "AddrhzTpUZgH",
        "outputId": "f7c0a33e-4f7e-4b0b-c1e9-ba7f039800d6"
      },
      "execution_count": 64,
      "outputs": [
        {
          "output_type": "execute_result",
          "data": {
            "text/plain": [
              "array([[-1.69715644e+02,  2.78757824e+01,  1.24143094e+02, ...,\n",
              "        -1.45397312e-01,  3.82067471e+00, -3.12725405e+01],\n",
              "       [-2.23333375e+02, -1.54750144e+01,  4.69437877e+01, ...,\n",
              "         8.63886626e-01,  2.25162953e+00,  6.28892889e+00],\n",
              "       [ 6.22312161e+01, -1.43502742e+01,  5.24627212e+02, ...,\n",
              "        -4.46495142e+00,  1.45622333e+01, -2.38576575e+00],\n",
              "       ...,\n",
              "       [ 2.16404983e+02,  2.36416445e+02, -8.90716272e+01, ...,\n",
              "         1.24347595e+01,  1.59067522e+00,  9.29033228e+00],\n",
              "       [-1.13801129e+01, -3.60015911e+01, -4.82583542e+01, ...,\n",
              "         2.09484605e+01,  5.41420545e+00, -1.84546010e+01],\n",
              "       [ 3.27822467e+01, -1.90162479e+02,  1.36776906e+02, ...,\n",
              "        -3.80024804e+00, -3.59276959e+01,  1.58570957e+01]])"
            ]
          },
          "metadata": {},
          "execution_count": 64
        }
      ]
    },
    {
      "cell_type": "code",
      "source": [
        "import numpy as np\n",
        "angle = np.array(angle)\n",
        "non_angle = angle[:,0:2424]"
      ],
      "metadata": {
        "id": "s6NuCfd1eTIO"
      },
      "execution_count": 67,
      "outputs": []
    },
    {
      "cell_type": "code",
      "source": [
        "random.seed(1)\n",
        "non_angle_model = PCA(n_components=num_components)\n",
        "non_angle_result = non_angle_model.fit_transform(non_angle)"
      ],
      "metadata": {
        "id": "AiebPadie8tT"
      },
      "execution_count": 84,
      "outputs": []
    },
    {
      "cell_type": "code",
      "source": [
        "non_angle_result.shape"
      ],
      "metadata": {
        "colab": {
          "base_uri": "https://localhost:8080/"
        },
        "id": "LwXPOl3yhgCL",
        "outputId": "390b2f43-698a-495d-8ae5-af649dd8ce91"
      },
      "execution_count": 92,
      "outputs": [
        {
          "output_type": "execute_result",
          "data": {
            "text/plain": [
              "(43, 30)"
            ]
          },
          "metadata": {},
          "execution_count": 92
        }
      ]
    },
    {
      "cell_type": "code",
      "source": [
        "par_angle = angle[:,2525:4848]\n",
        "random.seed(1)\n",
        "par_angle_model = PCA(n_components=num_components)\n",
        "par_angle_result = par_angle_model.fit_transform(par_angle)"
      ],
      "metadata": {
        "id": "PP4xFRIZfvex"
      },
      "execution_count": 85,
      "outputs": []
    },
    {
      "cell_type": "code",
      "source": [
        "score = clinical_assessment.iloc[:,9]"
      ],
      "metadata": {
        "id": "Tdpok48uhZpk"
      },
      "execution_count": 128,
      "outputs": []
    },
    {
      "cell_type": "code",
      "source": [
        "score = score.dropna()\n",
        "del score[0]\n",
        "del score[15]"
      ],
      "metadata": {
        "id": "AJadJlbSjOH_"
      },
      "execution_count": 129,
      "outputs": []
    },
    {
      "cell_type": "code",
      "source": [
        "score"
      ],
      "metadata": {
        "colab": {
          "base_uri": "https://localhost:8080/"
        },
        "id": "d2HrMbMDlBMB",
        "outputId": "b9bfb5aa-4824-4192-cbd8-c9a85f177e12"
      },
      "execution_count": 130,
      "outputs": [
        {
          "output_type": "execute_result",
          "data": {
            "text/plain": [
              "1     43\n",
              "2     50\n",
              "3     50\n",
              "4     51\n",
              "5     41\n",
              "6     36\n",
              "7     51\n",
              "8     51\n",
              "9     53\n",
              "10    41\n",
              "11    49\n",
              "12    43\n",
              "14    44\n",
              "16    50\n",
              "17    45\n",
              "18    19\n",
              "19    31\n",
              "20    53\n",
              "21    52\n",
              "22    45\n",
              "23    44\n",
              "24    44\n",
              "25    52\n",
              "26    44\n",
              "27    49\n",
              "28    47\n",
              "29    44\n",
              "30    48\n",
              "31    52\n",
              "32    53\n",
              "33    45\n",
              "34    51\n",
              "35    52\n",
              "36    33\n",
              "37    46\n",
              "38    50\n",
              "39    52\n",
              "40    51\n",
              "41    52\n",
              "42    51\n",
              "43    54\n",
              "44    52\n",
              "45    43\n",
              "Name: Berg Balance Scale, dtype: object"
            ]
          },
          "metadata": {},
          "execution_count": 130
        }
      ]
    },
    {
      "cell_type": "code",
      "source": [],
      "metadata": {
        "id": "ih-XsowEnfAa"
      },
      "execution_count": null,
      "outputs": []
    },
    {
      "cell_type": "code",
      "source": [
        "y = []\n",
        "for value in score:\n",
        "    if value >= 45:\n",
        "        y.append(1)\n",
        "    else:\n",
        "        y.append(0)\n",
        "print(y)"
      ],
      "metadata": {
        "colab": {
          "base_uri": "https://localhost:8080/"
        },
        "id": "QwYQTMIPm8Na",
        "outputId": "548b4adf-35e9-4385-8b70-9ca04b47746b"
      },
      "execution_count": 132,
      "outputs": [
        {
          "output_type": "stream",
          "name": "stdout",
          "text": [
            "[0, 1, 1, 1, 0, 0, 1, 1, 1, 0, 1, 0, 0, 1, 1, 0, 0, 1, 1, 1, 0, 0, 1, 0, 1, 1, 0, 1, 1, 1, 1, 1, 1, 0, 1, 1, 1, 1, 1, 1, 1, 1, 0]\n"
          ]
        }
      ]
    },
    {
      "cell_type": "code",
      "source": [
        "X = non_angle_result\n",
        "y = y\n",
        "X_train , X_test , y_train , y_test  = train_test_split(X,y,test_size = 0.4,random_state=1)"
      ],
      "metadata": {
        "id": "Jf5TVztFllwt"
      },
      "execution_count": 158,
      "outputs": []
    },
    {
      "cell_type": "code",
      "source": [
        "random.seed(1)\n",
        "rf_model = RandomForestClassifier()\n",
        "rf_model.fit(X_train, y_train)\n",
        "rf_y_pred = rf_model.predict(X_test)"
      ],
      "metadata": {
        "id": "UDRyb_X1p86j"
      },
      "execution_count": 161,
      "outputs": []
    },
    {
      "cell_type": "code",
      "source": [
        "cm = confusion_matrix(rf_y_pred,y_test)\n",
        "print(cm)\n",
        "f1 = f1_score(rf_y_pred,y_test)\n",
        "print(\"F1-scoreL\",f1)"
      ],
      "metadata": {
        "colab": {
          "base_uri": "https://localhost:8080/"
        },
        "id": "6gLxgfvHp-mg",
        "outputId": "a1ae3b4a-d67c-4dd3-f5b4-7a4613739ce1"
      },
      "execution_count": 162,
      "outputs": [
        {
          "output_type": "stream",
          "name": "stdout",
          "text": [
            "[[ 0  0]\n",
            " [ 3 15]]\n",
            "F1-scoreL 0.9090909090909091\n"
          ]
        }
      ]
    },
    {
      "cell_type": "code",
      "source": [
        "random.seed(1)\n",
        "svm_model = SVC(probability=True)\n",
        "svm_model.fit(X_train, y_train)\n",
        "svm_y_pred = svm_model.predict(X_test)"
      ],
      "metadata": {
        "id": "YVdnkZIsqTfq"
      },
      "execution_count": 163,
      "outputs": []
    },
    {
      "cell_type": "code",
      "source": [
        "cm = confusion_matrix(svm_y_pred,y_test)\n",
        "print(cm)\n",
        "f1 = f1_score(svm_y_pred,y_test)\n",
        "print(\"F1-scoreL\",f1)"
      ],
      "metadata": {
        "colab": {
          "base_uri": "https://localhost:8080/"
        },
        "id": "_nouc1r-qURU",
        "outputId": "fa3eea56-77f2-4952-e0f7-8848dd1616fd"
      },
      "execution_count": 164,
      "outputs": [
        {
          "output_type": "stream",
          "name": "stdout",
          "text": [
            "[[ 2  1]\n",
            " [ 1 14]]\n",
            "F1-scoreL 0.9333333333333333\n"
          ]
        }
      ]
    },
    {
      "cell_type": "code",
      "source": [
        "X = par_angle_result\n",
        "y = y\n",
        "X_train , X_test , y_train , y_test  = train_test_split(X,y,test_size = 0.4,random_state=1)"
      ],
      "metadata": {
        "id": "pNpcfgMNolPe"
      },
      "execution_count": 153,
      "outputs": []
    },
    {
      "cell_type": "code",
      "source": [
        "rf_model = RandomForestClassifier()\n",
        "rf_model.fit(X_train, y_train)\n",
        "rf_y_pred = rf_model.predict(X_test)"
      ],
      "metadata": {
        "id": "ZoOKx2uvopf-"
      },
      "execution_count": 154,
      "outputs": []
    },
    {
      "cell_type": "code",
      "source": [
        "cm = confusion_matrix(rf_y_pred,y_test)\n",
        "print(cm)\n",
        "f1 = f1_score(rf_y_pred,y_test)\n",
        "print(\"F1-scoreL\",f1)"
      ],
      "metadata": {
        "colab": {
          "base_uri": "https://localhost:8080/"
        },
        "id": "PEASNYnTo-XT",
        "outputId": "75f56cf0-3197-4bc3-84c1-f379f7afb1d4"
      },
      "execution_count": 155,
      "outputs": [
        {
          "output_type": "stream",
          "name": "stdout",
          "text": [
            "[[ 1  3]\n",
            " [ 2 12]]\n",
            "F1-scoreL 0.8275862068965518\n"
          ]
        }
      ]
    },
    {
      "cell_type": "code",
      "source": [
        "xgb_model = XGBClassifier()\n",
        "xgb_model.fit(X_train, y_train)\n",
        "xgb_y_pred = xgb_model.predict(X_test)"
      ],
      "metadata": {
        "id": "Li6m6IIHpKo1"
      },
      "execution_count": null,
      "outputs": []
    },
    {
      "cell_type": "code",
      "source": [
        "lda_model = LDA()\n",
        "lda_model.fit(X_train, y_train)\n",
        "lda_y_pred = lda_model.predict(X_test)"
      ],
      "metadata": {
        "id": "oktbh2Olrg8H"
      },
      "execution_count": null,
      "outputs": []
    }
  ]
}