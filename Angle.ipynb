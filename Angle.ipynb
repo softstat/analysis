{
  "nbformat": 4,
  "nbformat_minor": 0,
  "metadata": {
    "colab": {
      "provenance": [],
      "authorship_tag": "ABX9TyMucEpvAC/HUDTIL/YmOQTZ",
      "include_colab_link": true
    },
    "kernelspec": {
      "name": "python3",
      "display_name": "Python 3"
    },
    "language_info": {
      "name": "python"
    }
  },
  "cells": [
    {
      "cell_type": "markdown",
      "metadata": {
        "id": "view-in-github",
        "colab_type": "text"
      },
      "source": [
        "<a href=\"https://colab.research.google.com/github/softstat/analysis/blob/main/Angle.ipynb\" target=\"_parent\"><img src=\"https://colab.research.google.com/assets/colab-badge.svg\" alt=\"Open In Colab\"/></a>"
      ]
    },
    {
      "cell_type": "code",
      "execution_count": 90,
      "metadata": {
        "colab": {
          "base_uri": "https://localhost:8080/"
        },
        "id": "98VK-SuuNkIx",
        "outputId": "7fb974fb-3f73-4426-b279-688c3407ba12"
      },
      "outputs": [
        {
          "output_type": "stream",
          "name": "stdout",
          "text": [
            "Drive already mounted at /content/drive; to attempt to forcibly remount, call drive.mount(\"/content/drive\", force_remount=True).\n"
          ]
        }
      ],
      "source": [
        "from google.colab import drive\n",
        "drive.mount('/content/drive')"
      ]
    },
    {
      "cell_type": "code",
      "source": [
        "cd drive"
      ],
      "metadata": {
        "colab": {
          "base_uri": "https://localhost:8080/"
        },
        "id": "DRDJ0uEMNzSQ",
        "outputId": "8309dec8-59f1-4520-e314-76e1bbcdb094"
      },
      "execution_count": 91,
      "outputs": [
        {
          "output_type": "stream",
          "name": "stdout",
          "text": [
            "[Errno 2] No such file or directory: 'drive'\n",
            "/content/drive/MyDrive/Data\n"
          ]
        }
      ]
    },
    {
      "cell_type": "code",
      "source": [
        "cd MyDrive"
      ],
      "metadata": {
        "colab": {
          "base_uri": "https://localhost:8080/"
        },
        "id": "LXYtwAhyN-G2",
        "outputId": "e9e5da21-3f14-4250-9d03-d03420f6b932"
      },
      "execution_count": 92,
      "outputs": [
        {
          "output_type": "stream",
          "name": "stdout",
          "text": [
            "[Errno 2] No such file or directory: 'MyDrive'\n",
            "/content/drive/MyDrive/Data\n"
          ]
        }
      ]
    },
    {
      "cell_type": "code",
      "source": [
        "cd Data"
      ],
      "metadata": {
        "colab": {
          "base_uri": "https://localhost:8080/"
        },
        "id": "nQu45800OBnK",
        "outputId": "81ce8fd2-af2b-4e29-eb22-d97892815869"
      },
      "execution_count": 93,
      "outputs": [
        {
          "output_type": "stream",
          "name": "stdout",
          "text": [
            "[Errno 2] No such file or directory: 'Data'\n",
            "/content/drive/MyDrive/Data\n"
          ]
        }
      ]
    },
    {
      "cell_type": "code",
      "source": [
        "ls"
      ],
      "metadata": {
        "colab": {
          "base_uri": "https://localhost:8080/"
        },
        "id": "MhcIcbTrOCzG",
        "outputId": "fc670ed1-ecd3-4237-bd36-ca2abfe1b6f7"
      },
      "execution_count": 94,
      "outputs": [
        {
          "output_type": "stream",
          "name": "stdout",
          "text": [
            " angle_gait.csv              data.csv            weather.csv\n",
            "'Clinical Assessment.xlsx'   titanic_train.csv\n"
          ]
        }
      ]
    },
    {
      "cell_type": "code",
      "source": [
        "import pandas as pd\n",
        "angle = pd.read_csv('angle_gait.csv')\n",
        "clinical_assessment = pd.read_excel('Clinical Assessment.xlsx')"
      ],
      "metadata": {
        "id": "0hhulw_EODVG"
      },
      "execution_count": 95,
      "outputs": []
    },
    {
      "cell_type": "code",
      "source": [
        "angle.drop('Unnamed: 0',axis=1,inplace=True)"
      ],
      "metadata": {
        "id": "4NMcAhwFOJMp"
      },
      "execution_count": 96,
      "outputs": []
    },
    {
      "cell_type": "code",
      "source": [
        "import pandas as pd\n",
        "from sklearn.decomposition import PCA\n",
        "from sklearn.model_selection import train_test_split\n",
        "from sklearn.linear_model import LogisticRegression\n",
        "from sklearn.ensemble import RandomForestClassifier\n",
        "from sklearn.svm import SVC\n",
        "from xgboost import XGBClassifier\n",
        "from sklearn.discriminant_analysis import LinearDiscriminantAnalysis as LDA\n",
        "from sklearn.metrics import confusion_matrix, roc_auc_score, roc_curve\n",
        "from sklearn.model_selection import GridSearchCV\n",
        "from sklearn.preprocessing import StandardScaler\n",
        "from sklearn.metrics import f1_score\n",
        "from sklearn.metrics import accuracy_score\n",
        "from sklearn.feature_selection import SelectKBest\n",
        "from sklearn.feature_selection import f_classif\n",
        "import warnings\n",
        "from sklearn.feature_selection import RFE\n",
        "from sklearn.metrics import accuracy_score, classification_report"
      ],
      "metadata": {
        "id": "sOS1cNMDT7Mf"
      },
      "execution_count": 97,
      "outputs": []
    },
    {
      "cell_type": "code",
      "source": [
        "warnings.filterwarnings(action='ignore')"
      ],
      "metadata": {
        "id": "ZMolryQYSmuk"
      },
      "execution_count": 98,
      "outputs": []
    },
    {
      "cell_type": "code",
      "source": [
        "def perform_pca(data, num_components):\n",
        "    scaler = StandardScaler()\n",
        "    scaled_data = scaler.fit_transform(data)\n",
        "    pca = PCA(n_components=num_components)\n",
        "    pca_result = pca.fit_transform(scaled_data)\n",
        "    return pca_result"
      ],
      "metadata": {
        "id": "pVcB4nqlUCWT"
      },
      "execution_count": 99,
      "outputs": []
    },
    {
      "cell_type": "code",
      "source": [
        "col = angle.columns\n",
        "col = col.str.replace('[^\\w\\s]', '', regex=True)\n",
        "angle.columns = col\n",
        "num_components = 43"
      ],
      "metadata": {
        "id": "4cEr_CT4UGF_"
      },
      "execution_count": 100,
      "outputs": []
    },
    {
      "cell_type": "code",
      "source": [
        "angle = angle.dropna()\n",
        "na_sum = angle.isna().sum()"
      ],
      "metadata": {
        "id": "wlISc1Lzd4tD"
      },
      "execution_count": 101,
      "outputs": []
    },
    {
      "cell_type": "code",
      "source": [
        "import random\n",
        "random.seed(1)\n",
        "total_angle_gait_pca = angle.copy()\n",
        "total_angle_model = PCA(n_components=num_components)\n",
        "total_angle_result = total_angle_model.fit_transform(total_angle_gait_pca)"
      ],
      "metadata": {
        "id": "kTCcpUeaUK-P"
      },
      "execution_count": 102,
      "outputs": []
    },
    {
      "cell_type": "code",
      "source": [
        "total_angle_result"
      ],
      "metadata": {
        "colab": {
          "base_uri": "https://localhost:8080/"
        },
        "id": "AddrhzTpUZgH",
        "outputId": "10d3e7bb-a7bb-413a-c90b-96e1a5efc725"
      },
      "execution_count": 103,
      "outputs": [
        {
          "output_type": "execute_result",
          "data": {
            "text/plain": [
              "array([[-1.69715644e+02,  2.78757824e+01,  1.24143094e+02, ...,\n",
              "        -3.92471603e+00,  2.51926619e+00,  8.50845056e-14],\n",
              "       [-2.23333375e+02, -1.54750144e+01,  4.69437877e+01, ...,\n",
              "        -4.22573239e-01,  3.29514125e+00,  8.50845056e-14],\n",
              "       [ 6.22312161e+01, -1.43502742e+01,  5.24627212e+02, ...,\n",
              "        -6.68759815e-01,  2.06298071e+00,  8.50845056e-14],\n",
              "       ...,\n",
              "       [ 2.16404983e+02,  2.36416445e+02, -8.90716272e+01, ...,\n",
              "         2.55564438e-02,  7.50927346e+00,  8.50845056e-14],\n",
              "       [-1.13801129e+01, -3.60015911e+01, -4.82583542e+01, ...,\n",
              "         1.01146215e+01,  5.30972112e+00,  8.50845056e-14],\n",
              "       [ 3.27822467e+01, -1.90162479e+02,  1.36776906e+02, ...,\n",
              "         4.80209806e+00,  6.26140866e+00,  8.50845056e-14]])"
            ]
          },
          "metadata": {},
          "execution_count": 103
        }
      ]
    },
    {
      "cell_type": "code",
      "source": [
        "import numpy as np\n",
        "angle = np.array(angle)\n",
        "non_angle = angle[:,0:2424]"
      ],
      "metadata": {
        "id": "s6NuCfd1eTIO"
      },
      "execution_count": 104,
      "outputs": []
    },
    {
      "cell_type": "code",
      "source": [
        "random.seed(123)\n",
        "non_angle_model = PCA(n_components=num_components)\n",
        "non_angle_result = non_angle_model.fit_transform(non_angle)"
      ],
      "metadata": {
        "id": "AiebPadie8tT"
      },
      "execution_count": 105,
      "outputs": []
    },
    {
      "cell_type": "code",
      "source": [
        "non_angle_result.shape"
      ],
      "metadata": {
        "colab": {
          "base_uri": "https://localhost:8080/"
        },
        "id": "LwXPOl3yhgCL",
        "outputId": "cb86788c-48c7-4a14-a078-cf9b582480ce"
      },
      "execution_count": 106,
      "outputs": [
        {
          "output_type": "execute_result",
          "data": {
            "text/plain": [
              "(43, 43)"
            ]
          },
          "metadata": {},
          "execution_count": 106
        }
      ]
    },
    {
      "cell_type": "code",
      "source": [
        "par_angle = angle[:,2525:4848]\n",
        "random.seed(123)\n",
        "par_angle_model = PCA(n_components=num_components)\n",
        "par_angle_result = par_angle_model.fit_transform(par_angle)"
      ],
      "metadata": {
        "id": "PP4xFRIZfvex"
      },
      "execution_count": 107,
      "outputs": []
    },
    {
      "cell_type": "code",
      "source": [
        "score = clinical_assessment.iloc[:,9]"
      ],
      "metadata": {
        "id": "Tdpok48uhZpk"
      },
      "execution_count": 108,
      "outputs": []
    },
    {
      "cell_type": "code",
      "source": [
        "score = score.dropna()\n",
        "del score[0]\n",
        "del score[15]"
      ],
      "metadata": {
        "id": "AJadJlbSjOH_"
      },
      "execution_count": 109,
      "outputs": []
    },
    {
      "cell_type": "code",
      "source": [
        "y = []\n",
        "for value in score:\n",
        "    if value >= 45:\n",
        "        y.append(1)\n",
        "    else:\n",
        "        y.append(0)\n",
        "print(y)"
      ],
      "metadata": {
        "colab": {
          "base_uri": "https://localhost:8080/"
        },
        "id": "QwYQTMIPm8Na",
        "outputId": "5797de83-aae4-4440-e7dc-64f76f11bdce"
      },
      "execution_count": 110,
      "outputs": [
        {
          "output_type": "stream",
          "name": "stdout",
          "text": [
            "[0, 1, 1, 1, 0, 0, 1, 1, 1, 0, 1, 0, 0, 1, 1, 0, 0, 1, 1, 1, 0, 0, 1, 0, 1, 1, 0, 1, 1, 1, 1, 1, 1, 0, 1, 1, 1, 1, 1, 1, 1, 1, 0]\n"
          ]
        }
      ]
    },
    {
      "cell_type": "markdown",
      "source": [
        "## Non-paretic Side"
      ],
      "metadata": {
        "id": "JSSzXrGY96iI"
      }
    },
    {
      "cell_type": "code",
      "source": [
        "df_non = pd.DataFrame(non_angle_result)"
      ],
      "metadata": {
        "id": "JsPFHwjPs6Nc"
      },
      "execution_count": 111,
      "outputs": []
    },
    {
      "cell_type": "code",
      "source": [
        "y = pd.DataFrame(y)"
      ],
      "metadata": {
        "id": "llaQpSJBt47Z"
      },
      "execution_count": 112,
      "outputs": []
    },
    {
      "cell_type": "code",
      "source": [
        "non = pd.concat([y,df_non],axis=1)"
      ],
      "metadata": {
        "id": "ogLfBjR2uFA3"
      },
      "execution_count": 113,
      "outputs": []
    },
    {
      "cell_type": "code",
      "source": [
        "non.columns = ['PC'+ str(i) for i in range(0,44)]"
      ],
      "metadata": {
        "id": "IGrsQTFQv35s"
      },
      "execution_count": 114,
      "outputs": []
    },
    {
      "cell_type": "code",
      "source": [
        "colname = list(non.columns)\n",
        "colname[0] = \"score\"\n",
        "non.columns = colname\n",
        "non.columns"
      ],
      "metadata": {
        "colab": {
          "base_uri": "https://localhost:8080/"
        },
        "id": "KDH0f19zwv2X",
        "outputId": "72a1cb98-8051-47ba-fb09-469f60576bb1"
      },
      "execution_count": 115,
      "outputs": [
        {
          "output_type": "execute_result",
          "data": {
            "text/plain": [
              "Index(['score', 'PC1', 'PC2', 'PC3', 'PC4', 'PC5', 'PC6', 'PC7', 'PC8', 'PC9',\n",
              "       'PC10', 'PC11', 'PC12', 'PC13', 'PC14', 'PC15', 'PC16', 'PC17', 'PC18',\n",
              "       'PC19', 'PC20', 'PC21', 'PC22', 'PC23', 'PC24', 'PC25', 'PC26', 'PC27',\n",
              "       'PC28', 'PC29', 'PC30', 'PC31', 'PC32', 'PC33', 'PC34', 'PC35', 'PC36',\n",
              "       'PC37', 'PC38', 'PC39', 'PC40', 'PC41', 'PC42', 'PC43'],\n",
              "      dtype='object')"
            ]
          },
          "metadata": {},
          "execution_count": 115
        }
      ]
    },
    {
      "cell_type": "code",
      "source": [
        "X = non.loc[:,'PC1':'PC43']\n",
        "y = non['score']\n",
        "X_train , X_test , y_train , y_test  = train_test_split(X,y,test_size = 0.4,random_state=123)"
      ],
      "metadata": {
        "id": "Jf5TVztFllwt"
      },
      "execution_count": 116,
      "outputs": []
    },
    {
      "cell_type": "markdown",
      "source": [
        "### logistic regression\n",
        "- f1-score : 0.777"
      ],
      "metadata": {
        "id": "c-EUa6cL_B7j"
      }
    },
    {
      "cell_type": "code",
      "source": [
        "from sklearn.feature_selection import RFECV\n",
        "lr_model = LogisticRegression()\n",
        "\n",
        "# RFECV를 사용하여 최적의 특성 선택\n",
        "rfecv = RFECV(estimator=lr_model, cv=5)\n",
        "X_train_rfecv = rfecv.fit_transform(X_train, y_train)\n",
        "\n",
        "# 선택된 특성으로 모델 학습\n",
        "lr_model.fit(X_train_rfecv, y_train)\n",
        "\n",
        "# 테스트 데이터에도 선택된 특성을 적용\n",
        "X_test_rfecv = rfecv.transform(X_test)\n",
        "\n",
        "# 테스트 데이터에 대한 예측\n",
        "y_pred_lr = lr_model.predict(X_test_rfecv)\n",
        "\n",
        "conf_matrix = confusion_matrix(y_test, y_pred_lr)\n",
        "print(\"Confusion Matrix:\\n\", conf_matrix)\n",
        "# 정확도 계산\n",
        "accuracy_lr = accuracy_score(y_test, y_pred_lr)\n",
        "print(\"Test Accuracy:\", accuracy_lr)\n",
        "\n",
        "# f1-score 계산\n",
        "f1_lr = f1_score(y_test, y_pred_lr)\n",
        "print(\"f1-score:\", f1_lr)\n",
        "\n",
        "# auc 계산\n",
        "auc_lr = roc_auc_score(y_test,y_pred_lr)\n",
        "print(\"AUC:\",auc_lr)\n",
        "\n",
        "# 분류 보고서 출력 (정밀도, 재현율, F1 점수 등)\n",
        "classification_rep_lr = classification_report(y_test, y_pred_lr)\n",
        "print(\"Classification Report:\\n\", classification_rep_lr)\n",
        "\n",
        "# 최적의 특성 개수 출력\n",
        "print(\"Optimal Number of Features:\", rfecv.n_features_)"
      ],
      "metadata": {
        "colab": {
          "base_uri": "https://localhost:8080/"
        },
        "id": "hdqSImHyS90Q",
        "outputId": "acabaf68-cad8-46ac-897a-286c210a635c"
      },
      "execution_count": 117,
      "outputs": [
        {
          "output_type": "stream",
          "name": "stdout",
          "text": [
            "Confusion Matrix:\n",
            " [[7 0]\n",
            " [4 7]]\n",
            "Test Accuracy: 0.7777777777777778\n",
            "f1-score: 0.7777777777777778\n",
            "AUC: 0.8181818181818181\n",
            "Classification Report:\n",
            "               precision    recall  f1-score   support\n",
            "\n",
            "           0       0.64      1.00      0.78         7\n",
            "           1       1.00      0.64      0.78        11\n",
            "\n",
            "    accuracy                           0.78        18\n",
            "   macro avg       0.82      0.82      0.78        18\n",
            "weighted avg       0.86      0.78      0.78        18\n",
            "\n",
            "Optimal Number of Features: 6\n"
          ]
        }
      ]
    },
    {
      "cell_type": "markdown",
      "source": [
        "### Random Forest\n",
        "- f1-score : 0.846"
      ],
      "metadata": {
        "id": "BlZbG2hX_Fhx"
      }
    },
    {
      "cell_type": "code",
      "source": [
        "from sklearn.feature_selection import RFECV\n",
        "rf_model = RandomForestClassifier(n_estimators=100,random_state=123)\n",
        "\n",
        "# RFECV를 사용하여 최적의 특성 선택\n",
        "rfecv = RFECV(estimator=rf_model, cv=5)\n",
        "X_train_rfecv = rfecv.fit_transform(X_train, y_train)\n",
        "\n",
        "# 선택된 특성으로 모델 학습\n",
        "rf_model.fit(X_train_rfecv, y_train)\n",
        "\n",
        "# 테스트 데이터에도 선택된 특성을 적용\n",
        "X_test_rfecv = rfecv.transform(X_test)\n",
        "\n",
        "# 테스트 데이터에 대한 예측\n",
        "y_pred_rf = rf_model.predict(X_test_rfecv)\n",
        "\n",
        "conf_matrix = confusion_matrix(y_test, y_pred_rf)\n",
        "print(\"Confusion Matrix:\\n\", conf_matrix)\n",
        "\n",
        "# 정확도 계산\n",
        "accuracy_rf = accuracy_score(y_test, y_pred_rf)\n",
        "print(\"Test Accuracy:\", accuracy_rf)\n",
        "\n",
        "# f1-score 계산\n",
        "f1_rf = f1_score(y_test, y_pred_rf)\n",
        "print(\"f1-score:\", f1_rf)\n",
        "\n",
        "# AUC 계산\n",
        "auc_rf = roc_auc_score(y_test,y_pred_rf)\n",
        "print(\"AUC:\",auc_rf)\n",
        "\n",
        "\n",
        "# 분류 보고서 출력 (정밀도, 재현율, F1 점수 등)\n",
        "classification_rep_rf = classification_report(y_test, y_pred_rf)\n",
        "print(\"Classification Report:\\n\", classification_rep_rf)\n",
        "\n",
        "# 최적의 특성 개수 출력\n",
        "print(\"Optimal Number of Features:\", rfecv.n_features_)"
      ],
      "metadata": {
        "colab": {
          "base_uri": "https://localhost:8080/"
        },
        "id": "b2ZcJHuQVn2h",
        "outputId": "89e11b06-3c74-4cef-d0c8-65cdb9d4331c"
      },
      "execution_count": 118,
      "outputs": [
        {
          "output_type": "stream",
          "name": "stdout",
          "text": [
            "Confusion Matrix:\n",
            " [[ 3  4]\n",
            " [ 0 11]]\n",
            "Test Accuracy: 0.7777777777777778\n",
            "f1-score: 0.846153846153846\n",
            "AUC: 0.7142857142857143\n",
            "Classification Report:\n",
            "               precision    recall  f1-score   support\n",
            "\n",
            "           0       1.00      0.43      0.60         7\n",
            "           1       0.73      1.00      0.85        11\n",
            "\n",
            "    accuracy                           0.78        18\n",
            "   macro avg       0.87      0.71      0.72        18\n",
            "weighted avg       0.84      0.78      0.75        18\n",
            "\n",
            "Optimal Number of Features: 5\n"
          ]
        }
      ]
    },
    {
      "cell_type": "markdown",
      "source": [
        "### SVM\n",
        "- f1-score : 0.777"
      ],
      "metadata": {
        "id": "xsGv8kVa_NdT"
      }
    },
    {
      "cell_type": "code",
      "source": [
        "from sklearn.feature_selection import RFECV\n",
        "svm_model = SVC(kernel='linear',random_state=123)\n",
        "\n",
        "# RFECV를 사용하여 최적의 특성 선택\n",
        "rfecv = RFECV(estimator=svm_model, cv=5)\n",
        "X_train_rfecv = rfecv.fit_transform(X_train, y_train)\n",
        "\n",
        "# 선택된 특성으로 모델 학습\n",
        "svm_model.fit(X_train_rfecv, y_train)\n",
        "\n",
        "# 테스트 데이터에도 선택된 특성을 적용\n",
        "X_test_rfecv = rfecv.transform(X_test)\n",
        "\n",
        "# 테스트 데이터에 대한 예측\n",
        "y_pred_svm = svm_model.predict(X_test_rfecv)\n",
        "\n",
        "conf_matrix = confusion_matrix(y_test, y_pred_svm)\n",
        "print(\"Confusion Matrix:\\n\", conf_matrix)\n",
        "\n",
        "# 정확도 계산\n",
        "accuracy_svm = accuracy_score(y_test, y_pred_svm)\n",
        "print(\"Test Accuracy:\", accuracy_svm)\n",
        "\n",
        "# f1-score 계산\n",
        "f1_svm = f1_score(y_test, y_pred_svm)\n",
        "print(\"f1-score:\", f1_svm)\n",
        "\n",
        "# AUC 계산\n",
        "auc_svm = roc_auc_score(y_test,y_pred_svm)\n",
        "print(\"AUC:\",auc_svm)\n",
        "\n",
        "# 분류 보고서 출력 (정밀도, 재현율, F1 점수 등)\n",
        "classification_rep_svm = classification_report(y_test, y_pred_svm)\n",
        "print(\"Classification Report:\\n\", classification_rep_svm)\n",
        "\n",
        "# 최적의 특성 개수 출력\n",
        "print(\"Optimal Number of Features:\", rfecv.n_features_)"
      ],
      "metadata": {
        "colab": {
          "base_uri": "https://localhost:8080/"
        },
        "id": "Dju3eI8S_M4Y",
        "outputId": "3f80b96a-3836-40b0-a603-3f7d75f9e287"
      },
      "execution_count": 119,
      "outputs": [
        {
          "output_type": "stream",
          "name": "stdout",
          "text": [
            "Confusion Matrix:\n",
            " [[7 0]\n",
            " [4 7]]\n",
            "Test Accuracy: 0.7777777777777778\n",
            "f1-score: 0.7777777777777778\n",
            "AUC: 0.8181818181818181\n",
            "Classification Report:\n",
            "               precision    recall  f1-score   support\n",
            "\n",
            "           0       0.64      1.00      0.78         7\n",
            "           1       1.00      0.64      0.78        11\n",
            "\n",
            "    accuracy                           0.78        18\n",
            "   macro avg       0.82      0.82      0.78        18\n",
            "weighted avg       0.86      0.78      0.78        18\n",
            "\n",
            "Optimal Number of Features: 5\n"
          ]
        }
      ]
    },
    {
      "cell_type": "markdown",
      "source": [
        "### XGBoost\n",
        "- f1-score: 0.667"
      ],
      "metadata": {
        "id": "AbxWhSSo_RKA"
      }
    },
    {
      "cell_type": "code",
      "source": [
        "from sklearn.feature_selection import RFECV\n",
        "import xgboost as xgb\n",
        "xgb_model = xgb.XGBClassifier(random_state=123)\n",
        "\n",
        "# RFECV를 사용하여 최적의 특성 선택\n",
        "rfecv = RFECV(estimator=xgb_model, cv=5)\n",
        "X_train_rfecv = rfecv.fit_transform(X_train, y_train)\n",
        "\n",
        "# 선택된 특성으로 모델 학습\n",
        "xgb_model.fit(X_train_rfecv, y_train)\n",
        "\n",
        "# 테스트 데이터에도 선택된 특성을 적용\n",
        "X_test_rfecv = rfecv.transform(X_test)\n",
        "\n",
        "# 테스트 데이터에 대한 예측\n",
        "y_pred_xgb = xgb_model.predict(X_test_rfecv)\n",
        "\n",
        "conf_matrix = confusion_matrix(y_test, y_pred_xgb)\n",
        "print(\"Confusion Matrix:\\n\", conf_matrix)\n",
        "\n",
        "# 정확도 계산\n",
        "accuracy_xgb = accuracy_score(y_test, y_pred_xgb)\n",
        "print(\"Test Accuracy:\", accuracy_xgb)\n",
        "\n",
        "# f1-score 계산\n",
        "f1_xgb = f1_score(y_test, y_pred_xgb)\n",
        "print(\"f1-score:\", f1_xgb)\n",
        "\n",
        "# AUC 계산\n",
        "auc_xgb = roc_auc_score(y_test,y_pred_xgb)\n",
        "print(\"AUC:\",auc_xgb)\n",
        "\n",
        "# 분류 보고서 출력 (정밀도, 재현율, F1 점수 등)\n",
        "classification_rep_xgb = classification_report(y_test, y_pred_xgb)\n",
        "print(\"Classification Report:\\n\", classification_rep_xgb)\n",
        "\n",
        "# 최적의 특성 개수 출력\n",
        "print(\"Optimal Number of Features:\", rfecv.n_features_)"
      ],
      "metadata": {
        "id": "71QM59Gy_QwB",
        "colab": {
          "base_uri": "https://localhost:8080/"
        },
        "outputId": "4bda7fe4-34a9-4395-93ca-174564892770"
      },
      "execution_count": 120,
      "outputs": [
        {
          "output_type": "stream",
          "name": "stdout",
          "text": [
            "Confusion Matrix:\n",
            " [[6 1]\n",
            " [5 6]]\n",
            "Test Accuracy: 0.6666666666666666\n",
            "f1-score: 0.6666666666666665\n",
            "AUC: 0.7012987012987013\n",
            "Classification Report:\n",
            "               precision    recall  f1-score   support\n",
            "\n",
            "           0       0.55      0.86      0.67         7\n",
            "           1       0.86      0.55      0.67        11\n",
            "\n",
            "    accuracy                           0.67        18\n",
            "   macro avg       0.70      0.70      0.67        18\n",
            "weighted avg       0.74      0.67      0.67        18\n",
            "\n",
            "Optimal Number of Features: 1\n"
          ]
        }
      ]
    },
    {
      "cell_type": "markdown",
      "source": [
        "### LDA\n",
        "- f1-score : 0.692"
      ],
      "metadata": {
        "id": "cP65SQaN_Ujg"
      }
    },
    {
      "cell_type": "code",
      "source": [
        "# LDA 모델\n",
        "from sklearn.discriminant_analysis import LinearDiscriminantAnalysis\n",
        "lda_model = LinearDiscriminantAnalysis()\n",
        "# RFECV를 사용하여 최적의 특성 선택\n",
        "rfecv = RFECV(estimator=lda_model, cv=5)\n",
        "X_train_rfecv = rfecv.fit_transform(X_train, y_train)\n",
        "\n",
        "# 선택된 특성으로 모델 학습\n",
        "lda_model.fit(X_train_rfecv, y_train)\n",
        "\n",
        "# 테스트 데이터에도 선택된 특성을 적용\n",
        "X_test_rfecv = rfecv.transform(X_test)\n",
        "\n",
        "# 테스트 데이터에 대한 예측\n",
        "y_pred_lda = lda_model.predict(X_test_rfecv)\n",
        "\n",
        "conf_matrix = confusion_matrix(y_test, y_pred_lda)\n",
        "print(\"Confusion Matrix:\\n\", conf_matrix)\n",
        "\n",
        "# 정확도 계산\n",
        "accuracy_lda = accuracy_score(y_test, y_pred_lda)\n",
        "print(\"Test Accuracy:\", accuracy_lda)\n",
        "\n",
        "# f1-score 계산\n",
        "f1_lda = f1_score(y_test, y_pred_lda)\n",
        "print(\"f1-score:\", f1_lda)\n",
        "\n",
        "# AUC 계산\n",
        "auc_lda = roc_auc_score(y_test,y_pred_lda)\n",
        "print(\"AUC:\",auc_lda)\n",
        "\n",
        "# 분류 보고서 출력 (정밀도, 재현율, F1 점수 등)\n",
        "classification_rep_lda = classification_report(y_test, y_pred_lda)\n",
        "print(\"Classification Report:\\n\", classification_rep_lda)\n",
        "\n",
        "# 최적의 특성 개수 출력\n",
        "print(\"Optimal Number of Features:\", rfecv.n_features_)"
      ],
      "metadata": {
        "id": "dR_D943g_UIL",
        "colab": {
          "base_uri": "https://localhost:8080/"
        },
        "outputId": "99e8c019-3e4f-455e-f4e7-8b5f73830af9"
      },
      "execution_count": 121,
      "outputs": [
        {
          "output_type": "stream",
          "name": "stdout",
          "text": [
            "Confusion Matrix:\n",
            " [[1 6]\n",
            " [2 9]]\n",
            "Test Accuracy: 0.5555555555555556\n",
            "f1-score: 0.6923076923076923\n",
            "AUC: 0.48051948051948057\n",
            "Classification Report:\n",
            "               precision    recall  f1-score   support\n",
            "\n",
            "           0       0.33      0.14      0.20         7\n",
            "           1       0.60      0.82      0.69        11\n",
            "\n",
            "    accuracy                           0.56        18\n",
            "   macro avg       0.47      0.48      0.45        18\n",
            "weighted avg       0.50      0.56      0.50        18\n",
            "\n",
            "Optimal Number of Features: 2\n"
          ]
        }
      ]
    },
    {
      "cell_type": "markdown",
      "source": [
        "## paretic-Side"
      ],
      "metadata": {
        "id": "YdRdHm2b4hpG"
      }
    },
    {
      "cell_type": "code",
      "source": [
        "df_par = pd.DataFrame(par_angle_result)\n",
        "y = pd.DataFrame(y)\n",
        "par = pd.concat([y,df_par],axis=1)\n",
        "par.columns = ['PC'+ str(i) for i in range(0,44)]\n",
        "colname = list(par.columns)\n",
        "colname[0] = \"score\"\n",
        "par.columns = colname\n",
        "par.columns"
      ],
      "metadata": {
        "id": "vMCizY8R4hQ7",
        "colab": {
          "base_uri": "https://localhost:8080/"
        },
        "outputId": "dbd360fb-e86f-4608-9648-36f7a8bf43df"
      },
      "execution_count": 122,
      "outputs": [
        {
          "output_type": "execute_result",
          "data": {
            "text/plain": [
              "Index(['score', 'PC1', 'PC2', 'PC3', 'PC4', 'PC5', 'PC6', 'PC7', 'PC8', 'PC9',\n",
              "       'PC10', 'PC11', 'PC12', 'PC13', 'PC14', 'PC15', 'PC16', 'PC17', 'PC18',\n",
              "       'PC19', 'PC20', 'PC21', 'PC22', 'PC23', 'PC24', 'PC25', 'PC26', 'PC27',\n",
              "       'PC28', 'PC29', 'PC30', 'PC31', 'PC32', 'PC33', 'PC34', 'PC35', 'PC36',\n",
              "       'PC37', 'PC38', 'PC39', 'PC40', 'PC41', 'PC42', 'PC43'],\n",
              "      dtype='object')"
            ]
          },
          "metadata": {},
          "execution_count": 122
        }
      ]
    },
    {
      "cell_type": "code",
      "source": [
        "random.seed(1)\n",
        "X = par.loc[:,'PC1':'PC30']\n",
        "y = par['score']\n",
        "X_train , X_test , y_train , y_test  = train_test_split(X,y,test_size = 0.4,random_state=123)"
      ],
      "metadata": {
        "id": "Ux9MaXYJ4tav"
      },
      "execution_count": 123,
      "outputs": []
    },
    {
      "cell_type": "code",
      "source": [
        "k_best = SelectKBest(f_classif, k=20)  # 예제로 20개의 최상위 특성 선택\n",
        "X_train_selected = k_best.fit_transform(X_train, y_train)\n",
        "X_test_selected = k_best.transform(X_test)"
      ],
      "metadata": {
        "id": "EukGTeag4zNL"
      },
      "execution_count": 124,
      "outputs": []
    },
    {
      "cell_type": "markdown",
      "source": [
        "### logistic regression\n",
        "- f1-score : 0.583"
      ],
      "metadata": {
        "id": "etZAizsY-eiw"
      }
    },
    {
      "cell_type": "code",
      "source": [
        "from sklearn.feature_selection import RFECV\n",
        "lr_model = LogisticRegression()\n",
        "\n",
        "# RFECV를 사용하여 최적의 특성 선택\n",
        "rfecv = RFECV(estimator=lr_model, cv=5)\n",
        "X_train_rfecv = rfecv.fit_transform(X_train, y_train)\n",
        "\n",
        "# 선택된 특성으로 모델 학습\n",
        "lr_model.fit(X_train_rfecv, y_train)\n",
        "\n",
        "# 테스트 데이터에도 선택된 특성을 적용\n",
        "X_test_rfecv = rfecv.transform(X_test)\n",
        "\n",
        "# 테스트 데이터에 대한 예측\n",
        "y_pred_lr = lr_model.predict(X_test_rfecv)\n",
        "\n",
        "conf_matrix = confusion_matrix(y_test, y_pred_lr)\n",
        "print(\"Confusion Matrix:\\n\", conf_matrix)\n",
        "# 정확도 계산\n",
        "accuracy_lr_ps = accuracy_score(y_test, y_pred_lr)\n",
        "print(\"Test Accuracy:\", accuracy_lr_ps)\n",
        "\n",
        "# f1-score 계산\n",
        "f1_lr_ps = f1_score(y_test, y_pred_lr)\n",
        "print(\"f1-score:\", f1_lr_ps)\n",
        "\n",
        "# AUC 계산\n",
        "auc_lr_ps = roc_auc_score(y_test,y_pred_lr)\n",
        "print(\"AUC:\",auc_lr_ps)\n",
        "\n",
        "# 분류 보고서 출력 (정밀도, 재현율, F1 점수 등)\n",
        "classification_rep_lr = classification_report(y_test, y_pred_lr)\n",
        "print(\"Classification Report:\\n\", classification_rep_lr)\n",
        "\n",
        "# 최적의 특성 개수 출력\n",
        "print(\"Optimal Number of Features:\", rfecv.n_features_)"
      ],
      "metadata": {
        "colab": {
          "base_uri": "https://localhost:8080/"
        },
        "id": "cIJBpDcsZfHt",
        "outputId": "471458d4-a4ef-41c5-a89a-13f713b5f37a"
      },
      "execution_count": 125,
      "outputs": [
        {
          "output_type": "stream",
          "name": "stdout",
          "text": [
            "Confusion Matrix:\n",
            " [[1 6]\n",
            " [4 7]]\n",
            "Test Accuracy: 0.4444444444444444\n",
            "f1-score: 0.5833333333333334\n",
            "AUC: 0.38961038961038963\n",
            "Classification Report:\n",
            "               precision    recall  f1-score   support\n",
            "\n",
            "           0       0.20      0.14      0.17         7\n",
            "           1       0.54      0.64      0.58        11\n",
            "\n",
            "    accuracy                           0.44        18\n",
            "   macro avg       0.37      0.39      0.38        18\n",
            "weighted avg       0.41      0.44      0.42        18\n",
            "\n",
            "Optimal Number of Features: 2\n"
          ]
        }
      ]
    },
    {
      "cell_type": "markdown",
      "source": [
        "### paretic RandomForest\n",
        "- f1-score : 0.786"
      ],
      "metadata": {
        "id": "W1Kk6Iua_-Uq"
      }
    },
    {
      "cell_type": "code",
      "source": [
        "from sklearn.feature_selection import RFECV\n",
        "rf_model = RandomForestClassifier(n_estimators=100,random_state=123)\n",
        "\n",
        "# RFECV를 사용하여 최적의 특성 선택\n",
        "rfecv = RFECV(estimator=rf_model, cv=5)\n",
        "X_train_rfecv = rfecv.fit_transform(X_train, y_train)\n",
        "\n",
        "# 선택된 특성으로 모델 학습\n",
        "rf_model.fit(X_train_rfecv, y_train)\n",
        "\n",
        "# 테스트 데이터에도 선택된 특성을 적용\n",
        "X_test_rfecv = rfecv.transform(X_test)\n",
        "\n",
        "# 테스트 데이터에 대한 예측\n",
        "y_pred_rf = rf_model.predict(X_test_rfecv)\n",
        "\n",
        "conf_matrix = confusion_matrix(y_test, y_pred_rf)\n",
        "print(\"Confusion Matrix:\\n\", conf_matrix)\n",
        "\n",
        "# 정확도 계산\n",
        "accuracy_rf_ps = accuracy_score(y_test, y_pred_rf)\n",
        "print(\"Test Accuracy:\", accuracy_rf_ps)\n",
        "\n",
        "# f1-score 계산\n",
        "f1_rf_ps = f1_score(y_test, y_pred_rf)\n",
        "print(\"f1-score:\", f1_rf_ps)\n",
        "\n",
        "# AUC 계산\n",
        "auc_rf_ps = roc_auc_score(y_test,y_pred_rf)\n",
        "print(\"AUC:\",auc_rf_ps)\n",
        "\n",
        "\n",
        "# 분류 보고서 출력 (정밀도, 재현율, F1 점수 등)\n",
        "classification_rep_rf = classification_report(y_test, y_pred_rf)\n",
        "print(\"Classification Report:\\n\", classification_rep_rf)\n",
        "\n",
        "# 최적의 특성 개수 출력\n",
        "print(\"Optimal Number of Features:\", rfecv.n_features_)"
      ],
      "metadata": {
        "colab": {
          "base_uri": "https://localhost:8080/"
        },
        "id": "NKuW_hIUZkwv",
        "outputId": "0bc1cb5e-c458-4d90-aff7-cb97b3e2a0af"
      },
      "execution_count": 126,
      "outputs": [
        {
          "output_type": "stream",
          "name": "stdout",
          "text": [
            "Confusion Matrix:\n",
            " [[ 1  6]\n",
            " [ 0 11]]\n",
            "Test Accuracy: 0.6666666666666666\n",
            "f1-score: 0.7857142857142858\n",
            "AUC: 0.5714285714285714\n",
            "Classification Report:\n",
            "               precision    recall  f1-score   support\n",
            "\n",
            "           0       1.00      0.14      0.25         7\n",
            "           1       0.65      1.00      0.79        11\n",
            "\n",
            "    accuracy                           0.67        18\n",
            "   macro avg       0.82      0.57      0.52        18\n",
            "weighted avg       0.78      0.67      0.58        18\n",
            "\n",
            "Optimal Number of Features: 6\n"
          ]
        }
      ]
    },
    {
      "cell_type": "markdown",
      "source": [
        "### paretic SVM\n",
        "- f1-score : 0.5217"
      ],
      "metadata": {
        "id": "S20wVQYSAFkH"
      }
    },
    {
      "cell_type": "code",
      "source": [
        "from sklearn.feature_selection import RFECV\n",
        "svm_model = SVC(kernel='linear',random_state=123)\n",
        "\n",
        "# RFECV를 사용하여 최적의 특성 선택\n",
        "rfecv = RFECV(estimator=svm_model, cv=5)\n",
        "X_train_rfecv = rfecv.fit_transform(X_train, y_train)\n",
        "\n",
        "# 선택된 특성으로 모델 학습\n",
        "svm_model.fit(X_train_rfecv, y_train)\n",
        "\n",
        "# 테스트 데이터에도 선택된 특성을 적용\n",
        "X_test_rfecv = rfecv.transform(X_test)\n",
        "\n",
        "# 테스트 데이터에 대한 예측\n",
        "y_pred_svm = svm_model.predict(X_test_rfecv)\n",
        "\n",
        "conf_matrix = confusion_matrix(y_test, y_pred_svm)\n",
        "print(\"Confusion Matrix:\\n\", conf_matrix)\n",
        "\n",
        "# 정확도 계산\n",
        "accuracy_svm_ps = accuracy_score(y_test, y_pred_svm)\n",
        "print(\"Test Accuracy:\", accuracy_svm_ps)\n",
        "\n",
        "# f1-score 계산\n",
        "f1_svm_ps = f1_score(y_test, y_pred_svm)\n",
        "print(\"f1-score:\", f1_svm_ps)\n",
        "\n",
        "# AUC 계산\n",
        "auc_svm_ps = roc_auc_score(y_test,y_pred_svm)\n",
        "print(\"AUC:\",auc_svm_ps)\n",
        "\n",
        "\n",
        "# 분류 보고서 출력 (정밀도, 재현율, F1 점수 등)\n",
        "classification_rep_svm = classification_report(y_test, y_pred_svm)\n",
        "print(\"Classification Report:\\n\", classification_rep_svm)\n",
        "\n",
        "# 최적의 특성 개수 출력\n",
        "print(\"Optimal Number of Features:\", rfecv.n_features_)"
      ],
      "metadata": {
        "colab": {
          "base_uri": "https://localhost:8080/"
        },
        "id": "Gfm_jfA1ZscT",
        "outputId": "add9b60c-94af-4fd2-ef04-97633e14a970"
      },
      "execution_count": 127,
      "outputs": [
        {
          "output_type": "stream",
          "name": "stdout",
          "text": [
            "Confusion Matrix:\n",
            " [[1 6]\n",
            " [5 6]]\n",
            "Test Accuracy: 0.3888888888888889\n",
            "f1-score: 0.5217391304347826\n",
            "AUC: 0.34415584415584416\n",
            "Classification Report:\n",
            "               precision    recall  f1-score   support\n",
            "\n",
            "           0       0.17      0.14      0.15         7\n",
            "           1       0.50      0.55      0.52        11\n",
            "\n",
            "    accuracy                           0.39        18\n",
            "   macro avg       0.33      0.34      0.34        18\n",
            "weighted avg       0.37      0.39      0.38        18\n",
            "\n",
            "Optimal Number of Features: 5\n"
          ]
        }
      ]
    },
    {
      "cell_type": "markdown",
      "source": [
        "### paretic XGBoost\n",
        "- f1-score : 0.667"
      ],
      "metadata": {
        "id": "lkz1H0BrALQC"
      }
    },
    {
      "cell_type": "code",
      "source": [
        "from sklearn.feature_selection import RFECV\n",
        "import xgboost as xgb\n",
        "xgb_model = xgb.XGBClassifier(random_state=123)\n",
        "\n",
        "# RFECV를 사용하여 최적의 특성 선택\n",
        "rfecv = RFECV(estimator=xgb_model, cv=5)\n",
        "X_train_rfecv = rfecv.fit_transform(X_train, y_train)\n",
        "\n",
        "# 선택된 특성으로 모델 학습\n",
        "xgb_model.fit(X_train_rfecv, y_train)\n",
        "\n",
        "# 테스트 데이터에도 선택된 특성을 적용\n",
        "X_test_rfecv = rfecv.transform(X_test)\n",
        "\n",
        "# 테스트 데이터에 대한 예측\n",
        "y_pred_xgb = xgb_model.predict(X_test_rfecv)\n",
        "\n",
        "conf_matrix = confusion_matrix(y_test, y_pred_xgb)\n",
        "print(\"Confusion Matrix:\\n\", conf_matrix)\n",
        "\n",
        "# 정확도 계산\n",
        "accuracy_xgb_ps = accuracy_score(y_test, y_pred_xgb)\n",
        "print(\"Test Accuracy:\", accuracy_xgb_ps)\n",
        "\n",
        "# f1-score 계산\n",
        "f1_xgb_ps = f1_score(y_test, y_pred_xgb)\n",
        "print(\"f1-score:\", f1_xgb_ps)\n",
        "\n",
        "# AUC 계산\n",
        "auc_xgb_ps = roc_auc_score(y_test,y_pred_xgb)\n",
        "print(\"AUC:\",auc_xgb_ps)\n",
        "\n",
        "\n",
        "# 분류 보고서 출력 (정밀도, 재현율, F1 점수 등)\n",
        "classification_rep_xgb = classification_report(y_test, y_pred_xgb)\n",
        "print(\"Classification Report:\\n\", classification_rep_xgb)\n",
        "\n",
        "# 최적의 특성 개수 출력\n",
        "print(\"Optimal Number of Features:\", rfecv.n_features_)"
      ],
      "metadata": {
        "colab": {
          "base_uri": "https://localhost:8080/"
        },
        "id": "0I1DYESOZzbi",
        "outputId": "6d8efd0d-98ec-4f18-ba9b-8d5c64b5acc0"
      },
      "execution_count": 128,
      "outputs": [
        {
          "output_type": "stream",
          "name": "stdout",
          "text": [
            "Confusion Matrix:\n",
            " [[2 5]\n",
            " [3 8]]\n",
            "Test Accuracy: 0.5555555555555556\n",
            "f1-score: 0.6666666666666667\n",
            "AUC: 0.5064935064935066\n",
            "Classification Report:\n",
            "               precision    recall  f1-score   support\n",
            "\n",
            "           0       0.40      0.29      0.33         7\n",
            "           1       0.62      0.73      0.67        11\n",
            "\n",
            "    accuracy                           0.56        18\n",
            "   macro avg       0.51      0.51      0.50        18\n",
            "weighted avg       0.53      0.56      0.54        18\n",
            "\n",
            "Optimal Number of Features: 3\n"
          ]
        }
      ]
    },
    {
      "cell_type": "markdown",
      "source": [
        "### paretic LDA  \n",
        "- f1-score : 0.43"
      ],
      "metadata": {
        "id": "W3GNbtO8AO5O"
      }
    },
    {
      "cell_type": "code",
      "source": [
        "# LDA 모델\n",
        "from sklearn.discriminant_analysis import LinearDiscriminantAnalysis\n",
        "lda_model = LinearDiscriminantAnalysis()\n",
        "# RFECV를 사용하여 최적의 특성 선택\n",
        "rfecv = RFECV(estimator=lda_model, cv=5)\n",
        "X_train_rfecv = rfecv.fit_transform(X_train, y_train)\n",
        "\n",
        "# 선택된 특성으로 모델 학습\n",
        "lda_model.fit(X_train_rfecv, y_train)\n",
        "\n",
        "# 테스트 데이터에도 선택된 특성을 적용\n",
        "X_test_rfecv = rfecv.transform(X_test)\n",
        "\n",
        "# 테스트 데이터에 대한 예측\n",
        "y_pred_lda = lda_model.predict(X_test_rfecv)\n",
        "\n",
        "conf_matrix = confusion_matrix(y_test, y_pred_lda)\n",
        "print(\"Confusion Matrix:\\n\", conf_matrix)\n",
        "\n",
        "# 정확도 계산\n",
        "accuracy_lda_ps = accuracy_score(y_test, y_pred_lda)\n",
        "print(\"Test Accuracy:\", accuracy_lda_ps)\n",
        "\n",
        "# f1-score 계산\n",
        "f1_lda_ps = f1_score(y_test, y_pred_lda)\n",
        "print(\"f1-score:\", f1_lda_ps)\n",
        "\n",
        "# AUC 계산\n",
        "auc_lda_ps = roc_auc_score(y_test,y_pred_lda)\n",
        "print(\"AUC:\",auc_lda_ps)\n",
        "\n",
        "# 분류 보고서 출력 (정밀도, 재현율, F1 점수 등)\n",
        "classification_rep_lda = classification_report(y_test, y_pred_lda)\n",
        "print(\"Classification Report:\\n\", classification_rep_lda)\n",
        "\n",
        "# 최적의 특성 개수 출력\n",
        "print(\"Optimal Number of Features:\", rfecv.n_features_)"
      ],
      "metadata": {
        "colab": {
          "base_uri": "https://localhost:8080/"
        },
        "id": "eQbXsCFpZ5on",
        "outputId": "07acff9f-39ce-4bd5-8da2-acf1f0f6e4ef"
      },
      "execution_count": 129,
      "outputs": [
        {
          "output_type": "stream",
          "name": "stdout",
          "text": [
            "Confusion Matrix:\n",
            " [[0 7]\n",
            " [6 5]]\n",
            "Test Accuracy: 0.2777777777777778\n",
            "f1-score: 0.43478260869565216\n",
            "AUC: 0.22727272727272727\n",
            "Classification Report:\n",
            "               precision    recall  f1-score   support\n",
            "\n",
            "           0       0.00      0.00      0.00         7\n",
            "           1       0.42      0.45      0.43        11\n",
            "\n",
            "    accuracy                           0.28        18\n",
            "   macro avg       0.21      0.23      0.22        18\n",
            "weighted avg       0.25      0.28      0.27        18\n",
            "\n",
            "Optimal Number of Features: 8\n"
          ]
        }
      ]
    },
    {
      "cell_type": "code",
      "source": [
        "### AUC 결과\n",
        "result = {'model':[\"logistic\",\"RandomForest\",\"SVM\",\"XGBoost\",\"LDA\"],\n",
        "          'f1_score':[f1_lr,f1_rf,f1_svm,f1_xgb,f1_lda],\n",
        "          'paretic_f1_score':[f1_lr_ps,f1_rf_ps,f1_svm_ps,f1_xgb_ps,f1_lda_ps],\n",
        "          'AUC':[auc_lr,auc_rf,auc_svm,auc_xgb,auc_lda],\n",
        "          'Paretic_AUC':[auc_lr_ps,auc_rf_ps,auc_svm_ps,auc_xgb_ps,auc_lda_ps]}\n"
      ],
      "metadata": {
        "id": "M2gFZ2mZhVjP"
      },
      "execution_count": 130,
      "outputs": []
    },
    {
      "cell_type": "code",
      "source": [
        "result = pd.DataFrame(result)\n",
        "result"
      ],
      "metadata": {
        "colab": {
          "base_uri": "https://localhost:8080/",
          "height": 206
        },
        "id": "5520zG2GmcpK",
        "outputId": "8a2f9816-d0fc-4b43-a167-091bd2c81a00"
      },
      "execution_count": 131,
      "outputs": [
        {
          "output_type": "execute_result",
          "data": {
            "text/plain": [
              "          model  f1_score  paretic_f1_score       AUC  Paretic_AUC\n",
              "0      logistic  0.777778          0.583333  0.818182     0.389610\n",
              "1  RandomForest  0.846154          0.785714  0.714286     0.571429\n",
              "2           SVM  0.777778          0.521739  0.818182     0.344156\n",
              "3       XGBoost  0.666667          0.666667  0.701299     0.506494\n",
              "4           LDA  0.692308          0.434783  0.480519     0.227273"
            ],
            "text/html": [
              "\n",
              "  <div id=\"df-f66e278f-5862-4f71-b6dd-04d8b937cc67\" class=\"colab-df-container\">\n",
              "    <div>\n",
              "<style scoped>\n",
              "    .dataframe tbody tr th:only-of-type {\n",
              "        vertical-align: middle;\n",
              "    }\n",
              "\n",
              "    .dataframe tbody tr th {\n",
              "        vertical-align: top;\n",
              "    }\n",
              "\n",
              "    .dataframe thead th {\n",
              "        text-align: right;\n",
              "    }\n",
              "</style>\n",
              "<table border=\"1\" class=\"dataframe\">\n",
              "  <thead>\n",
              "    <tr style=\"text-align: right;\">\n",
              "      <th></th>\n",
              "      <th>model</th>\n",
              "      <th>f1_score</th>\n",
              "      <th>paretic_f1_score</th>\n",
              "      <th>AUC</th>\n",
              "      <th>Paretic_AUC</th>\n",
              "    </tr>\n",
              "  </thead>\n",
              "  <tbody>\n",
              "    <tr>\n",
              "      <th>0</th>\n",
              "      <td>logistic</td>\n",
              "      <td>0.777778</td>\n",
              "      <td>0.583333</td>\n",
              "      <td>0.818182</td>\n",
              "      <td>0.389610</td>\n",
              "    </tr>\n",
              "    <tr>\n",
              "      <th>1</th>\n",
              "      <td>RandomForest</td>\n",
              "      <td>0.846154</td>\n",
              "      <td>0.785714</td>\n",
              "      <td>0.714286</td>\n",
              "      <td>0.571429</td>\n",
              "    </tr>\n",
              "    <tr>\n",
              "      <th>2</th>\n",
              "      <td>SVM</td>\n",
              "      <td>0.777778</td>\n",
              "      <td>0.521739</td>\n",
              "      <td>0.818182</td>\n",
              "      <td>0.344156</td>\n",
              "    </tr>\n",
              "    <tr>\n",
              "      <th>3</th>\n",
              "      <td>XGBoost</td>\n",
              "      <td>0.666667</td>\n",
              "      <td>0.666667</td>\n",
              "      <td>0.701299</td>\n",
              "      <td>0.506494</td>\n",
              "    </tr>\n",
              "    <tr>\n",
              "      <th>4</th>\n",
              "      <td>LDA</td>\n",
              "      <td>0.692308</td>\n",
              "      <td>0.434783</td>\n",
              "      <td>0.480519</td>\n",
              "      <td>0.227273</td>\n",
              "    </tr>\n",
              "  </tbody>\n",
              "</table>\n",
              "</div>\n",
              "    <div class=\"colab-df-buttons\">\n",
              "\n",
              "  <div class=\"colab-df-container\">\n",
              "    <button class=\"colab-df-convert\" onclick=\"convertToInteractive('df-f66e278f-5862-4f71-b6dd-04d8b937cc67')\"\n",
              "            title=\"Convert this dataframe to an interactive table.\"\n",
              "            style=\"display:none;\">\n",
              "\n",
              "  <svg xmlns=\"http://www.w3.org/2000/svg\" height=\"24px\" viewBox=\"0 -960 960 960\">\n",
              "    <path d=\"M120-120v-720h720v720H120Zm60-500h600v-160H180v160Zm220 220h160v-160H400v160Zm0 220h160v-160H400v160ZM180-400h160v-160H180v160Zm440 0h160v-160H620v160ZM180-180h160v-160H180v160Zm440 0h160v-160H620v160Z\"/>\n",
              "  </svg>\n",
              "    </button>\n",
              "\n",
              "  <style>\n",
              "    .colab-df-container {\n",
              "      display:flex;\n",
              "      gap: 12px;\n",
              "    }\n",
              "\n",
              "    .colab-df-convert {\n",
              "      background-color: #E8F0FE;\n",
              "      border: none;\n",
              "      border-radius: 50%;\n",
              "      cursor: pointer;\n",
              "      display: none;\n",
              "      fill: #1967D2;\n",
              "      height: 32px;\n",
              "      padding: 0 0 0 0;\n",
              "      width: 32px;\n",
              "    }\n",
              "\n",
              "    .colab-df-convert:hover {\n",
              "      background-color: #E2EBFA;\n",
              "      box-shadow: 0px 1px 2px rgba(60, 64, 67, 0.3), 0px 1px 3px 1px rgba(60, 64, 67, 0.15);\n",
              "      fill: #174EA6;\n",
              "    }\n",
              "\n",
              "    .colab-df-buttons div {\n",
              "      margin-bottom: 4px;\n",
              "    }\n",
              "\n",
              "    [theme=dark] .colab-df-convert {\n",
              "      background-color: #3B4455;\n",
              "      fill: #D2E3FC;\n",
              "    }\n",
              "\n",
              "    [theme=dark] .colab-df-convert:hover {\n",
              "      background-color: #434B5C;\n",
              "      box-shadow: 0px 1px 3px 1px rgba(0, 0, 0, 0.15);\n",
              "      filter: drop-shadow(0px 1px 2px rgba(0, 0, 0, 0.3));\n",
              "      fill: #FFFFFF;\n",
              "    }\n",
              "  </style>\n",
              "\n",
              "    <script>\n",
              "      const buttonEl =\n",
              "        document.querySelector('#df-f66e278f-5862-4f71-b6dd-04d8b937cc67 button.colab-df-convert');\n",
              "      buttonEl.style.display =\n",
              "        google.colab.kernel.accessAllowed ? 'block' : 'none';\n",
              "\n",
              "      async function convertToInteractive(key) {\n",
              "        const element = document.querySelector('#df-f66e278f-5862-4f71-b6dd-04d8b937cc67');\n",
              "        const dataTable =\n",
              "          await google.colab.kernel.invokeFunction('convertToInteractive',\n",
              "                                                    [key], {});\n",
              "        if (!dataTable) return;\n",
              "\n",
              "        const docLinkHtml = 'Like what you see? Visit the ' +\n",
              "          '<a target=\"_blank\" href=https://colab.research.google.com/notebooks/data_table.ipynb>data table notebook</a>'\n",
              "          + ' to learn more about interactive tables.';\n",
              "        element.innerHTML = '';\n",
              "        dataTable['output_type'] = 'display_data';\n",
              "        await google.colab.output.renderOutput(dataTable, element);\n",
              "        const docLink = document.createElement('div');\n",
              "        docLink.innerHTML = docLinkHtml;\n",
              "        element.appendChild(docLink);\n",
              "      }\n",
              "    </script>\n",
              "  </div>\n",
              "\n",
              "\n",
              "<div id=\"df-8ecba064-4835-419a-8a84-edc1749bbf98\">\n",
              "  <button class=\"colab-df-quickchart\" onclick=\"quickchart('df-8ecba064-4835-419a-8a84-edc1749bbf98')\"\n",
              "            title=\"Suggest charts.\"\n",
              "            style=\"display:none;\">\n",
              "\n",
              "<svg xmlns=\"http://www.w3.org/2000/svg\" height=\"24px\"viewBox=\"0 0 24 24\"\n",
              "     width=\"24px\">\n",
              "    <g>\n",
              "        <path d=\"M19 3H5c-1.1 0-2 .9-2 2v14c0 1.1.9 2 2 2h14c1.1 0 2-.9 2-2V5c0-1.1-.9-2-2-2zM9 17H7v-7h2v7zm4 0h-2V7h2v10zm4 0h-2v-4h2v4z\"/>\n",
              "    </g>\n",
              "</svg>\n",
              "  </button>\n",
              "\n",
              "<style>\n",
              "  .colab-df-quickchart {\n",
              "      --bg-color: #E8F0FE;\n",
              "      --fill-color: #1967D2;\n",
              "      --hover-bg-color: #E2EBFA;\n",
              "      --hover-fill-color: #174EA6;\n",
              "      --disabled-fill-color: #AAA;\n",
              "      --disabled-bg-color: #DDD;\n",
              "  }\n",
              "\n",
              "  [theme=dark] .colab-df-quickchart {\n",
              "      --bg-color: #3B4455;\n",
              "      --fill-color: #D2E3FC;\n",
              "      --hover-bg-color: #434B5C;\n",
              "      --hover-fill-color: #FFFFFF;\n",
              "      --disabled-bg-color: #3B4455;\n",
              "      --disabled-fill-color: #666;\n",
              "  }\n",
              "\n",
              "  .colab-df-quickchart {\n",
              "    background-color: var(--bg-color);\n",
              "    border: none;\n",
              "    border-radius: 50%;\n",
              "    cursor: pointer;\n",
              "    display: none;\n",
              "    fill: var(--fill-color);\n",
              "    height: 32px;\n",
              "    padding: 0;\n",
              "    width: 32px;\n",
              "  }\n",
              "\n",
              "  .colab-df-quickchart:hover {\n",
              "    background-color: var(--hover-bg-color);\n",
              "    box-shadow: 0 1px 2px rgba(60, 64, 67, 0.3), 0 1px 3px 1px rgba(60, 64, 67, 0.15);\n",
              "    fill: var(--button-hover-fill-color);\n",
              "  }\n",
              "\n",
              "  .colab-df-quickchart-complete:disabled,\n",
              "  .colab-df-quickchart-complete:disabled:hover {\n",
              "    background-color: var(--disabled-bg-color);\n",
              "    fill: var(--disabled-fill-color);\n",
              "    box-shadow: none;\n",
              "  }\n",
              "\n",
              "  .colab-df-spinner {\n",
              "    border: 2px solid var(--fill-color);\n",
              "    border-color: transparent;\n",
              "    border-bottom-color: var(--fill-color);\n",
              "    animation:\n",
              "      spin 1s steps(1) infinite;\n",
              "  }\n",
              "\n",
              "  @keyframes spin {\n",
              "    0% {\n",
              "      border-color: transparent;\n",
              "      border-bottom-color: var(--fill-color);\n",
              "      border-left-color: var(--fill-color);\n",
              "    }\n",
              "    20% {\n",
              "      border-color: transparent;\n",
              "      border-left-color: var(--fill-color);\n",
              "      border-top-color: var(--fill-color);\n",
              "    }\n",
              "    30% {\n",
              "      border-color: transparent;\n",
              "      border-left-color: var(--fill-color);\n",
              "      border-top-color: var(--fill-color);\n",
              "      border-right-color: var(--fill-color);\n",
              "    }\n",
              "    40% {\n",
              "      border-color: transparent;\n",
              "      border-right-color: var(--fill-color);\n",
              "      border-top-color: var(--fill-color);\n",
              "    }\n",
              "    60% {\n",
              "      border-color: transparent;\n",
              "      border-right-color: var(--fill-color);\n",
              "    }\n",
              "    80% {\n",
              "      border-color: transparent;\n",
              "      border-right-color: var(--fill-color);\n",
              "      border-bottom-color: var(--fill-color);\n",
              "    }\n",
              "    90% {\n",
              "      border-color: transparent;\n",
              "      border-bottom-color: var(--fill-color);\n",
              "    }\n",
              "  }\n",
              "</style>\n",
              "\n",
              "  <script>\n",
              "    async function quickchart(key) {\n",
              "      const quickchartButtonEl =\n",
              "        document.querySelector('#' + key + ' button');\n",
              "      quickchartButtonEl.disabled = true;  // To prevent multiple clicks.\n",
              "      quickchartButtonEl.classList.add('colab-df-spinner');\n",
              "      try {\n",
              "        const charts = await google.colab.kernel.invokeFunction(\n",
              "            'suggestCharts', [key], {});\n",
              "      } catch (error) {\n",
              "        console.error('Error during call to suggestCharts:', error);\n",
              "      }\n",
              "      quickchartButtonEl.classList.remove('colab-df-spinner');\n",
              "      quickchartButtonEl.classList.add('colab-df-quickchart-complete');\n",
              "    }\n",
              "    (() => {\n",
              "      let quickchartButtonEl =\n",
              "        document.querySelector('#df-8ecba064-4835-419a-8a84-edc1749bbf98 button');\n",
              "      quickchartButtonEl.style.display =\n",
              "        google.colab.kernel.accessAllowed ? 'block' : 'none';\n",
              "    })();\n",
              "  </script>\n",
              "</div>\n",
              "    </div>\n",
              "  </div>\n"
            ]
          },
          "metadata": {},
          "execution_count": 131
        }
      ]
    },
    {
      "cell_type": "code",
      "source": [
        "!jupyter nbconvert --to html \"/content/drive/MyDrive/Colab Notebooks/Angle.ipynb\""
      ],
      "metadata": {
        "colab": {
          "base_uri": "https://localhost:8080/"
        },
        "id": "xODny4UMQxNC",
        "outputId": "48d6c294-c87b-4ec9-e288-e0249dd15a55"
      },
      "execution_count": 132,
      "outputs": [
        {
          "output_type": "stream",
          "name": "stdout",
          "text": [
            "[NbConvertApp] Converting notebook /content/drive/MyDrive/Colab Notebooks/Angle.ipynb to html\n",
            "[NbConvertApp] Writing 679529 bytes to /content/drive/MyDrive/Colab Notebooks/Angle.html\n"
          ]
        }
      ]
    }
  ]
}