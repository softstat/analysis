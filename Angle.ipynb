{
  "nbformat": 4,
  "nbformat_minor": 0,
  "metadata": {
    "colab": {
      "provenance": [],
      "authorship_tag": "ABX9TyMq9Amo8Yh1ma+Vru9lH8zu",
      "include_colab_link": true
    },
    "kernelspec": {
      "name": "python3",
      "display_name": "Python 3"
    },
    "language_info": {
      "name": "python"
    }
  },
  "cells": [
    {
      "cell_type": "markdown",
      "metadata": {
        "id": "view-in-github",
        "colab_type": "text"
      },
      "source": [
        "<a href=\"https://colab.research.google.com/github/softstat/analysis/blob/main/Angle.ipynb\" target=\"_parent\"><img src=\"https://colab.research.google.com/assets/colab-badge.svg\" alt=\"Open In Colab\"/></a>"
      ]
    },
    {
      "cell_type": "code",
      "execution_count": 267,
      "metadata": {
        "colab": {
          "base_uri": "https://localhost:8080/"
        },
        "id": "98VK-SuuNkIx",
        "outputId": "ed29c85b-0f33-4a28-8b46-7da76b0ddbdd"
      },
      "outputs": [
        {
          "output_type": "stream",
          "name": "stdout",
          "text": [
            "Drive already mounted at /content/drive; to attempt to forcibly remount, call drive.mount(\"/content/drive\", force_remount=True).\n"
          ]
        }
      ],
      "source": [
        "from google.colab import drive\n",
        "drive.mount('/content/drive')"
      ]
    },
    {
      "cell_type": "code",
      "source": [
        "cd drive"
      ],
      "metadata": {
        "colab": {
          "base_uri": "https://localhost:8080/"
        },
        "id": "DRDJ0uEMNzSQ",
        "outputId": "43cd6f26-13db-4dbf-f79d-e96f0c1d773f"
      },
      "execution_count": 268,
      "outputs": [
        {
          "output_type": "stream",
          "name": "stdout",
          "text": [
            "[Errno 2] No such file or directory: 'drive'\n",
            "/content/drive/MyDrive/Data\n"
          ]
        }
      ]
    },
    {
      "cell_type": "code",
      "source": [
        "cd MyDrive"
      ],
      "metadata": {
        "colab": {
          "base_uri": "https://localhost:8080/"
        },
        "id": "LXYtwAhyN-G2",
        "outputId": "ceef78c3-202b-4e29-d9c1-7c8688779fad"
      },
      "execution_count": 269,
      "outputs": [
        {
          "output_type": "stream",
          "name": "stdout",
          "text": [
            "[Errno 2] No such file or directory: 'MyDrive'\n",
            "/content/drive/MyDrive/Data\n"
          ]
        }
      ]
    },
    {
      "cell_type": "code",
      "source": [
        "cd Data"
      ],
      "metadata": {
        "colab": {
          "base_uri": "https://localhost:8080/"
        },
        "id": "nQu45800OBnK",
        "outputId": "e1574cfa-e8e5-4aaf-9c7f-bd7f3f716dec"
      },
      "execution_count": 270,
      "outputs": [
        {
          "output_type": "stream",
          "name": "stdout",
          "text": [
            "[Errno 2] No such file or directory: 'Data'\n",
            "/content/drive/MyDrive/Data\n"
          ]
        }
      ]
    },
    {
      "cell_type": "code",
      "source": [
        "ls"
      ],
      "metadata": {
        "colab": {
          "base_uri": "https://localhost:8080/"
        },
        "id": "MhcIcbTrOCzG",
        "outputId": "0eff4969-23f9-48c4-9a1f-269af3fcee12"
      },
      "execution_count": 271,
      "outputs": [
        {
          "output_type": "stream",
          "name": "stdout",
          "text": [
            " angle_gait.csv              data.csv            weather.csv\n",
            "'Clinical Assessment.xlsx'   titanic_train.csv\n"
          ]
        }
      ]
    },
    {
      "cell_type": "code",
      "source": [
        "import pandas as pd\n",
        "angle = pd.read_csv('angle_gait.csv')\n",
        "clinical_assessment = pd.read_excel('Clinical Assessment.xlsx')"
      ],
      "metadata": {
        "id": "0hhulw_EODVG"
      },
      "execution_count": 272,
      "outputs": []
    },
    {
      "cell_type": "code",
      "source": [
        "angle.drop('Unnamed: 0',axis=1,inplace=True)"
      ],
      "metadata": {
        "id": "4NMcAhwFOJMp"
      },
      "execution_count": 273,
      "outputs": []
    },
    {
      "cell_type": "code",
      "source": [
        "import pandas as pd\n",
        "from sklearn.decomposition import PCA\n",
        "from sklearn.model_selection import train_test_split\n",
        "from sklearn.linear_model import LogisticRegression\n",
        "from sklearn.ensemble import RandomForestClassifier\n",
        "from sklearn.svm import SVC\n",
        "from xgboost import XGBClassifier\n",
        "from sklearn.discriminant_analysis import LinearDiscriminantAnalysis as LDA\n",
        "from sklearn.metrics import confusion_matrix, roc_auc_score, roc_curve\n",
        "from sklearn.model_selection import GridSearchCV\n",
        "from sklearn.preprocessing import StandardScaler\n",
        "from sklearn.metrics import f1_score\n",
        "from sklearn.metrics import accuracy_score\n",
        "from sklearn.feature_selection import SelectKBest\n",
        "from sklearn.feature_selection import f_classif\n",
        "import warnings\n",
        "from sklearn.feature_selection import RFE\n",
        "from sklearn.metrics import accuracy_score, classification_report"
      ],
      "metadata": {
        "id": "sOS1cNMDT7Mf"
      },
      "execution_count": 274,
      "outputs": []
    },
    {
      "cell_type": "code",
      "source": [
        "warnings.filterwarnings(action='ignore')"
      ],
      "metadata": {
        "id": "ZMolryQYSmuk"
      },
      "execution_count": 275,
      "outputs": []
    },
    {
      "cell_type": "code",
      "source": [
        "def perform_pca(data, num_components):\n",
        "    scaler = StandardScaler()\n",
        "    scaled_data = scaler.fit_transform(data)\n",
        "    pca = PCA(n_components=num_components)\n",
        "    pca_result = pca.fit_transform(scaled_data)\n",
        "    return pca_result"
      ],
      "metadata": {
        "id": "pVcB4nqlUCWT"
      },
      "execution_count": 276,
      "outputs": []
    },
    {
      "cell_type": "code",
      "source": [
        "col = angle.columns\n",
        "col = col.str.replace('[^\\w\\s]', '', regex=True)\n",
        "angle.columns = col\n",
        "num_components = 43"
      ],
      "metadata": {
        "id": "4cEr_CT4UGF_"
      },
      "execution_count": 277,
      "outputs": []
    },
    {
      "cell_type": "code",
      "source": [
        "angle = angle.dropna()\n",
        "na_sum = angle.isna().sum()"
      ],
      "metadata": {
        "id": "wlISc1Lzd4tD"
      },
      "execution_count": 278,
      "outputs": []
    },
    {
      "cell_type": "code",
      "source": [
        "import random\n",
        "random.seed(1)\n",
        "total_angle_gait_pca = angle.copy()\n",
        "total_angle_model = PCA(n_components=num_components)\n",
        "total_angle_result = total_angle_model.fit_transform(total_angle_gait_pca)"
      ],
      "metadata": {
        "id": "kTCcpUeaUK-P"
      },
      "execution_count": 279,
      "outputs": []
    },
    {
      "cell_type": "code",
      "source": [
        "total_angle_result"
      ],
      "metadata": {
        "colab": {
          "base_uri": "https://localhost:8080/"
        },
        "id": "AddrhzTpUZgH",
        "outputId": "a459650f-eb9b-44ae-8a96-fa992105638c"
      },
      "execution_count": 280,
      "outputs": [
        {
          "output_type": "execute_result",
          "data": {
            "text/plain": [
              "array([[-1.69715644e+02,  2.78757824e+01,  1.24143094e+02, ...,\n",
              "        -3.92471603e+00,  2.51926619e+00,  8.50845056e-14],\n",
              "       [-2.23333375e+02, -1.54750144e+01,  4.69437877e+01, ...,\n",
              "        -4.22573239e-01,  3.29514125e+00,  8.50845056e-14],\n",
              "       [ 6.22312161e+01, -1.43502742e+01,  5.24627212e+02, ...,\n",
              "        -6.68759815e-01,  2.06298071e+00,  8.50845056e-14],\n",
              "       ...,\n",
              "       [ 2.16404983e+02,  2.36416445e+02, -8.90716272e+01, ...,\n",
              "         2.55564438e-02,  7.50927346e+00,  8.50845056e-14],\n",
              "       [-1.13801129e+01, -3.60015911e+01, -4.82583542e+01, ...,\n",
              "         1.01146215e+01,  5.30972112e+00,  8.50845056e-14],\n",
              "       [ 3.27822467e+01, -1.90162479e+02,  1.36776906e+02, ...,\n",
              "         4.80209806e+00,  6.26140866e+00,  8.50845056e-14]])"
            ]
          },
          "metadata": {},
          "execution_count": 280
        }
      ]
    },
    {
      "cell_type": "code",
      "source": [
        "import numpy as np\n",
        "angle = np.array(angle)\n",
        "non_angle = angle[:,0:2424]"
      ],
      "metadata": {
        "id": "s6NuCfd1eTIO"
      },
      "execution_count": 281,
      "outputs": []
    },
    {
      "cell_type": "code",
      "source": [
        "random.seed(123)\n",
        "non_angle_model = PCA(n_components=num_components)\n",
        "non_angle_result = non_angle_model.fit_transform(non_angle)"
      ],
      "metadata": {
        "id": "AiebPadie8tT"
      },
      "execution_count": 282,
      "outputs": []
    },
    {
      "cell_type": "code",
      "source": [
        "non_angle_result.shape"
      ],
      "metadata": {
        "colab": {
          "base_uri": "https://localhost:8080/"
        },
        "id": "LwXPOl3yhgCL",
        "outputId": "55533ceb-2ee5-49a8-b72c-846c085ba41e"
      },
      "execution_count": 283,
      "outputs": [
        {
          "output_type": "execute_result",
          "data": {
            "text/plain": [
              "(43, 43)"
            ]
          },
          "metadata": {},
          "execution_count": 283
        }
      ]
    },
    {
      "cell_type": "code",
      "source": [
        "par_angle = angle[:,2525:4848]\n",
        "random.seed(123)\n",
        "par_angle_model = PCA(n_components=num_components)\n",
        "par_angle_result = par_angle_model.fit_transform(par_angle)"
      ],
      "metadata": {
        "id": "PP4xFRIZfvex"
      },
      "execution_count": 284,
      "outputs": []
    },
    {
      "cell_type": "code",
      "source": [
        "score = clinical_assessment.iloc[:,9]"
      ],
      "metadata": {
        "id": "Tdpok48uhZpk"
      },
      "execution_count": 285,
      "outputs": []
    },
    {
      "cell_type": "code",
      "source": [
        "score = score.dropna()\n",
        "del score[0]\n",
        "del score[15]"
      ],
      "metadata": {
        "id": "AJadJlbSjOH_"
      },
      "execution_count": 286,
      "outputs": []
    },
    {
      "cell_type": "code",
      "source": [
        "y = []\n",
        "for value in score:\n",
        "    if value >= 45:\n",
        "        y.append(1)\n",
        "    else:\n",
        "        y.append(0)\n",
        "print(y)"
      ],
      "metadata": {
        "colab": {
          "base_uri": "https://localhost:8080/"
        },
        "id": "QwYQTMIPm8Na",
        "outputId": "1dd58ab6-6de0-4d65-9fbc-2b78cd525ea0"
      },
      "execution_count": 287,
      "outputs": [
        {
          "output_type": "stream",
          "name": "stdout",
          "text": [
            "[0, 1, 1, 1, 0, 0, 1, 1, 1, 0, 1, 0, 0, 1, 1, 0, 0, 1, 1, 1, 0, 0, 1, 0, 1, 1, 0, 1, 1, 1, 1, 1, 1, 0, 1, 1, 1, 1, 1, 1, 1, 1, 0]\n"
          ]
        }
      ]
    },
    {
      "cell_type": "markdown",
      "source": [
        "## Non-paretic Side"
      ],
      "metadata": {
        "id": "JSSzXrGY96iI"
      }
    },
    {
      "cell_type": "code",
      "source": [
        "df_non = pd.DataFrame(non_angle_result)"
      ],
      "metadata": {
        "id": "JsPFHwjPs6Nc"
      },
      "execution_count": 288,
      "outputs": []
    },
    {
      "cell_type": "code",
      "source": [
        "y = pd.DataFrame(y)"
      ],
      "metadata": {
        "id": "llaQpSJBt47Z"
      },
      "execution_count": 289,
      "outputs": []
    },
    {
      "cell_type": "code",
      "source": [
        "non = pd.concat([y,df_non],axis=1)"
      ],
      "metadata": {
        "id": "ogLfBjR2uFA3"
      },
      "execution_count": 290,
      "outputs": []
    },
    {
      "cell_type": "code",
      "source": [
        "non.columns = ['PC'+ str(i) for i in range(0,44)]"
      ],
      "metadata": {
        "id": "IGrsQTFQv35s"
      },
      "execution_count": 291,
      "outputs": []
    },
    {
      "cell_type": "code",
      "source": [
        "colname = list(non.columns)\n",
        "colname[0] = \"score\"\n",
        "non.columns = colname\n",
        "non.columns"
      ],
      "metadata": {
        "colab": {
          "base_uri": "https://localhost:8080/"
        },
        "id": "KDH0f19zwv2X",
        "outputId": "0e592af2-2d21-4696-9b74-34bf39e6a243"
      },
      "execution_count": 292,
      "outputs": [
        {
          "output_type": "execute_result",
          "data": {
            "text/plain": [
              "Index(['score', 'PC1', 'PC2', 'PC3', 'PC4', 'PC5', 'PC6', 'PC7', 'PC8', 'PC9',\n",
              "       'PC10', 'PC11', 'PC12', 'PC13', 'PC14', 'PC15', 'PC16', 'PC17', 'PC18',\n",
              "       'PC19', 'PC20', 'PC21', 'PC22', 'PC23', 'PC24', 'PC25', 'PC26', 'PC27',\n",
              "       'PC28', 'PC29', 'PC30', 'PC31', 'PC32', 'PC33', 'PC34', 'PC35', 'PC36',\n",
              "       'PC37', 'PC38', 'PC39', 'PC40', 'PC41', 'PC42', 'PC43'],\n",
              "      dtype='object')"
            ]
          },
          "metadata": {},
          "execution_count": 292
        }
      ]
    },
    {
      "cell_type": "code",
      "source": [
        "X = non.loc[:,'PC1':'PC43']\n",
        "y = non['score']\n",
        "X_train , X_test , y_train , y_test  = train_test_split(X,y,test_size = 0.4,random_state=123)"
      ],
      "metadata": {
        "id": "Jf5TVztFllwt"
      },
      "execution_count": 293,
      "outputs": []
    },
    {
      "cell_type": "markdown",
      "source": [
        "### logistic regression"
      ],
      "metadata": {
        "id": "c-EUa6cL_B7j"
      }
    },
    {
      "cell_type": "code",
      "source": [
        "from sklearn.feature_selection import RFECV\n",
        "lr_model = LogisticRegression()\n",
        "\n",
        "# RFECV를 사용하여 최적의 특성 선택\n",
        "rfecv = RFECV(estimator=lr_model, cv=5)\n",
        "X_train_rfecv = rfecv.fit_transform(X_train, y_train)\n",
        "\n",
        "# 선택된 특성으로 모델 학습\n",
        "lr_model.fit(X_train_rfecv, y_train)\n",
        "\n",
        "# 테스트 데이터에도 선택된 특성을 적용\n",
        "X_test_rfecv = rfecv.transform(X_test)\n",
        "\n",
        "# 테스트 데이터에 대한 예측\n",
        "y_pred_lr = lr_model.predict(X_test_rfecv)\n",
        "\n",
        "conf_matrix = confusion_matrix(y_test, y_pred_lr)\n",
        "print(\"Confusion Matrix:\\n\", conf_matrix)\n",
        "# 정확도 계산\n",
        "accuracy_lr = accuracy_score(y_test, y_pred_lr)\n",
        "print(\"Test Accuracy:\", accuracy_lr)\n",
        "\n",
        "# f1-score 계산\n",
        "f1_lr = f1_score(y_test, y_pred_lr)\n",
        "print(\"f1-score:\", f1_lr)\n",
        "\n",
        "\n",
        "# 분류 보고서 출력 (정밀도, 재현율, F1 점수 등)\n",
        "classification_rep_lr = classification_report(y_test, y_pred_lr)\n",
        "print(\"Classification Report:\\n\", classification_rep_lr)\n",
        "\n",
        "# 최적의 특성 개수 출력\n",
        "print(\"Optimal Number of Features:\", rfecv.n_features_)"
      ],
      "metadata": {
        "colab": {
          "base_uri": "https://localhost:8080/"
        },
        "id": "hdqSImHyS90Q",
        "outputId": "d76d0d99-e49f-43ed-863c-40c658a0468e"
      },
      "execution_count": 294,
      "outputs": [
        {
          "output_type": "stream",
          "name": "stdout",
          "text": [
            "Confusion Matrix:\n",
            " [[7 0]\n",
            " [4 7]]\n",
            "Test Accuracy: 0.7777777777777778\n",
            "f1-score: 0.7777777777777778\n",
            "Classification Report:\n",
            "               precision    recall  f1-score   support\n",
            "\n",
            "           0       0.64      1.00      0.78         7\n",
            "           1       1.00      0.64      0.78        11\n",
            "\n",
            "    accuracy                           0.78        18\n",
            "   macro avg       0.82      0.82      0.78        18\n",
            "weighted avg       0.86      0.78      0.78        18\n",
            "\n",
            "Optimal Number of Features: 6\n"
          ]
        }
      ]
    },
    {
      "cell_type": "markdown",
      "source": [
        "### Random Forest"
      ],
      "metadata": {
        "id": "BlZbG2hX_Fhx"
      }
    },
    {
      "cell_type": "code",
      "source": [
        "from sklearn.feature_selection import RFECV\n",
        "rf_model = RandomForestClassifier(n_estimators=100,random_state=123)\n",
        "\n",
        "# RFECV를 사용하여 최적의 특성 선택\n",
        "rfecv = RFECV(estimator=rf_model, cv=5)\n",
        "X_train_rfecv = rfecv.fit_transform(X_train, y_train)\n",
        "\n",
        "# 선택된 특성으로 모델 학습\n",
        "rf_model.fit(X_train_rfecv, y_train)\n",
        "\n",
        "# 테스트 데이터에도 선택된 특성을 적용\n",
        "X_test_rfecv = rfecv.transform(X_test)\n",
        "\n",
        "# 테스트 데이터에 대한 예측\n",
        "y_pred_rf = rf_model.predict(X_test_rfecv)\n",
        "\n",
        "conf_matrix = confusion_matrix(y_test, y_pred_rf)\n",
        "print(\"Confusion Matrix:\\n\", conf_matrix)\n",
        "\n",
        "# 정확도 계산\n",
        "accuracy_rf = accuracy_score(y_test, y_pred_rf)\n",
        "print(\"Test Accuracy:\", accuracy_rf)\n",
        "\n",
        "# f1-score 계산\n",
        "f1_rf = f1_score(y_test, y_pred_rf)\n",
        "print(\"f1-score:\", f1_rf)\n",
        "\n",
        "\n",
        "# 분류 보고서 출력 (정밀도, 재현율, F1 점수 등)\n",
        "classification_rep_rf = classification_report(y_test, y_pred_rf)\n",
        "print(\"Classification Report:\\n\", classification_rep_rf)\n",
        "\n",
        "# 최적의 특성 개수 출력\n",
        "print(\"Optimal Number of Features:\", rfecv.n_features_)"
      ],
      "metadata": {
        "colab": {
          "base_uri": "https://localhost:8080/"
        },
        "id": "b2ZcJHuQVn2h",
        "outputId": "8b672929-773f-4dbd-a626-c2cb78baa7dc"
      },
      "execution_count": 295,
      "outputs": [
        {
          "output_type": "stream",
          "name": "stdout",
          "text": [
            "Confusion Matrix:\n",
            " [[ 3  4]\n",
            " [ 0 11]]\n",
            "Test Accuracy: 0.7777777777777778\n",
            "f1-score: 0.846153846153846\n",
            "Classification Report:\n",
            "               precision    recall  f1-score   support\n",
            "\n",
            "           0       1.00      0.43      0.60         7\n",
            "           1       0.73      1.00      0.85        11\n",
            "\n",
            "    accuracy                           0.78        18\n",
            "   macro avg       0.87      0.71      0.72        18\n",
            "weighted avg       0.84      0.78      0.75        18\n",
            "\n",
            "Optimal Number of Features: 5\n"
          ]
        }
      ]
    },
    {
      "cell_type": "markdown",
      "source": [
        "### SVM"
      ],
      "metadata": {
        "id": "xsGv8kVa_NdT"
      }
    },
    {
      "cell_type": "code",
      "source": [
        "from sklearn.feature_selection import RFECV\n",
        "svm_model = SVC(kernel='linear',random_state=123)\n",
        "\n",
        "# RFECV를 사용하여 최적의 특성 선택\n",
        "rfecv = RFECV(estimator=rf_model, cv=5)\n",
        "X_train_rfecv = rfecv.fit_transform(X_train, y_train)\n",
        "\n",
        "# 선택된 특성으로 모델 학습\n",
        "svm_model.fit(X_train_rfecv, y_train)\n",
        "\n",
        "# 테스트 데이터에도 선택된 특성을 적용\n",
        "X_test_rfecv = rfecv.transform(X_test)\n",
        "\n",
        "# 테스트 데이터에 대한 예측\n",
        "y_pred_svm = svm_model.predict(X_test_rfecv)\n",
        "\n",
        "conf_matrix = confusion_matrix(y_test, y_pred_svm)\n",
        "print(\"Confusion Matrix:\\n\", conf_matrix)\n",
        "\n",
        "# 정확도 계산\n",
        "accuracy_svm = accuracy_score(y_test, y_pred_svm)\n",
        "print(\"Test Accuracy:\", accuracy_svm)\n",
        "\n",
        "# f1-score 계산\n",
        "f1_svm = f1_score(y_test, y_pred_svm)\n",
        "print(\"f1-score:\", f1_svm)\n",
        "\n",
        "\n",
        "# 분류 보고서 출력 (정밀도, 재현율, F1 점수 등)\n",
        "classification_rep_svm = classification_report(y_test, y_pred_svm)\n",
        "print(\"Classification Report:\\n\", classification_rep_svm)\n",
        "\n",
        "# 최적의 특성 개수 출력\n",
        "print(\"Optimal Number of Features:\", rfecv.n_features_)"
      ],
      "metadata": {
        "colab": {
          "base_uri": "https://localhost:8080/"
        },
        "id": "Dju3eI8S_M4Y",
        "outputId": "59eb4885-2485-45dd-a7ec-fb9d4540894f"
      },
      "execution_count": 296,
      "outputs": [
        {
          "output_type": "stream",
          "name": "stdout",
          "text": [
            "Confusion Matrix:\n",
            " [[ 6  1]\n",
            " [ 1 10]]\n",
            "Test Accuracy: 0.8888888888888888\n",
            "f1-score: 0.9090909090909091\n",
            "Classification Report:\n",
            "               precision    recall  f1-score   support\n",
            "\n",
            "           0       0.86      0.86      0.86         7\n",
            "           1       0.91      0.91      0.91        11\n",
            "\n",
            "    accuracy                           0.89        18\n",
            "   macro avg       0.88      0.88      0.88        18\n",
            "weighted avg       0.89      0.89      0.89        18\n",
            "\n",
            "Optimal Number of Features: 5\n"
          ]
        }
      ]
    },
    {
      "cell_type": "markdown",
      "source": [
        "### XGBoost"
      ],
      "metadata": {
        "id": "AbxWhSSo_RKA"
      }
    },
    {
      "cell_type": "code",
      "source": [
        "from sklearn.feature_selection import RFECV\n",
        "import xgboost as xgb\n",
        "xgb_model = xgb.XGBClassifier(random_state=123)\n",
        "\n",
        "# RFECV를 사용하여 최적의 특성 선택\n",
        "rfecv = RFECV(estimator=rf_model, cv=5)\n",
        "X_train_rfecv = rfecv.fit_transform(X_train, y_train)\n",
        "\n",
        "# 선택된 특성으로 모델 학습\n",
        "xgb_model.fit(X_train_rfecv, y_train)\n",
        "\n",
        "# 테스트 데이터에도 선택된 특성을 적용\n",
        "X_test_rfecv = rfecv.transform(X_test)\n",
        "\n",
        "# 테스트 데이터에 대한 예측\n",
        "y_pred_xgb = xgb_model.predict(X_test_rfecv)\n",
        "\n",
        "conf_matrix = confusion_matrix(y_test, y_pred_xgb)\n",
        "print(\"Confusion Matrix:\\n\", conf_matrix)\n",
        "\n",
        "# 정확도 계산\n",
        "accuracy_xgb = accuracy_score(y_test, y_pred_xgb)\n",
        "print(\"Test Accuracy:\", accuracy_xgb)\n",
        "\n",
        "# f1-score 계산\n",
        "f1_xgb = f1_score(y_test, y_pred_xgb)\n",
        "print(\"f1-score:\", f1_xgb)\n",
        "\n",
        "\n",
        "# 분류 보고서 출력 (정밀도, 재현율, F1 점수 등)\n",
        "classification_rep_xgb = classification_report(y_test, y_pred_xgb)\n",
        "print(\"Classification Report:\\n\", classification_rep_xgb)\n",
        "\n",
        "# 최적의 특성 개수 출력\n",
        "print(\"Optimal Number of Features:\", rfecv.n_features_)"
      ],
      "metadata": {
        "id": "71QM59Gy_QwB",
        "colab": {
          "base_uri": "https://localhost:8080/"
        },
        "outputId": "6642f666-51f8-4c86-dba8-8ffd9b09c8a2"
      },
      "execution_count": 297,
      "outputs": [
        {
          "output_type": "stream",
          "name": "stdout",
          "text": [
            "Confusion Matrix:\n",
            " [[ 4  3]\n",
            " [ 0 11]]\n",
            "Test Accuracy: 0.8333333333333334\n",
            "f1-score: 0.88\n",
            "Classification Report:\n",
            "               precision    recall  f1-score   support\n",
            "\n",
            "           0       1.00      0.57      0.73         7\n",
            "           1       0.79      1.00      0.88        11\n",
            "\n",
            "    accuracy                           0.83        18\n",
            "   macro avg       0.89      0.79      0.80        18\n",
            "weighted avg       0.87      0.83      0.82        18\n",
            "\n",
            "Optimal Number of Features: 5\n"
          ]
        }
      ]
    },
    {
      "cell_type": "markdown",
      "source": [
        "### LDA"
      ],
      "metadata": {
        "id": "cP65SQaN_Ujg"
      }
    },
    {
      "cell_type": "code",
      "source": [
        "# LDA 모델\n",
        "from sklearn.discriminant_analysis import LinearDiscriminantAnalysis\n",
        "lda_model = LinearDiscriminantAnalysis()\n",
        "# RFECV를 사용하여 최적의 특성 선택\n",
        "rfecv = RFECV(estimator=rf_model, cv=5)\n",
        "X_train_rfecv = rfecv.fit_transform(X_train, y_train)\n",
        "\n",
        "# 선택된 특성으로 모델 학습\n",
        "lda_model.fit(X_train_rfecv, y_train)\n",
        "\n",
        "# 테스트 데이터에도 선택된 특성을 적용\n",
        "X_test_rfecv = rfecv.transform(X_test)\n",
        "\n",
        "# 테스트 데이터에 대한 예측\n",
        "y_pred_lda = lda_model.predict(X_test_rfecv)\n",
        "\n",
        "conf_matrix = confusion_matrix(y_test, y_pred_lda)\n",
        "print(\"Confusion Matrix:\\n\", conf_matrix)\n",
        "\n",
        "# 정확도 계산\n",
        "accuracy_lda = accuracy_score(y_test, y_pred_lda)\n",
        "print(\"Test Accuracy:\", accuracy_lda)\n",
        "\n",
        "# f1-score 계산\n",
        "f1_lda = f1_score(y_test, y_pred_lda)\n",
        "print(\"f1-score:\", f1_lda)\n",
        "\n",
        "\n",
        "# 분류 보고서 출력 (정밀도, 재현율, F1 점수 등)\n",
        "classification_rep_lda = classification_report(y_test, y_pred_lda)\n",
        "print(\"Classification Report:\\n\", classification_rep_lda)\n",
        "\n",
        "# 최적의 특성 개수 출력\n",
        "print(\"Optimal Number of Features:\", rfecv.n_features_)"
      ],
      "metadata": {
        "id": "dR_D943g_UIL",
        "colab": {
          "base_uri": "https://localhost:8080/"
        },
        "outputId": "e7963e9a-8c0b-47d6-96bf-d686bcaff44b"
      },
      "execution_count": 298,
      "outputs": [
        {
          "output_type": "stream",
          "name": "stdout",
          "text": [
            "Confusion Matrix:\n",
            " [[ 5  2]\n",
            " [ 1 10]]\n",
            "Test Accuracy: 0.8333333333333334\n",
            "f1-score: 0.8695652173913043\n",
            "Classification Report:\n",
            "               precision    recall  f1-score   support\n",
            "\n",
            "           0       0.83      0.71      0.77         7\n",
            "           1       0.83      0.91      0.87        11\n",
            "\n",
            "    accuracy                           0.83        18\n",
            "   macro avg       0.83      0.81      0.82        18\n",
            "weighted avg       0.83      0.83      0.83        18\n",
            "\n",
            "Optimal Number of Features: 5\n"
          ]
        }
      ]
    },
    {
      "cell_type": "markdown",
      "source": [
        "## paretic-Side"
      ],
      "metadata": {
        "id": "YdRdHm2b4hpG"
      }
    },
    {
      "cell_type": "code",
      "source": [
        "df_par = pd.DataFrame(par_angle_result)\n",
        "y = pd.DataFrame(y)\n",
        "par = pd.concat([y,df_par],axis=1)\n",
        "par.columns = ['PC'+ str(i) for i in range(0,44)]\n",
        "colname = list(par.columns)\n",
        "colname[0] = \"score\"\n",
        "par.columns = colname\n",
        "par.columns"
      ],
      "metadata": {
        "id": "vMCizY8R4hQ7",
        "colab": {
          "base_uri": "https://localhost:8080/"
        },
        "outputId": "bc0cdfe0-72dd-4427-a4dd-79a6a732e1d4"
      },
      "execution_count": 299,
      "outputs": [
        {
          "output_type": "execute_result",
          "data": {
            "text/plain": [
              "Index(['score', 'PC1', 'PC2', 'PC3', 'PC4', 'PC5', 'PC6', 'PC7', 'PC8', 'PC9',\n",
              "       'PC10', 'PC11', 'PC12', 'PC13', 'PC14', 'PC15', 'PC16', 'PC17', 'PC18',\n",
              "       'PC19', 'PC20', 'PC21', 'PC22', 'PC23', 'PC24', 'PC25', 'PC26', 'PC27',\n",
              "       'PC28', 'PC29', 'PC30', 'PC31', 'PC32', 'PC33', 'PC34', 'PC35', 'PC36',\n",
              "       'PC37', 'PC38', 'PC39', 'PC40', 'PC41', 'PC42', 'PC43'],\n",
              "      dtype='object')"
            ]
          },
          "metadata": {},
          "execution_count": 299
        }
      ]
    },
    {
      "cell_type": "code",
      "source": [
        "random.seed(1)\n",
        "X = par.loc[:,'PC1':'PC30']\n",
        "y = par['score']\n",
        "X_train , X_test , y_train , y_test  = train_test_split(X,y,test_size = 0.4,random_state=123)"
      ],
      "metadata": {
        "id": "Ux9MaXYJ4tav"
      },
      "execution_count": 300,
      "outputs": []
    },
    {
      "cell_type": "code",
      "source": [
        "k_best = SelectKBest(f_classif, k=20)  # 예제로 20개의 최상위 특성 선택\n",
        "X_train_selected = k_best.fit_transform(X_train, y_train)\n",
        "X_test_selected = k_best.transform(X_test)"
      ],
      "metadata": {
        "id": "EukGTeag4zNL"
      },
      "execution_count": 301,
      "outputs": []
    },
    {
      "cell_type": "markdown",
      "source": [
        "### logistic regression"
      ],
      "metadata": {
        "id": "etZAizsY-eiw"
      }
    },
    {
      "cell_type": "code",
      "source": [
        "from sklearn.feature_selection import RFECV\n",
        "lr_model = LogisticRegression()\n",
        "\n",
        "# RFECV를 사용하여 최적의 특성 선택\n",
        "rfecv = RFECV(estimator=lr_model, cv=5)\n",
        "X_train_rfecv = rfecv.fit_transform(X_train, y_train)\n",
        "\n",
        "# 선택된 특성으로 모델 학습\n",
        "lr_model.fit(X_train_rfecv, y_train)\n",
        "\n",
        "# 테스트 데이터에도 선택된 특성을 적용\n",
        "X_test_rfecv = rfecv.transform(X_test)\n",
        "\n",
        "# 테스트 데이터에 대한 예측\n",
        "y_pred_lr = lr_model.predict(X_test_rfecv)\n",
        "\n",
        "conf_matrix = confusion_matrix(y_test, y_pred_lr)\n",
        "print(\"Confusion Matrix:\\n\", conf_matrix)\n",
        "# 정확도 계산\n",
        "accuracy_lr = accuracy_score(y_test, y_pred_lr)\n",
        "print(\"Test Accuracy:\", accuracy_lr)\n",
        "\n",
        "# f1-score 계산\n",
        "f1_lr = f1_score(y_test, y_pred_lr)\n",
        "print(\"f1-score:\", f1_lr)\n",
        "\n",
        "\n",
        "# 분류 보고서 출력 (정밀도, 재현율, F1 점수 등)\n",
        "classification_rep_lr = classification_report(y_test, y_pred_lr)\n",
        "print(\"Classification Report:\\n\", classification_rep_lr)\n",
        "\n",
        "# 최적의 특성 개수 출력\n",
        "print(\"Optimal Number of Features:\", rfecv.n_features_)"
      ],
      "metadata": {
        "colab": {
          "base_uri": "https://localhost:8080/"
        },
        "id": "cIJBpDcsZfHt",
        "outputId": "572f4fbc-10ed-4fe9-e067-9bce4fbacbd6"
      },
      "execution_count": 302,
      "outputs": [
        {
          "output_type": "stream",
          "name": "stdout",
          "text": [
            "Confusion Matrix:\n",
            " [[1 6]\n",
            " [4 7]]\n",
            "Test Accuracy: 0.4444444444444444\n",
            "f1-score: 0.5833333333333334\n",
            "Classification Report:\n",
            "               precision    recall  f1-score   support\n",
            "\n",
            "           0       0.20      0.14      0.17         7\n",
            "           1       0.54      0.64      0.58        11\n",
            "\n",
            "    accuracy                           0.44        18\n",
            "   macro avg       0.37      0.39      0.38        18\n",
            "weighted avg       0.41      0.44      0.42        18\n",
            "\n",
            "Optimal Number of Features: 2\n"
          ]
        }
      ]
    },
    {
      "cell_type": "markdown",
      "source": [
        "### paretic RandomForest"
      ],
      "metadata": {
        "id": "W1Kk6Iua_-Uq"
      }
    },
    {
      "cell_type": "code",
      "source": [
        "from sklearn.feature_selection import RFECV\n",
        "rf_model = RandomForestClassifier(n_estimators=100,random_state=123)\n",
        "\n",
        "# RFECV를 사용하여 최적의 특성 선택\n",
        "rfecv = RFECV(estimator=rf_model, cv=5)\n",
        "X_train_rfecv = rfecv.fit_transform(X_train, y_train)\n",
        "\n",
        "# 선택된 특성으로 모델 학습\n",
        "rf_model.fit(X_train_rfecv, y_train)\n",
        "\n",
        "# 테스트 데이터에도 선택된 특성을 적용\n",
        "X_test_rfecv = rfecv.transform(X_test)\n",
        "\n",
        "# 테스트 데이터에 대한 예측\n",
        "y_pred_rf = rf_model.predict(X_test_rfecv)\n",
        "\n",
        "conf_matrix = confusion_matrix(y_test, y_pred_rf)\n",
        "print(\"Confusion Matrix:\\n\", conf_matrix)\n",
        "\n",
        "# 정확도 계산\n",
        "accuracy_rf = accuracy_score(y_test, y_pred_rf)\n",
        "print(\"Test Accuracy:\", accuracy_rf)\n",
        "\n",
        "# f1-score 계산\n",
        "f1_rf = f1_score(y_test, y_pred_rf)\n",
        "print(\"f1-score:\", f1_rf)\n",
        "\n",
        "\n",
        "# 분류 보고서 출력 (정밀도, 재현율, F1 점수 등)\n",
        "classification_rep_rf = classification_report(y_test, y_pred_rf)\n",
        "print(\"Classification Report:\\n\", classification_rep_rf)\n",
        "\n",
        "# 최적의 특성 개수 출력\n",
        "print(\"Optimal Number of Features:\", rfecv.n_features_)"
      ],
      "metadata": {
        "colab": {
          "base_uri": "https://localhost:8080/"
        },
        "id": "NKuW_hIUZkwv",
        "outputId": "ff7a5012-2068-4a21-86b2-ca939ac832bd"
      },
      "execution_count": 303,
      "outputs": [
        {
          "output_type": "stream",
          "name": "stdout",
          "text": [
            "Confusion Matrix:\n",
            " [[ 1  6]\n",
            " [ 0 11]]\n",
            "Test Accuracy: 0.6666666666666666\n",
            "f1-score: 0.7857142857142858\n",
            "Classification Report:\n",
            "               precision    recall  f1-score   support\n",
            "\n",
            "           0       1.00      0.14      0.25         7\n",
            "           1       0.65      1.00      0.79        11\n",
            "\n",
            "    accuracy                           0.67        18\n",
            "   macro avg       0.82      0.57      0.52        18\n",
            "weighted avg       0.78      0.67      0.58        18\n",
            "\n",
            "Optimal Number of Features: 6\n"
          ]
        }
      ]
    },
    {
      "cell_type": "markdown",
      "source": [
        "### paretic SVM"
      ],
      "metadata": {
        "id": "S20wVQYSAFkH"
      }
    },
    {
      "cell_type": "code",
      "source": [
        "from sklearn.feature_selection import RFECV\n",
        "svm_model = SVC(kernel='linear',random_state=123)\n",
        "\n",
        "# RFECV를 사용하여 최적의 특성 선택\n",
        "rfecv = RFECV(estimator=rf_model, cv=5)\n",
        "X_train_rfecv = rfecv.fit_transform(X_train, y_train)\n",
        "\n",
        "# 선택된 특성으로 모델 학습\n",
        "svm_model.fit(X_train_rfecv, y_train)\n",
        "\n",
        "# 테스트 데이터에도 선택된 특성을 적용\n",
        "X_test_rfecv = rfecv.transform(X_test)\n",
        "\n",
        "# 테스트 데이터에 대한 예측\n",
        "y_pred_svm = svm_model.predict(X_test_rfecv)\n",
        "\n",
        "conf_matrix = confusion_matrix(y_test, y_pred_svm)\n",
        "print(\"Confusion Matrix:\\n\", conf_matrix)\n",
        "\n",
        "# 정확도 계산\n",
        "accuracy_svm = accuracy_score(y_test, y_pred_svm)\n",
        "print(\"Test Accuracy:\", accuracy_svm)\n",
        "\n",
        "# f1-score 계산\n",
        "f1_svm = f1_score(y_test, y_pred_svm)\n",
        "print(\"f1-score:\", f1_svm)\n",
        "\n",
        "\n",
        "# 분류 보고서 출력 (정밀도, 재현율, F1 점수 등)\n",
        "classification_rep_svm = classification_report(y_test, y_pred_svm)\n",
        "print(\"Classification Report:\\n\", classification_rep_svm)\n",
        "\n",
        "# 최적의 특성 개수 출력\n",
        "print(\"Optimal Number of Features:\", rfecv.n_features_)"
      ],
      "metadata": {
        "colab": {
          "base_uri": "https://localhost:8080/"
        },
        "id": "Gfm_jfA1ZscT",
        "outputId": "ff5205af-567c-44b1-c084-088bc5bbf305"
      },
      "execution_count": 304,
      "outputs": [
        {
          "output_type": "stream",
          "name": "stdout",
          "text": [
            "Confusion Matrix:\n",
            " [[2 5]\n",
            " [3 8]]\n",
            "Test Accuracy: 0.5555555555555556\n",
            "f1-score: 0.6666666666666667\n",
            "Classification Report:\n",
            "               precision    recall  f1-score   support\n",
            "\n",
            "           0       0.40      0.29      0.33         7\n",
            "           1       0.62      0.73      0.67        11\n",
            "\n",
            "    accuracy                           0.56        18\n",
            "   macro avg       0.51      0.51      0.50        18\n",
            "weighted avg       0.53      0.56      0.54        18\n",
            "\n",
            "Optimal Number of Features: 6\n"
          ]
        }
      ]
    },
    {
      "cell_type": "markdown",
      "source": [
        "### paretic XGBoost"
      ],
      "metadata": {
        "id": "lkz1H0BrALQC"
      }
    },
    {
      "cell_type": "code",
      "source": [
        "from sklearn.feature_selection import RFECV\n",
        "import xgboost as xgb\n",
        "xgb_model = xgb.XGBClassifier(random_state=123)\n",
        "\n",
        "# RFECV를 사용하여 최적의 특성 선택\n",
        "rfecv = RFECV(estimator=rf_model, cv=5)\n",
        "X_train_rfecv = rfecv.fit_transform(X_train, y_train)\n",
        "\n",
        "# 선택된 특성으로 모델 학습\n",
        "xgb_model.fit(X_train_rfecv, y_train)\n",
        "\n",
        "# 테스트 데이터에도 선택된 특성을 적용\n",
        "X_test_rfecv = rfecv.transform(X_test)\n",
        "\n",
        "# 테스트 데이터에 대한 예측\n",
        "y_pred_xgb = xgb_model.predict(X_test_rfecv)\n",
        "\n",
        "conf_matrix = confusion_matrix(y_test, y_pred_xgb)\n",
        "print(\"Confusion Matrix:\\n\", conf_matrix)\n",
        "\n",
        "# 정확도 계산\n",
        "accuracy_xgb = accuracy_score(y_test, y_pred_xgb)\n",
        "print(\"Test Accuracy:\", accuracy_xgb)\n",
        "\n",
        "# f1-score 계산\n",
        "f1_xgb = f1_score(y_test, y_pred_xgb)\n",
        "print(\"f1-score:\", f1_xgb)\n",
        "\n",
        "\n",
        "# 분류 보고서 출력 (정밀도, 재현율, F1 점수 등)\n",
        "classification_rep_xgb = classification_report(y_test, y_pred_xgb)\n",
        "print(\"Classification Report:\\n\", classification_rep_xgb)\n",
        "\n",
        "# 최적의 특성 개수 출력\n",
        "print(\"Optimal Number of Features:\", rfecv.n_features_)"
      ],
      "metadata": {
        "colab": {
          "base_uri": "https://localhost:8080/"
        },
        "id": "0I1DYESOZzbi",
        "outputId": "9cf2ff77-f0eb-4389-e543-83ee38072926"
      },
      "execution_count": 305,
      "outputs": [
        {
          "output_type": "stream",
          "name": "stdout",
          "text": [
            "Confusion Matrix:\n",
            " [[2 5]\n",
            " [3 8]]\n",
            "Test Accuracy: 0.5555555555555556\n",
            "f1-score: 0.6666666666666667\n",
            "Classification Report:\n",
            "               precision    recall  f1-score   support\n",
            "\n",
            "           0       0.40      0.29      0.33         7\n",
            "           1       0.62      0.73      0.67        11\n",
            "\n",
            "    accuracy                           0.56        18\n",
            "   macro avg       0.51      0.51      0.50        18\n",
            "weighted avg       0.53      0.56      0.54        18\n",
            "\n",
            "Optimal Number of Features: 6\n"
          ]
        }
      ]
    },
    {
      "cell_type": "markdown",
      "source": [
        "### paretic LDA"
      ],
      "metadata": {
        "id": "W3GNbtO8AO5O"
      }
    },
    {
      "cell_type": "code",
      "source": [
        "# LDA 모델\n",
        "from sklearn.discriminant_analysis import LinearDiscriminantAnalysis\n",
        "lda_model = LinearDiscriminantAnalysis()\n",
        "# RFECV를 사용하여 최적의 특성 선택\n",
        "rfecv = RFECV(estimator=rf_model, cv=5)\n",
        "X_train_rfecv = rfecv.fit_transform(X_train, y_train)\n",
        "\n",
        "# 선택된 특성으로 모델 학습\n",
        "lda_model.fit(X_train_rfecv, y_train)\n",
        "\n",
        "# 테스트 데이터에도 선택된 특성을 적용\n",
        "X_test_rfecv = rfecv.transform(X_test)\n",
        "\n",
        "# 테스트 데이터에 대한 예측\n",
        "y_pred_lda = lda_model.predict(X_test_rfecv)\n",
        "\n",
        "conf_matrix = confusion_matrix(y_test, y_pred_lda)\n",
        "print(\"Confusion Matrix:\\n\", conf_matrix)\n",
        "\n",
        "# 정확도 계산\n",
        "accuracy_lda = accuracy_score(y_test, y_pred_lda)\n",
        "print(\"Test Accuracy:\", accuracy_lda)\n",
        "\n",
        "# f1-score 계산\n",
        "f1_lda = f1_score(y_test, y_pred_lda)\n",
        "print(\"f1-score:\", f1_lda)\n",
        "\n",
        "\n",
        "# 분류 보고서 출력 (정밀도, 재현율, F1 점수 등)\n",
        "classification_rep_lda = classification_report(y_test, y_pred_lda)\n",
        "print(\"Classification Report:\\n\", classification_rep_lda)\n",
        "\n",
        "# 최적의 특성 개수 출력\n",
        "print(\"Optimal Number of Features:\", rfecv.n_features_)"
      ],
      "metadata": {
        "colab": {
          "base_uri": "https://localhost:8080/"
        },
        "id": "eQbXsCFpZ5on",
        "outputId": "6114af11-dbce-4b3d-cf25-c7af0caeba8f"
      },
      "execution_count": 306,
      "outputs": [
        {
          "output_type": "stream",
          "name": "stdout",
          "text": [
            "Confusion Matrix:\n",
            " [[ 1  6]\n",
            " [ 1 10]]\n",
            "Test Accuracy: 0.6111111111111112\n",
            "f1-score: 0.7407407407407406\n",
            "Classification Report:\n",
            "               precision    recall  f1-score   support\n",
            "\n",
            "           0       0.50      0.14      0.22         7\n",
            "           1       0.62      0.91      0.74        11\n",
            "\n",
            "    accuracy                           0.61        18\n",
            "   macro avg       0.56      0.53      0.48        18\n",
            "weighted avg       0.58      0.61      0.54        18\n",
            "\n",
            "Optimal Number of Features: 6\n"
          ]
        }
      ]
    }
  ]
}