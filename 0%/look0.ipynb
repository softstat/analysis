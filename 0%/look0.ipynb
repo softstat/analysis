{
  "nbformat": 4,
  "nbformat_minor": 0,
  "metadata": {
    "colab": {
      "provenance": [],
      "authorship_tag": "ABX9TyOHBL38cHE1lY5+ej09dlfr"
    },
    "kernelspec": {
      "name": "python3",
      "display_name": "Python 3"
    },
    "language_info": {
      "name": "python"
    }
  },
  "cells": [
    {
      "cell_type": "code",
      "execution_count": 1,
      "metadata": {
        "colab": {
          "base_uri": "https://localhost:8080/"
        },
        "id": "JLR2Peo3bU_e",
        "outputId": "e576ebbd-25b3-48ff-b771-fab68b6f179a"
      },
      "outputs": [
        {
          "output_type": "stream",
          "name": "stdout",
          "text": [
            "Mounted at /content/drive\n"
          ]
        }
      ],
      "source": [
        "from google.colab import drive\n",
        "drive.mount('/content/drive')"
      ]
    },
    {
      "cell_type": "code",
      "source": [
        "cd drive/MyDrive/Data"
      ],
      "metadata": {
        "colab": {
          "base_uri": "https://localhost:8080/"
        },
        "id": "tG7ogZ9qbj3k",
        "outputId": "ec22b8d6-681b-41a7-f45e-23c6ad5dbc98"
      },
      "execution_count": 2,
      "outputs": [
        {
          "output_type": "stream",
          "name": "stdout",
          "text": [
            "/content/drive/MyDrive/Data\n"
          ]
        }
      ]
    },
    {
      "cell_type": "code",
      "source": [
        "import pandas as pd\n",
        "non_PRC = pd.read_csv('looking_back/0%/look0.csv')\n",
        "PRC = pd.read_csv('looking_back/0%/look_par0.csv')\n",
        "clinical_assessment = pd.read_excel('Clinical Assessment.xlsx')"
      ],
      "metadata": {
        "id": "DOryOYrfb035"
      },
      "execution_count": 3,
      "outputs": []
    },
    {
      "cell_type": "code",
      "source": [
        "import pandas as pd\n",
        "from sklearn.decomposition import PCA\n",
        "from sklearn.model_selection import train_test_split\n",
        "from sklearn.linear_model import LogisticRegression\n",
        "from sklearn.ensemble import RandomForestClassifier\n",
        "from sklearn.svm import SVC\n",
        "from xgboost import XGBClassifier\n",
        "from sklearn.discriminant_analysis import LinearDiscriminantAnalysis as LDA\n",
        "from sklearn.metrics import confusion_matrix, roc_auc_score, roc_curve\n",
        "from sklearn.model_selection import GridSearchCV\n",
        "from sklearn.preprocessing import StandardScaler\n",
        "from sklearn.metrics import f1_score\n",
        "from sklearn.metrics import accuracy_score\n",
        "from sklearn.feature_selection import SelectKBest\n",
        "from sklearn.feature_selection import f_classif\n",
        "import warnings\n",
        "from sklearn.feature_selection import RFE\n",
        "from sklearn.metrics import accuracy_score, classification_report\n",
        "from sklearn.model_selection import GridSearchCV\n",
        "from sklearn.metrics import roc_curve\n",
        "import matplotlib.pyplot as plt"
      ],
      "metadata": {
        "id": "TstLj8U3cNjD"
      },
      "execution_count": 4,
      "outputs": []
    },
    {
      "cell_type": "code",
      "source": [
        "score = clinical_assessment.iloc[:,9]"
      ],
      "metadata": {
        "id": "Afag3w6hcO2q"
      },
      "execution_count": 5,
      "outputs": []
    },
    {
      "cell_type": "code",
      "source": [
        "score = score.dropna()\n",
        "del score[0]\n",
        "del score[1]\n",
        "del score[9]\n",
        "del score[18]"
      ],
      "metadata": {
        "id": "7fPvei8GcXRa"
      },
      "execution_count": 6,
      "outputs": []
    },
    {
      "cell_type": "code",
      "source": [
        "y = []\n",
        "for value in score:\n",
        "    if value >= 45:\n",
        "        y.append(1)\n",
        "    else:\n",
        "        y.append(0)\n",
        "print(y)"
      ],
      "metadata": {
        "colab": {
          "base_uri": "https://localhost:8080/"
        },
        "id": "Qy9-nrzCcYyX",
        "outputId": "1c39ab5f-a0ba-4e7d-e8ed-6105af5448d0"
      },
      "execution_count": 7,
      "outputs": [
        {
          "output_type": "stream",
          "name": "stdout",
          "text": [
            "[1, 1, 1, 0, 0, 1, 1, 0, 1, 0, 0, 1, 1, 1, 0, 1, 1, 1, 0, 0, 1, 0, 1, 1, 0, 1, 1, 1, 1, 1, 1, 0, 1, 1, 1, 1, 1, 1, 1, 1, 0]\n"
          ]
        }
      ]
    },
    {
      "cell_type": "markdown",
      "source": [
        "## Non-Paretic Side"
      ],
      "metadata": {
        "id": "XNpqs2UMcZ1S"
      }
    },
    {
      "cell_type": "code",
      "source": [
        "df_non = pd.DataFrame(non_PRC)"
      ],
      "metadata": {
        "id": "hy2KdXu4cbc-"
      },
      "execution_count": 8,
      "outputs": []
    },
    {
      "cell_type": "code",
      "source": [
        "y = pd.DataFrame(y)"
      ],
      "metadata": {
        "id": "6zxdYrvBcipz"
      },
      "execution_count": 9,
      "outputs": []
    },
    {
      "cell_type": "code",
      "source": [
        "non = pd.concat([y,df_non],axis=1)\n",
        "colname = list(non.columns)\n",
        "colname[0] = \"score\"\n",
        "non.columns = colname\n",
        "non.columns"
      ],
      "metadata": {
        "colab": {
          "base_uri": "https://localhost:8080/"
        },
        "id": "UVRC5gOYcke0",
        "outputId": "af0dc896-f833-4a66-ef25-d00126102f6e"
      },
      "execution_count": 10,
      "outputs": [
        {
          "output_type": "execute_result",
          "data": {
            "text/plain": [
              "Index(['score', 'Unnamed: 0', 'PC1', 'PC2', 'PC3', 'PC4', 'PC5', 'PC6', 'PC7',\n",
              "       'PC8', 'PC9', 'PC10', 'PC11', 'PC12', 'PC13', 'PC14', 'PC15', 'PC16',\n",
              "       'PC17', 'PC18', 'PC19', 'PC20', 'PC21', 'PC22', 'PC23', 'PC24', 'PC25',\n",
              "       'PC26', 'PC27', 'PC28', 'PC29', 'PC30', 'PC31', 'PC32', 'PC33', 'PC34',\n",
              "       'PC35', 'PC36', 'PC37', 'PC38', 'PC39', 'PC40', 'PC41'],\n",
              "      dtype='object')"
            ]
          },
          "metadata": {},
          "execution_count": 10
        }
      ]
    },
    {
      "cell_type": "code",
      "source": [
        "X = non.loc[:,['PC1','PC3','PC4','PC9','PC13','PC14','PC16','PC18','PC29','PC37','PC41']]\n",
        "y = non['score']\n",
        "X_train, X_test, y_train, y_test = train_test_split(X, y, test_size=0.4, random_state=123, stratify=y)"
      ],
      "metadata": {
        "id": "EoxdatDscno6"
      },
      "execution_count": 11,
      "outputs": []
    },
    {
      "cell_type": "code",
      "source": [
        "lr_model = LogisticRegression()\n",
        "\n",
        "# 선택된 특성으로 모델 학습\n",
        "lr_model.fit(X_train, y_train)\n",
        "\n",
        "y_pred_lr = lr_model.predict(X_test)\n",
        "\n",
        "conf_matrix = confusion_matrix(y_test, y_pred_lr)\n",
        "print(\"Confusion Matrix:\\n\", conf_matrix)\n",
        "# 정확도 계산\n",
        "accuracy_lr = accuracy_score(y_test, y_pred_lr)\n",
        "print(\"Test Accuracy:\", accuracy_lr)\n",
        "\n",
        "# f1-score 계산\n",
        "f1_lr = f1_score(y_test, y_pred_lr)\n",
        "print(\"f1-score:\", f1_lr)\n",
        "\n",
        "# auc 계산\n",
        "auc_lr = roc_auc_score(y_test,y_pred_lr)\n",
        "print(\"AUC:\",auc_lr)\n",
        "\n",
        "# 분류 보고서 출력\n",
        "classification_rep_lr = classification_report(y_test, y_pred_lr)\n",
        "print(\"Classification Report:\\n\", classification_rep_lr)"
      ],
      "metadata": {
        "colab": {
          "base_uri": "https://localhost:8080/"
        },
        "id": "D0bcHow4cxNR",
        "outputId": "9cbfcc43-a6a2-4411-8198-8382687b3125"
      },
      "execution_count": 12,
      "outputs": [
        {
          "output_type": "stream",
          "name": "stdout",
          "text": [
            "Confusion Matrix:\n",
            " [[ 3  2]\n",
            " [ 2 10]]\n",
            "Test Accuracy: 0.7647058823529411\n",
            "f1-score: 0.8333333333333334\n",
            "AUC: 0.7166666666666668\n",
            "Classification Report:\n",
            "               precision    recall  f1-score   support\n",
            "\n",
            "           0       0.60      0.60      0.60         5\n",
            "           1       0.83      0.83      0.83        12\n",
            "\n",
            "    accuracy                           0.76        17\n",
            "   macro avg       0.72      0.72      0.72        17\n",
            "weighted avg       0.76      0.76      0.76        17\n",
            "\n"
          ]
        }
      ]
    },
    {
      "cell_type": "code",
      "source": [
        "from sklearn.model_selection import GridSearchCV\n",
        "from sklearn.ensemble import RandomForestClassifier\n",
        "\n",
        "\n",
        "param_grid = {\n",
        "    'n_estimators': [100, 200, 300],\n",
        "    'max_depth': [None, 10, 20],\n",
        "    'min_samples_split': [2, 5, 10],\n",
        "    'min_samples_leaf': [1, 2, 4]\n",
        "}\n",
        "\n",
        "\n",
        "grid_search = GridSearchCV(RandomForestClassifier(random_state=123), param_grid, cv=5, scoring='accuracy')\n",
        "\n",
        "\n",
        "grid_search.fit(X_train, y_train)\n",
        "\n",
        "\n",
        "best_rf_model = grid_search.best_estimator_\n",
        "best_params = grid_search.best_params_\n",
        "print(\"Best Random Forest Model:\", best_rf_model)\n",
        "print(\"Best Hyperparameters:\", best_params)\n",
        "\n",
        "y_pred_best_rf = best_rf_model.predict(X_test)\n",
        "\n",
        "\n",
        "conf_matrix_best = confusion_matrix(y_test, y_pred_best_rf)\n",
        "print(\"Confusion Matrix:\\n\", conf_matrix_best)\n",
        "\n",
        "accuracy_best_rf = accuracy_score(y_test, y_pred_best_rf)\n",
        "print(\"Test Accuracy with Best Model:\", accuracy_best_rf)\n",
        "\n",
        "f1_best_rf = f1_score(y_test, y_pred_best_rf)\n",
        "print(\"f1-score with Best Model:\", f1_best_rf)\n",
        "\n",
        "auc_best_rf = roc_auc_score(y_test, y_pred_best_rf)\n",
        "print(\"AUC with Best Model:\", auc_best_rf)\n",
        "\n",
        "classification_rep_best_rf = classification_report(y_test, y_pred_best_rf)\n",
        "print(\"Classification Report with Best Model:\\n\", classification_rep_best_rf)"
      ],
      "metadata": {
        "colab": {
          "base_uri": "https://localhost:8080/"
        },
        "id": "1FxzTWwAc0tD",
        "outputId": "cb6c757e-d0f1-4a8e-9a53-27e5d44a87b2"
      },
      "execution_count": 13,
      "outputs": [
        {
          "output_type": "stream",
          "name": "stdout",
          "text": [
            "Best Random Forest Model: RandomForestClassifier(random_state=123)\n",
            "Best Hyperparameters: {'max_depth': None, 'min_samples_leaf': 1, 'min_samples_split': 2, 'n_estimators': 100}\n",
            "Confusion Matrix:\n",
            " [[ 0  5]\n",
            " [ 0 12]]\n",
            "Test Accuracy with Best Model: 0.7058823529411765\n",
            "f1-score with Best Model: 0.8275862068965517\n",
            "AUC with Best Model: 0.5\n",
            "Classification Report with Best Model:\n",
            "               precision    recall  f1-score   support\n",
            "\n",
            "           0       0.00      0.00      0.00         5\n",
            "           1       0.71      1.00      0.83        12\n",
            "\n",
            "    accuracy                           0.71        17\n",
            "   macro avg       0.35      0.50      0.41        17\n",
            "weighted avg       0.50      0.71      0.58        17\n",
            "\n"
          ]
        },
        {
          "output_type": "stream",
          "name": "stderr",
          "text": [
            "/usr/local/lib/python3.10/dist-packages/sklearn/metrics/_classification.py:1344: UndefinedMetricWarning: Precision and F-score are ill-defined and being set to 0.0 in labels with no predicted samples. Use `zero_division` parameter to control this behavior.\n",
            "  _warn_prf(average, modifier, msg_start, len(result))\n",
            "/usr/local/lib/python3.10/dist-packages/sklearn/metrics/_classification.py:1344: UndefinedMetricWarning: Precision and F-score are ill-defined and being set to 0.0 in labels with no predicted samples. Use `zero_division` parameter to control this behavior.\n",
            "  _warn_prf(average, modifier, msg_start, len(result))\n",
            "/usr/local/lib/python3.10/dist-packages/sklearn/metrics/_classification.py:1344: UndefinedMetricWarning: Precision and F-score are ill-defined and being set to 0.0 in labels with no predicted samples. Use `zero_division` parameter to control this behavior.\n",
            "  _warn_prf(average, modifier, msg_start, len(result))\n"
          ]
        }
      ]
    },
    {
      "cell_type": "code",
      "source": [
        "from sklearn.model_selection import GridSearchCV\n",
        "from sklearn.svm import SVC\n",
        "\n",
        "param_grid = {\n",
        "    'C': [0.1, 1, 10],\n",
        "    'kernel': ['linear'],\n",
        "    'degree':[2,3,4]\n",
        "}\n",
        "\n",
        "\n",
        "grid_search = GridSearchCV(SVC(random_state=123), param_grid, cv=5, scoring='accuracy')\n",
        "\n",
        "\n",
        "grid_search.fit(X_train, y_train)\n",
        "\n",
        "\n",
        "best_svm_model = grid_search.best_estimator_\n",
        "best_params = grid_search.best_params_\n",
        "print(\"Best SVM Model:\", best_svm_model)\n",
        "print(\"Best Hyperparameters:\", best_params)\n",
        "\n",
        "\n",
        "y_pred_best_svm_linear = best_svm_model.predict(X_test)\n",
        "\n",
        "\n",
        "conf_matrix_best = confusion_matrix(y_test, y_pred_best_svm_linear)\n",
        "print(\"Confusion Matrix:\\n\", conf_matrix_best)\n",
        "\n",
        "accuracy_best_svm_linear = accuracy_score(y_test, y_pred_best_svm_linear)\n",
        "print(\"Test Accuracy with Best Model:\", accuracy_best_svm_linear)\n",
        "\n",
        "f1_best_svm_linear = f1_score(y_test, y_pred_best_svm_linear)\n",
        "print(\"f1-score with Best Model:\", f1_best_svm_linear)\n",
        "\n",
        "y_scores_best_svm = best_svm_model.decision_function(X_test)\n",
        "auc_best_svm_linear = roc_auc_score(y_test, y_scores_best_svm)\n",
        "print(\"AUC with Best Model:\", auc_best_svm_linear)\n",
        "\n",
        "classification_rep_best_svm_linear = classification_report(y_test, y_pred_best_svm_linear)\n",
        "print(\"Classification Report with Best Model:\\n\", classification_rep_best_svm_linear)"
      ],
      "metadata": {
        "colab": {
          "base_uri": "https://localhost:8080/"
        },
        "id": "u8DSAzYdc3cf",
        "outputId": "c77c714b-ba61-4421-979f-dd632a8d4169"
      },
      "execution_count": 14,
      "outputs": [
        {
          "output_type": "stream",
          "name": "stdout",
          "text": [
            "Best SVM Model: SVC(C=1, degree=2, kernel='linear', random_state=123)\n",
            "Best Hyperparameters: {'C': 1, 'degree': 2, 'kernel': 'linear'}\n",
            "Confusion Matrix:\n",
            " [[3 2]\n",
            " [3 9]]\n",
            "Test Accuracy with Best Model: 0.7058823529411765\n",
            "f1-score with Best Model: 0.7826086956521738\n",
            "AUC with Best Model: 0.7333333333333333\n",
            "Classification Report with Best Model:\n",
            "               precision    recall  f1-score   support\n",
            "\n",
            "           0       0.50      0.60      0.55         5\n",
            "           1       0.82      0.75      0.78        12\n",
            "\n",
            "    accuracy                           0.71        17\n",
            "   macro avg       0.66      0.68      0.66        17\n",
            "weighted avg       0.72      0.71      0.71        17\n",
            "\n"
          ]
        }
      ]
    },
    {
      "cell_type": "code",
      "source": [
        "from sklearn.model_selection import GridSearchCV\n",
        "from sklearn.svm import SVC\n",
        "\n",
        "param_grid = {\n",
        "    'C': [0.1, 1, 10],\n",
        "    'kernel': ['poly'],\n",
        "    'degree': [2, 3, 4],\n",
        "}\n",
        "\n",
        "\n",
        "grid_search = GridSearchCV(SVC(random_state=123), param_grid, cv=5, scoring='accuracy')\n",
        "\n",
        "\n",
        "grid_search.fit(X_train, y_train)\n",
        "\n",
        "\n",
        "best_svm_model = grid_search.best_estimator_\n",
        "best_params = grid_search.best_params_\n",
        "print(\"Best SVM Model:\", best_svm_model)\n",
        "print(\"Best Hyperparameters:\", best_params)\n",
        "\n",
        "\n",
        "y_pred_best_svm_poly = best_svm_model.predict(X_test)\n",
        "\n",
        "\n",
        "conf_matrix_best = confusion_matrix(y_test, y_pred_best_svm_poly)\n",
        "print(\"Confusion Matrix:\\n\", conf_matrix_best)\n",
        "\n",
        "accuracy_best_svm_poly = accuracy_score(y_test, y_pred_best_svm_poly)\n",
        "print(\"Test Accuracy with Best Model:\", accuracy_best_svm_poly)\n",
        "\n",
        "f1_best_svm_poly = f1_score(y_test, y_pred_best_svm_poly)\n",
        "print(\"f1-score with Best Model:\", f1_best_svm_poly)\n",
        "\n",
        "y_scores_best_svm_poly = best_svm_model.decision_function(X_test)\n",
        "auc_best_svm_poly = roc_auc_score(y_test, y_scores_best_svm_poly)\n",
        "print(\"AUC with Best Model:\", auc_best_svm_poly)\n",
        "\n",
        "classification_rep_best_svm_poly = classification_report(y_test, y_pred_best_svm_poly)\n",
        "print(\"Classification Report with Best Model:\\n\", classification_rep_best_svm_poly)"
      ],
      "metadata": {
        "colab": {
          "base_uri": "https://localhost:8080/"
        },
        "id": "ZFVMupN_c5AJ",
        "outputId": "547d80c1-4819-44ed-fb08-2a7a2e8b3ae2"
      },
      "execution_count": 15,
      "outputs": [
        {
          "output_type": "stream",
          "name": "stdout",
          "text": [
            "Best SVM Model: SVC(C=0.1, degree=2, kernel='poly', random_state=123)\n",
            "Best Hyperparameters: {'C': 0.1, 'degree': 2, 'kernel': 'poly'}\n",
            "Confusion Matrix:\n",
            " [[ 0  5]\n",
            " [ 0 12]]\n",
            "Test Accuracy with Best Model: 0.7058823529411765\n",
            "f1-score with Best Model: 0.8275862068965517\n",
            "AUC with Best Model: 0.7833333333333333\n",
            "Classification Report with Best Model:\n",
            "               precision    recall  f1-score   support\n",
            "\n",
            "           0       0.00      0.00      0.00         5\n",
            "           1       0.71      1.00      0.83        12\n",
            "\n",
            "    accuracy                           0.71        17\n",
            "   macro avg       0.35      0.50      0.41        17\n",
            "weighted avg       0.50      0.71      0.58        17\n",
            "\n"
          ]
        },
        {
          "output_type": "stream",
          "name": "stderr",
          "text": [
            "/usr/local/lib/python3.10/dist-packages/sklearn/metrics/_classification.py:1344: UndefinedMetricWarning: Precision and F-score are ill-defined and being set to 0.0 in labels with no predicted samples. Use `zero_division` parameter to control this behavior.\n",
            "  _warn_prf(average, modifier, msg_start, len(result))\n",
            "/usr/local/lib/python3.10/dist-packages/sklearn/metrics/_classification.py:1344: UndefinedMetricWarning: Precision and F-score are ill-defined and being set to 0.0 in labels with no predicted samples. Use `zero_division` parameter to control this behavior.\n",
            "  _warn_prf(average, modifier, msg_start, len(result))\n",
            "/usr/local/lib/python3.10/dist-packages/sklearn/metrics/_classification.py:1344: UndefinedMetricWarning: Precision and F-score are ill-defined and being set to 0.0 in labels with no predicted samples. Use `zero_division` parameter to control this behavior.\n",
            "  _warn_prf(average, modifier, msg_start, len(result))\n"
          ]
        }
      ]
    },
    {
      "cell_type": "code",
      "source": [
        "from sklearn.model_selection import GridSearchCV\n",
        "import xgboost as xgb\n",
        "\n",
        "\n",
        "param_grid = {\n",
        "    'n_estimators': [100, 200, 300],\n",
        "    'max_depth': [3, 4, 5],\n",
        "    'learning_rate': [0.01, 0.1, 0.2],\n",
        "}\n",
        "\n",
        "\n",
        "grid_search = GridSearchCV(xgb.XGBClassifier(random_state=123), param_grid, cv=5, scoring='accuracy')\n",
        "\n",
        "\n",
        "grid_search.fit(X_train, y_train)\n",
        "\n",
        "\n",
        "best_xgb_model = grid_search.best_estimator_\n",
        "best_params = grid_search.best_params_\n",
        "print(\"Best XGBoost Model:\", best_xgb_model)\n",
        "print(\"Best Hyperparameters:\", best_params)\n",
        "\n",
        "\n",
        "y_pred_best_xgb = best_xgb_model.predict(X_test)\n",
        "\n",
        "conf_matrix_best = confusion_matrix(y_test, y_pred_best_xgb)\n",
        "print(\"Confusion Matrix:\\n\", conf_matrix_best)\n",
        "\n",
        "accuracy_best_xgb = accuracy_score(y_test, y_pred_best_xgb)\n",
        "print(\"Test Accuracy with Best Model:\", accuracy_best_xgb)\n",
        "\n",
        "f1_best_xgb = f1_score(y_test, y_pred_best_xgb)\n",
        "print(\"f1-score with Best Model:\", f1_best_xgb)\n",
        "\n",
        "auc_best_xgb = roc_auc_score(y_test, y_pred_best_xgb)\n",
        "print(\"AUC with Best Model:\", auc_best_xgb)\n",
        "\n",
        "classification_rep_best_xgb = classification_report(y_test, y_pred_best_xgb)\n",
        "print(\"Classification Report with Best Model:\\n\", classification_rep_best_xgb)"
      ],
      "metadata": {
        "colab": {
          "base_uri": "https://localhost:8080/"
        },
        "id": "cTTFE-jjc6rp",
        "outputId": "099ebcde-3e9c-4aaa-bc75-5c6263b3f2b4"
      },
      "execution_count": 16,
      "outputs": [
        {
          "output_type": "stream",
          "name": "stdout",
          "text": [
            "Best XGBoost Model: XGBClassifier(base_score=None, booster=None, callbacks=None,\n",
            "              colsample_bylevel=None, colsample_bynode=None,\n",
            "              colsample_bytree=None, device=None, early_stopping_rounds=None,\n",
            "              enable_categorical=False, eval_metric=None, feature_types=None,\n",
            "              gamma=None, grow_policy=None, importance_type=None,\n",
            "              interaction_constraints=None, learning_rate=0.01, max_bin=None,\n",
            "              max_cat_threshold=None, max_cat_to_onehot=None,\n",
            "              max_delta_step=None, max_depth=3, max_leaves=None,\n",
            "              min_child_weight=None, missing=nan, monotone_constraints=None,\n",
            "              multi_strategy=None, n_estimators=100, n_jobs=None,\n",
            "              num_parallel_tree=None, random_state=123, ...)\n",
            "Best Hyperparameters: {'learning_rate': 0.01, 'max_depth': 3, 'n_estimators': 100}\n",
            "Confusion Matrix:\n",
            " [[0 5]\n",
            " [3 9]]\n",
            "Test Accuracy with Best Model: 0.5294117647058824\n",
            "f1-score with Best Model: 0.6923076923076924\n",
            "AUC with Best Model: 0.375\n",
            "Classification Report with Best Model:\n",
            "               precision    recall  f1-score   support\n",
            "\n",
            "           0       0.00      0.00      0.00         5\n",
            "           1       0.64      0.75      0.69        12\n",
            "\n",
            "    accuracy                           0.53        17\n",
            "   macro avg       0.32      0.38      0.35        17\n",
            "weighted avg       0.45      0.53      0.49        17\n",
            "\n"
          ]
        }
      ]
    },
    {
      "cell_type": "code",
      "source": [
        "import matplotlib.pyplot as plt\n",
        "from sklearn.metrics import roc_curve, roc_auc_score, auc\n",
        "\n",
        "fpr_lr, tpr_lr, _ = roc_curve(y_test, y_pred_lr)\n",
        "fpr_rf, tpr_rf, _ = roc_curve(y_test, y_pred_best_rf)\n",
        "fpr_svm_linear, tpr_svm_linear, _ = roc_curve(y_test, y_pred_best_svm_linear)\n",
        "fpr_svm_poly, tpr_svm_poly, _ = roc_curve(y_test, y_pred_best_svm_poly)\n",
        "fpr_xgb, tpr_xgb, _ = roc_curve(y_test, y_pred_best_xgb)\n",
        "\n",
        "\n",
        "# ROC 곡선 그리기\n",
        "plt.figure(figsize=(10, 8))\n",
        "plt.plot(fpr_lr, tpr_lr, label='Logistic Regression (AUC = %0.2f)' % auc_lr)\n",
        "plt.plot(fpr_rf, tpr_rf, label='Random Forest (AUC = %0.2f)' % auc_best_rf)\n",
        "plt.plot(fpr_svm_linear, tpr_svm_linear, label='SVM linear(AUC = %0.2f)' % auc_best_svm_linear)\n",
        "plt.plot(fpr_svm_poly, tpr_svm_poly, label='SVM Poly(AUC = %0.2f)' % auc_best_svm_poly)\n",
        "plt.plot(fpr_xgb, tpr_xgb, label='XGBoost (AUC = %0.2f)' % auc_best_xgb)\n",
        "\n",
        "plt.plot([0, 1], [0, 1], 'k--')\n",
        "plt.xlim([0.0, 1.0])\n",
        "plt.ylim([0.0, 1.05])\n",
        "plt.xlabel('False Positive Rate')\n",
        "plt.ylabel('True Positive Rate')\n",
        "plt.title('ROC Curve')\n",
        "plt.legend(loc=\"lower right\")\n",
        "plt.show()"
      ],
      "metadata": {
        "colab": {
          "base_uri": "https://localhost:8080/",
          "height": 718
        },
        "id": "yG-rgnq8c8Np",
        "outputId": "dd276b14-fd3c-4657-a3cd-3c6f7d2d4b46"
      },
      "execution_count": 17,
      "outputs": [
        {
          "output_type": "display_data",
          "data": {
            "text/plain": [
              "<Figure size 1000x800 with 1 Axes>"
            ],
            "image/png": "[encoded data removed]"
          },
          "metadata": {}
        }
      ]
    },
    {
      "cell_type": "markdown",
      "source": [
        "## Paretic Side"
      ],
      "metadata": {
        "id": "DpUdvc09c9WC"
      }
    },
    {
      "cell_type": "code",
      "source": [
        "df_par = pd.DataFrame(PRC)\n",
        "y = pd.DataFrame(y)\n",
        "par = pd.concat([y,df_par],axis=1)\n",
        "colname = list(par.columns)\n",
        "colname[0] = \"score\""
      ],
      "metadata": {
        "id": "MKSxHs4yc-X0"
      },
      "execution_count": 18,
      "outputs": []
    },
    {
      "cell_type": "code",
      "source": [
        "import random\n",
        "random.seed(1)\n",
        "X = par.loc[:,['PC1','PC4','PC11','PC12','PC30','PC31']]\n",
        "y = par['score']\n",
        "X_train , X_test , y_train , y_test  = train_test_split(X,y,test_size = 0.4,random_state=123,stratify=y)"
      ],
      "metadata": {
        "id": "UifBXT7bdBCQ"
      },
      "execution_count": 19,
      "outputs": []
    },
    {
      "cell_type": "code",
      "source": [
        "lr_model = LogisticRegression()\n",
        "\n",
        "lr_model.fit(X_train, y_train)\n",
        "\n",
        "y_pred_par_lr = lr_model.predict(X_test)\n",
        "\n",
        "conf_matrix = confusion_matrix(y_test, y_pred_par_lr)\n",
        "print(\"Confusion Matrix:\\n\", conf_matrix)\n",
        "# 정확도 계산\n",
        "accuracy_lr_ps = accuracy_score(y_test, y_pred_par_lr)\n",
        "print(\"Test Accuracy:\", accuracy_lr_ps)\n",
        "\n",
        "# f1-score 계산\n",
        "f1_lr_ps = f1_score(y_test, y_pred_par_lr)\n",
        "print(\"f1-score:\", f1_lr_ps)\n",
        "\n",
        "# AUC 계산\n",
        "auc_lr_ps = roc_auc_score(y_test,y_pred_par_lr)\n",
        "print(\"AUC:\",auc_lr_ps)\n",
        "\n",
        "\n",
        "classification_rep_lr = classification_report(y_test, y_pred_par_lr)\n",
        "print(\"Classification Report:\\n\", classification_rep_lr)"
      ],
      "metadata": {
        "colab": {
          "base_uri": "https://localhost:8080/"
        },
        "id": "KVQUBQA1dGUv",
        "outputId": "76242a35-65d5-4e32-f07e-02011e1ed515"
      },
      "execution_count": 20,
      "outputs": [
        {
          "output_type": "stream",
          "name": "stdout",
          "text": [
            "Confusion Matrix:\n",
            " [[ 0  5]\n",
            " [ 0 12]]\n",
            "Test Accuracy: 0.7058823529411765\n",
            "f1-score: 0.8275862068965517\n",
            "AUC: 0.5\n",
            "Classification Report:\n",
            "               precision    recall  f1-score   support\n",
            "\n",
            "           0       0.00      0.00      0.00         5\n",
            "           1       0.71      1.00      0.83        12\n",
            "\n",
            "    accuracy                           0.71        17\n",
            "   macro avg       0.35      0.50      0.41        17\n",
            "weighted avg       0.50      0.71      0.58        17\n",
            "\n"
          ]
        },
        {
          "output_type": "stream",
          "name": "stderr",
          "text": [
            "/usr/local/lib/python3.10/dist-packages/sklearn/metrics/_classification.py:1344: UndefinedMetricWarning: Precision and F-score are ill-defined and being set to 0.0 in labels with no predicted samples. Use `zero_division` parameter to control this behavior.\n",
            "  _warn_prf(average, modifier, msg_start, len(result))\n",
            "/usr/local/lib/python3.10/dist-packages/sklearn/metrics/_classification.py:1344: UndefinedMetricWarning: Precision and F-score are ill-defined and being set to 0.0 in labels with no predicted samples. Use `zero_division` parameter to control this behavior.\n",
            "  _warn_prf(average, modifier, msg_start, len(result))\n",
            "/usr/local/lib/python3.10/dist-packages/sklearn/metrics/_classification.py:1344: UndefinedMetricWarning: Precision and F-score are ill-defined and being set to 0.0 in labels with no predicted samples. Use `zero_division` parameter to control this behavior.\n",
            "  _warn_prf(average, modifier, msg_start, len(result))\n"
          ]
        }
      ]
    },
    {
      "cell_type": "code",
      "source": [
        "from sklearn.model_selection import GridSearchCV\n",
        "from sklearn.ensemble import RandomForestClassifier\n",
        "\n",
        "param_grid = {\n",
        "    'n_estimators': [100, 200, 300],\n",
        "    'max_depth': [None, 10, 20],\n",
        "    'min_samples_split': [2, 5, 10],\n",
        "    'min_samples_leaf': [1, 2, 4]\n",
        "}\n",
        "\n",
        "\n",
        "grid_search = GridSearchCV(RandomForestClassifier(random_state=123), param_grid, cv=5, scoring='accuracy')\n",
        "\n",
        "\n",
        "grid_search.fit(X_train, y_train)\n",
        "\n",
        "# 최적의 모델과 하이퍼파라미터 출력\n",
        "best_rf_model = grid_search.best_estimator_\n",
        "best_params = grid_search.best_params_\n",
        "print(\"Best Random Forest Model:\", best_rf_model)\n",
        "print(\"Best Hyperparameters:\", best_params)\n",
        "\n",
        "# 최적의 모델로 테스트 데이터에 대한 예측 수행\n",
        "y_pred_best_par_rf = best_rf_model.predict(X_test)\n",
        "\n",
        "# 성능 메트릭 계산\n",
        "conf_matrix_best = confusion_matrix(y_test, y_pred_best_par_rf)\n",
        "print(\"Confusion Matrix:\\n\", conf_matrix_best)\n",
        "\n",
        "accuracy_best_par_rf = accuracy_score(y_test, y_pred_best_par_rf)\n",
        "print(\"Test Accuracy with Best Model:\", accuracy_best_par_rf)\n",
        "\n",
        "f1_best_par_rf = f1_score(y_test, y_pred_best_par_rf)\n",
        "print(\"F1-score with Best Model:\", f1_best_par_rf)\n",
        "\n",
        "auc_best_par_rf = roc_auc_score(y_test, y_pred_best_par_rf)\n",
        "print(\"AUC with Best Model:\", auc_best_par_rf)\n",
        "\n",
        "classification_rep_best_par_rf = classification_report(y_test, y_pred_best_par_rf)\n",
        "print(\"Classification Report with Best Model:\\n\", classification_rep_best_par_rf)"
      ],
      "metadata": {
        "colab": {
          "base_uri": "https://localhost:8080/"
        },
        "id": "uoKt-CxLdI5A",
        "outputId": "da049c86-61ea-4e12-e1e2-f4a8dd567c71"
      },
      "execution_count": 21,
      "outputs": [
        {
          "output_type": "stream",
          "name": "stdout",
          "text": [
            "Best Random Forest Model: RandomForestClassifier(random_state=123)\n",
            "Best Hyperparameters: {'max_depth': None, 'min_samples_leaf': 1, 'min_samples_split': 2, 'n_estimators': 100}\n",
            "Confusion Matrix:\n",
            " [[1 4]\n",
            " [3 9]]\n",
            "Test Accuracy with Best Model: 0.5882352941176471\n",
            "F1-score with Best Model: 0.7199999999999999\n",
            "AUC with Best Model: 0.475\n",
            "Classification Report with Best Model:\n",
            "               precision    recall  f1-score   support\n",
            "\n",
            "           0       0.25      0.20      0.22         5\n",
            "           1       0.69      0.75      0.72        12\n",
            "\n",
            "    accuracy                           0.59        17\n",
            "   macro avg       0.47      0.47      0.47        17\n",
            "weighted avg       0.56      0.59      0.57        17\n",
            "\n"
          ]
        }
      ]
    },
    {
      "cell_type": "code",
      "source": [
        "from sklearn.model_selection import GridSearchCV\n",
        "from sklearn.svm import SVC\n",
        "\n",
        "param_grid = {\n",
        "    'C': [0.1, 1, 10],\n",
        "    'kernel': ['linear'],\n",
        "    'degree':[2,3,4]\n",
        "}\n",
        "\n",
        "\n",
        "grid_search = GridSearchCV(SVC(random_state=123), param_grid, cv=5, scoring='accuracy')\n",
        "\n",
        "\n",
        "grid_search.fit(X_train, y_train)\n",
        "\n",
        "\n",
        "best_svm_model = grid_search.best_estimator_\n",
        "best_params = grid_search.best_params_\n",
        "print(\"Best SVM Model:\", best_svm_model)\n",
        "print(\"Best Hyperparameters:\", best_params)\n",
        "\n",
        "\n",
        "y_pred_best_par_svm_linear = best_svm_model.predict(X_test)\n",
        "\n",
        "# 성능 메트릭 계산\n",
        "conf_matrix_best = confusion_matrix(y_test, y_pred_best_par_svm_linear)\n",
        "print(\"Confusion Matrix:\\n\", conf_matrix_best)\n",
        "\n",
        "accuracy_best_par_svm_linear = accuracy_score(y_test, y_pred_best_par_svm_linear)\n",
        "print(\"Test Accuracy with Best Model:\", accuracy_best_par_svm_linear)\n",
        "\n",
        "f1_best_par_svm_linear = f1_score(y_test, y_pred_best_par_svm_linear)\n",
        "print(\"F1-score with Best Model:\", f1_best_par_svm_linear)\n",
        "\n",
        "y_scores_best_par_svm_linear = best_svm_model.decision_function(X_test)\n",
        "auc_best_par_svm_linear = roc_auc_score(y_test, y_scores_best_par_svm_linear)\n",
        "print(\"AUC with Best Model:\", auc_best_par_svm_linear)\n",
        "\n",
        "classification_rep_best_par_svm = classification_report(y_test, y_pred_best_par_svm_linear)\n",
        "print(\"Classification Report with Best Model:\\n\", classification_rep_best_par_svm)"
      ],
      "metadata": {
        "colab": {
          "base_uri": "https://localhost:8080/"
        },
        "id": "UWMD6ABfdLgY",
        "outputId": "e286bf7f-87df-4061-fa7d-c64a8dded702"
      },
      "execution_count": 22,
      "outputs": [
        {
          "output_type": "stream",
          "name": "stdout",
          "text": [
            "Best SVM Model: SVC(C=0.1, degree=2, kernel='linear', random_state=123)\n",
            "Best Hyperparameters: {'C': 0.1, 'degree': 2, 'kernel': 'linear'}\n",
            "Confusion Matrix:\n",
            " [[ 0  5]\n",
            " [ 0 12]]\n",
            "Test Accuracy with Best Model: 0.7058823529411765\n",
            "F1-score with Best Model: 0.8275862068965517\n",
            "AUC with Best Model: 0.5833333333333333\n",
            "Classification Report with Best Model:\n",
            "               precision    recall  f1-score   support\n",
            "\n",
            "           0       0.00      0.00      0.00         5\n",
            "           1       0.71      1.00      0.83        12\n",
            "\n",
            "    accuracy                           0.71        17\n",
            "   macro avg       0.35      0.50      0.41        17\n",
            "weighted avg       0.50      0.71      0.58        17\n",
            "\n"
          ]
        },
        {
          "output_type": "stream",
          "name": "stderr",
          "text": [
            "/usr/local/lib/python3.10/dist-packages/sklearn/metrics/_classification.py:1344: UndefinedMetricWarning: Precision and F-score are ill-defined and being set to 0.0 in labels with no predicted samples. Use `zero_division` parameter to control this behavior.\n",
            "  _warn_prf(average, modifier, msg_start, len(result))\n",
            "/usr/local/lib/python3.10/dist-packages/sklearn/metrics/_classification.py:1344: UndefinedMetricWarning: Precision and F-score are ill-defined and being set to 0.0 in labels with no predicted samples. Use `zero_division` parameter to control this behavior.\n",
            "  _warn_prf(average, modifier, msg_start, len(result))\n",
            "/usr/local/lib/python3.10/dist-packages/sklearn/metrics/_classification.py:1344: UndefinedMetricWarning: Precision and F-score are ill-defined and being set to 0.0 in labels with no predicted samples. Use `zero_division` parameter to control this behavior.\n",
            "  _warn_prf(average, modifier, msg_start, len(result))\n"
          ]
        }
      ]
    },
    {
      "cell_type": "code",
      "source": [
        "from sklearn.model_selection import GridSearchCV\n",
        "from sklearn.svm import SVC\n",
        "\n",
        "param_grid = {\n",
        "    'C': [0.1, 1, 10],\n",
        "    'kernel': ['poly'],\n",
        "    'degree': [2, 3, 4],\n",
        "}\n",
        "\n",
        "\n",
        "grid_search = GridSearchCV(SVC(random_state=123), param_grid, cv=5, scoring='accuracy')\n",
        "\n",
        "\n",
        "grid_search.fit(X_train, y_train)\n",
        "\n",
        "\n",
        "best_svm_model = grid_search.best_estimator_\n",
        "best_params = grid_search.best_params_\n",
        "print(\"Best SVM Model:\", best_svm_model)\n",
        "print(\"Best Hyperparameters:\", best_params)\n",
        "\n",
        "\n",
        "y_pred_best_par_svm_poly = best_svm_model.predict(X_test)\n",
        "\n",
        "# 성능 메트릭 계산\n",
        "conf_matrix_best = confusion_matrix(y_test, y_pred_best_par_svm_poly)\n",
        "print(\"Confusion Matrix:\\n\", conf_matrix_best)\n",
        "\n",
        "accuracy_best_par_svm_poly = accuracy_score(y_test, y_pred_best_par_svm_poly)\n",
        "print(\"Test Accuracy with Best Model:\", accuracy_best_par_svm_poly)\n",
        "\n",
        "f1_best_par_svm_poly = f1_score(y_test, y_pred_best_par_svm_poly)\n",
        "print(\"F1-score with Best Model:\", f1_best_par_svm_poly)\n",
        "\n",
        "y_scores_best_par_svm_poly = best_svm_model.decision_function(X_test)\n",
        "auc_best_par_svm_poly = roc_auc_score(y_test, y_scores_best_par_svm_poly)\n",
        "print(\"AUC with Best Model:\", auc_best_par_svm_poly)\n",
        "\n",
        "classification_rep_best_par_svm = classification_report(y_test, y_pred_best_par_svm_poly)\n",
        "print(\"Classification Report with Best Model:\\n\", classification_rep_best_par_svm)"
      ],
      "metadata": {
        "colab": {
          "base_uri": "https://localhost:8080/"
        },
        "id": "qmOB9CbgdM85",
        "outputId": "aa7f1ac9-206c-4d1c-c8d4-32f812f79e06"
      },
      "execution_count": 23,
      "outputs": [
        {
          "output_type": "stream",
          "name": "stdout",
          "text": [
            "Best SVM Model: SVC(C=0.1, degree=2, kernel='poly', random_state=123)\n",
            "Best Hyperparameters: {'C': 0.1, 'degree': 2, 'kernel': 'poly'}\n",
            "Confusion Matrix:\n",
            " [[ 0  5]\n",
            " [ 0 12]]\n",
            "Test Accuracy with Best Model: 0.7058823529411765\n",
            "F1-score with Best Model: 0.8275862068965517\n",
            "AUC with Best Model: 0.6333333333333333\n",
            "Classification Report with Best Model:\n",
            "               precision    recall  f1-score   support\n",
            "\n",
            "           0       0.00      0.00      0.00         5\n",
            "           1       0.71      1.00      0.83        12\n",
            "\n",
            "    accuracy                           0.71        17\n",
            "   macro avg       0.35      0.50      0.41        17\n",
            "weighted avg       0.50      0.71      0.58        17\n",
            "\n"
          ]
        },
        {
          "output_type": "stream",
          "name": "stderr",
          "text": [
            "/usr/local/lib/python3.10/dist-packages/sklearn/metrics/_classification.py:1344: UndefinedMetricWarning: Precision and F-score are ill-defined and being set to 0.0 in labels with no predicted samples. Use `zero_division` parameter to control this behavior.\n",
            "  _warn_prf(average, modifier, msg_start, len(result))\n",
            "/usr/local/lib/python3.10/dist-packages/sklearn/metrics/_classification.py:1344: UndefinedMetricWarning: Precision and F-score are ill-defined and being set to 0.0 in labels with no predicted samples. Use `zero_division` parameter to control this behavior.\n",
            "  _warn_prf(average, modifier, msg_start, len(result))\n",
            "/usr/local/lib/python3.10/dist-packages/sklearn/metrics/_classification.py:1344: UndefinedMetricWarning: Precision and F-score are ill-defined and being set to 0.0 in labels with no predicted samples. Use `zero_division` parameter to control this behavior.\n",
            "  _warn_prf(average, modifier, msg_start, len(result))\n"
          ]
        }
      ]
    },
    {
      "cell_type": "code",
      "source": [
        "from sklearn.model_selection import GridSearchCV\n",
        "import xgboost as xgb\n",
        "\n",
        "\n",
        "param_grid = {\n",
        "    'n_estimators': [100, 200, 300],\n",
        "    'max_depth': [3, 4, 5],\n",
        "    'learning_rate': [0.01, 0.1, 0.2],\n",
        "}\n",
        "\n",
        "\n",
        "grid_search = GridSearchCV(xgb.XGBClassifier(random_state=123), param_grid, cv=5, scoring='accuracy')\n",
        "\n",
        "\n",
        "grid_search.fit(X_train, y_train)\n",
        "\n",
        "\n",
        "best_xgb_model = grid_search.best_estimator_\n",
        "best_params = grid_search.best_params_\n",
        "print(\"Best XGBoost Model:\", best_xgb_model)\n",
        "print(\"Best Hyperparameters:\", best_params)\n",
        "\n",
        "\n",
        "y_pred_best_par_xgb = best_xgb_model.predict(X_test)\n",
        "\n",
        "conf_matrix_best = confusion_matrix(y_test, y_pred_best_par_xgb)\n",
        "print(\"Confusion Matrix:\\n\", conf_matrix_best)\n",
        "\n",
        "accuracy_best_par_xgb = accuracy_score(y_test, y_pred_best_par_xgb)\n",
        "print(\"Test Accuracy with Best Model:\", accuracy_best_par_xgb)\n",
        "\n",
        "f1_best_par_xgb = f1_score(y_test, y_pred_best_par_xgb)\n",
        "print(\"F1-score with Best Model:\", f1_best_par_xgb)\n",
        "\n",
        "auc_best_par_xgb = roc_auc_score(y_test, y_pred_best_par_xgb)\n",
        "print(\"AUC with Best Model:\", auc_best_par_xgb)\n",
        "\n",
        "classification_rep_best_par_xgb = classification_report(y_test, y_pred_best_par_xgb)\n",
        "print(\"Classification Report with Best Model:\\n\", classification_rep_best_par_xgb)"
      ],
      "metadata": {
        "colab": {
          "base_uri": "https://localhost:8080/"
        },
        "id": "wA2GiXxddOXR",
        "outputId": "f1e17710-e3e4-462d-e6de-e63aa13c149e"
      },
      "execution_count": 24,
      "outputs": [
        {
          "output_type": "stream",
          "name": "stdout",
          "text": [
            "Best XGBoost Model: XGBClassifier(base_score=None, booster=None, callbacks=None,\n",
            "              colsample_bylevel=None, colsample_bynode=None,\n",
            "              colsample_bytree=None, device=None, early_stopping_rounds=None,\n",
            "              enable_categorical=False, eval_metric=None, feature_types=None,\n",
            "              gamma=None, grow_policy=None, importance_type=None,\n",
            "              interaction_constraints=None, learning_rate=0.01, max_bin=None,\n",
            "              max_cat_threshold=None, max_cat_to_onehot=None,\n",
            "              max_delta_step=None, max_depth=3, max_leaves=None,\n",
            "              min_child_weight=None, missing=nan, monotone_constraints=None,\n",
            "              multi_strategy=None, n_estimators=100, n_jobs=None,\n",
            "              num_parallel_tree=None, random_state=123, ...)\n",
            "Best Hyperparameters: {'learning_rate': 0.01, 'max_depth': 3, 'n_estimators': 100}\n",
            "Confusion Matrix:\n",
            " [[5 0]\n",
            " [4 8]]\n",
            "Test Accuracy with Best Model: 0.7647058823529411\n",
            "F1-score with Best Model: 0.8\n",
            "AUC with Best Model: 0.8333333333333333\n",
            "Classification Report with Best Model:\n",
            "               precision    recall  f1-score   support\n",
            "\n",
            "           0       0.56      1.00      0.71         5\n",
            "           1       1.00      0.67      0.80        12\n",
            "\n",
            "    accuracy                           0.76        17\n",
            "   macro avg       0.78      0.83      0.76        17\n",
            "weighted avg       0.87      0.76      0.77        17\n",
            "\n"
          ]
        }
      ]
    },
    {
      "cell_type": "code",
      "source": [
        "import matplotlib.pyplot as plt\n",
        "from sklearn.metrics import roc_curve, roc_auc_score, auc\n",
        "\n",
        "fpr_par_lr, tpr_par_lr, _ = roc_curve(y_test, y_pred_par_lr)  # Logistic Regression\n",
        "fpr_par_rf, tpr_par_rf, _ = roc_curve(y_test, y_pred_best_par_rf)  # Random Forest\n",
        "fpr_par_svm_linear, tpr_par_svm_linear, _ = roc_curve(y_test, y_pred_best_par_svm_linear)\n",
        "fpr_par_svm_poly, tpr_par_svm_poly, _ = roc_curve(y_test, y_pred_best_par_svm_poly)  # SVM\n",
        "fpr_par_xgb, tpr_par_xgb, _ = roc_curve(y_test, y_pred_best_par_xgb)  # XGBoost\n",
        "\n",
        "\n",
        "# ROC 곡선 그리기\n",
        "plt.figure(figsize=(10, 8))\n",
        "plt.plot(fpr_par_lr, tpr_par_lr, label='Logistic Regression (AUC = %0.2f)' % auc_lr_ps)\n",
        "plt.plot(fpr_par_rf, tpr_par_rf, label='Random Forest (AUC = %0.2f)' % auc_best_par_rf)\n",
        "plt.plot(fpr_par_svm_linear, tpr_par_svm_linear, label='SVM Linear(AUC = %0.2f)' % auc_best_par_svm_linear)\n",
        "plt.plot(fpr_par_svm_poly, tpr_par_svm_poly, label='SVM Poly(AUC = %0.2f)' % auc_best_par_svm_poly)\n",
        "plt.plot(fpr_par_xgb, tpr_par_xgb, label='XGBoost (AUC = %0.2f)' % auc_best_par_xgb)\n",
        "\n",
        "plt.plot([0, 1], [0, 1], 'k--')\n",
        "plt.xlim([0.0, 1.0])\n",
        "plt.ylim([0.0, 1.05])\n",
        "plt.xlabel('False Positive Rate')\n",
        "plt.ylabel('True Positive Rate')\n",
        "plt.title('ROC Curve')\n",
        "plt.legend(loc=\"lower right\")\n",
        "plt.show()"
      ],
      "metadata": {
        "colab": {
          "base_uri": "https://localhost:8080/",
          "height": 718
        },
        "id": "OUOaH6_6dPzx",
        "outputId": "aa7ad1e7-ef28-4673-e803-db08416178fe"
      },
      "execution_count": 25,
      "outputs": [
        {
          "output_type": "display_data",
          "data": {
            "text/plain": [
              "<Figure size 1000x800 with 1 Axes>"
            ],
            "image/png": "[encoded data removed]"
          },
          "metadata": {}
        }
      ]
    },
    {
      "cell_type": "code",
      "source": [
        "### AUC 결과\n",
        "result = {'model':[\"logistic\",\"RandomForest\",\"SVM(Linear)\",\"SVM(Poly)\",\"XGBoost\"],\n",
        "          'f1_score':[f1_lr,f1_best_rf,f1_best_svm_linear,f1_best_svm_poly,f1_best_xgb],\n",
        "          'AUC':[auc_lr,auc_best_rf,auc_best_svm_linear,auc_best_svm_poly,auc_best_xgb],\n",
        "          'paretic_f1_score':[f1_lr_ps,f1_best_par_rf,f1_best_par_svm_linear,f1_best_par_svm_poly,f1_best_par_xgb],\n",
        "          'Paretic_AUC':[auc_lr_ps,auc_best_par_rf,auc_best_par_svm_linear,auc_best_par_svm_poly,auc_best_par_xgb]}\n"
      ],
      "metadata": {
        "id": "dau2m6MUdRRk"
      },
      "execution_count": 26,
      "outputs": []
    },
    {
      "cell_type": "code",
      "source": [
        "result = pd.DataFrame(result)\n",
        "result"
      ],
      "metadata": {
        "colab": {
          "base_uri": "https://localhost:8080/",
          "height": 206
        },
        "id": "XbtsDGOSdSd3",
        "outputId": "c62bdb1d-4646-45c4-94f8-c49ad5716851"
      },
      "execution_count": 27,
      "outputs": [
        {
          "output_type": "execute_result",
          "data": {
            "text/plain": [
              "          model  f1_score       AUC  paretic_f1_score  Paretic_AUC\n",
              "0      logistic  0.833333  0.716667          0.827586     0.500000\n",
              "1  RandomForest  0.827586  0.500000          0.720000     0.475000\n",
              "2   SVM(Linear)  0.782609  0.733333          0.827586     0.583333\n",
              "3     SVM(Poly)  0.827586  0.783333          0.827586     0.633333\n",
              "4       XGBoost  0.692308  0.375000          0.800000     0.833333"
            ],
            "text/html": [
              "\n",
              "  <div id=\"df-b2c02d8b-e777-4ff2-a170-52ff5c3d2b72\" class=\"colab-df-container\">\n",
              "    <div>\n",
              "<style scoped>\n",
              "    .dataframe tbody tr th:only-of-type {\n",
              "        vertical-align: middle;\n",
              "    }\n",
              "\n",
              "    .dataframe tbody tr th {\n",
              "        vertical-align: top;\n",
              "    }\n",
              "\n",
              "    .dataframe thead th {\n",
              "        text-align: right;\n",
              "    }\n",
              "</style>\n",
              "<table border=\"1\" class=\"dataframe\">\n",
              "  <thead>\n",
              "    <tr style=\"text-align: right;\">\n",
              "      <th></th>\n",
              "      <th>model</th>\n",
              "      <th>f1_score</th>\n",
              "      <th>AUC</th>\n",
              "      <th>paretic_f1_score</th>\n",
              "      <th>Paretic_AUC</th>\n",
              "    </tr>\n",
              "  </thead>\n",
              "  <tbody>\n",
              "    <tr>\n",
              "      <th>0</th>\n",
              "      <td>logistic</td>\n",
              "      <td>0.833333</td>\n",
              "      <td>0.716667</td>\n",
              "      <td>0.827586</td>\n",
              "      <td>0.500000</td>\n",
              "    </tr>\n",
              "    <tr>\n",
              "      <th>1</th>\n",
              "      <td>RandomForest</td>\n",
              "      <td>0.827586</td>\n",
              "      <td>0.500000</td>\n",
              "      <td>0.720000</td>\n",
              "      <td>0.475000</td>\n",
              "    </tr>\n",
              "    <tr>\n",
              "      <th>2</th>\n",
              "      <td>SVM(Linear)</td>\n",
              "      <td>0.782609</td>\n",
              "      <td>0.733333</td>\n",
              "      <td>0.827586</td>\n",
              "      <td>0.583333</td>\n",
              "    </tr>\n",
              "    <tr>\n",
              "      <th>3</th>\n",
              "      <td>SVM(Poly)</td>\n",
              "      <td>0.827586</td>\n",
              "      <td>0.783333</td>\n",
              "      <td>0.827586</td>\n",
              "      <td>0.633333</td>\n",
              "    </tr>\n",
              "    <tr>\n",
              "      <th>4</th>\n",
              "      <td>XGBoost</td>\n",
              "      <td>0.692308</td>\n",
              "      <td>0.375000</td>\n",
              "      <td>0.800000</td>\n",
              "      <td>0.833333</td>\n",
              "    </tr>\n",
              "  </tbody>\n",
              "</table>\n",
              "</div>\n",
              "    <div class=\"colab-df-buttons\">\n",
              "\n",
              "  <div class=\"colab-df-container\">\n",
              "    <button class=\"colab-df-convert\" onclick=\"convertToInteractive('df-b2c02d8b-e777-4ff2-a170-52ff5c3d2b72')\"\n",
              "            title=\"Convert this dataframe to an interactive table.\"\n",
              "            style=\"display:none;\">\n",
              "\n",
              "  <svg xmlns=\"http://www.w3.org/2000/svg\" height=\"24px\" viewBox=\"0 -960 960 960\">\n",
              "    <path d=\"M120-120v-720h720v720H120Zm60-500h600v-160H180v160Zm220 220h160v-160H400v160Zm0 220h160v-160H400v160ZM180-400h160v-160H180v160Zm440 0h160v-160H620v160ZM180-180h160v-160H180v160Zm440 0h160v-160H620v160Z\"/>\n",
              "  </svg>\n",
              "    </button>\n",
              "\n",
              "  <style>\n",
              "    .colab-df-container {\n",
              "      display:flex;\n",
              "      gap: 12px;\n",
              "    }\n",
              "\n",
              "    .colab-df-convert {\n",
              "      background-color: #E8F0FE;\n",
              "      border: none;\n",
              "      border-radius: 50%;\n",
              "      cursor: pointer;\n",
              "      display: none;\n",
              "      fill: #1967D2;\n",
              "      height: 32px;\n",
              "      padding: 0 0 0 0;\n",
              "      width: 32px;\n",
              "    }\n",
              "\n",
              "    .colab-df-convert:hover {\n",
              "      background-color: #E2EBFA;\n",
              "      box-shadow: 0px 1px 2px rgba(60, 64, 67, 0.3), 0px 1px 3px 1px rgba(60, 64, 67, 0.15);\n",
              "      fill: #174EA6;\n",
              "    }\n",
              "\n",
              "    .colab-df-buttons div {\n",
              "      margin-bottom: 4px;\n",
              "    }\n",
              "\n",
              "    [theme=dark] .colab-df-convert {\n",
              "      background-color: #3B4455;\n",
              "      fill: #D2E3FC;\n",
              "    }\n",
              "\n",
              "    [theme=dark] .colab-df-convert:hover {\n",
              "      background-color: #434B5C;\n",
              "      box-shadow: 0px 1px 3px 1px rgba(0, 0, 0, 0.15);\n",
              "      filter: drop-shadow(0px 1px 2px rgba(0, 0, 0, 0.3));\n",
              "      fill: #FFFFFF;\n",
              "    }\n",
              "  </style>\n",
              "\n",
              "    <script>\n",
              "      const buttonEl =\n",
              "        document.querySelector('#df-b2c02d8b-e777-4ff2-a170-52ff5c3d2b72 button.colab-df-convert');\n",
              "      buttonEl.style.display =\n",
              "        google.colab.kernel.accessAllowed ? 'block' : 'none';\n",
              "\n",
              "      async function convertToInteractive(key) {\n",
              "        const element = document.querySelector('#df-b2c02d8b-e777-4ff2-a170-52ff5c3d2b72');\n",
              "        const dataTable =\n",
              "          await google.colab.kernel.invokeFunction('convertToInteractive',\n",
              "                                                    [key], {});\n",
              "        if (!dataTable) return;\n",
              "\n",
              "        const docLinkHtml = 'Like what you see? Visit the ' +\n",
              "          '<a target=\"_blank\" href=https://colab.research.google.com/notebooks/data_table.ipynb>data table notebook</a>'\n",
              "          + ' to learn more about interactive tables.';\n",
              "        element.innerHTML = '';\n",
              "        dataTable['output_type'] = 'display_data';\n",
              "        await google.colab.output.renderOutput(dataTable, element);\n",
              "        const docLink = document.createElement('div');\n",
              "        docLink.innerHTML = docLinkHtml;\n",
              "        element.appendChild(docLink);\n",
              "      }\n",
              "    </script>\n",
              "  </div>\n",
              "\n",
              "\n",
              "<div id=\"df-ffcb0be0-c5b4-4d7d-a8c9-25232797c0eb\">\n",
              "  <button class=\"colab-df-quickchart\" onclick=\"quickchart('df-ffcb0be0-c5b4-4d7d-a8c9-25232797c0eb')\"\n",
              "            title=\"Suggest charts\"\n",
              "            style=\"display:none;\">\n",
              "\n",
              "<svg xmlns=\"http://www.w3.org/2000/svg\" height=\"24px\"viewBox=\"0 0 24 24\"\n",
              "     width=\"24px\">\n",
              "    <g>\n",
              "        <path d=\"M19 3H5c-1.1 0-2 .9-2 2v14c0 1.1.9 2 2 2h14c1.1 0 2-.9 2-2V5c0-1.1-.9-2-2-2zM9 17H7v-7h2v7zm4 0h-2V7h2v10zm4 0h-2v-4h2v4z\"/>\n",
              "    </g>\n",
              "</svg>\n",
              "  </button>\n",
              "\n",
              "<style>\n",
              "  .colab-df-quickchart {\n",
              "      --bg-color: #E8F0FE;\n",
              "      --fill-color: #1967D2;\n",
              "      --hover-bg-color: #E2EBFA;\n",
              "      --hover-fill-color: #174EA6;\n",
              "      --disabled-fill-color: #AAA;\n",
              "      --disabled-bg-color: #DDD;\n",
              "  }\n",
              "\n",
              "  [theme=dark] .colab-df-quickchart {\n",
              "      --bg-color: #3B4455;\n",
              "      --fill-color: #D2E3FC;\n",
              "      --hover-bg-color: #434B5C;\n",
              "      --hover-fill-color: #FFFFFF;\n",
              "      --disabled-bg-color: #3B4455;\n",
              "      --disabled-fill-color: #666;\n",
              "  }\n",
              "\n",
              "  .colab-df-quickchart {\n",
              "    background-color: var(--bg-color);\n",
              "    border: none;\n",
              "    border-radius: 50%;\n",
              "    cursor: pointer;\n",
              "    display: none;\n",
              "    fill: var(--fill-color);\n",
              "    height: 32px;\n",
              "    padding: 0;\n",
              "    width: 32px;\n",
              "  }\n",
              "\n",
              "  .colab-df-quickchart:hover {\n",
              "    background-color: var(--hover-bg-color);\n",
              "    box-shadow: 0 1px 2px rgba(60, 64, 67, 0.3), 0 1px 3px 1px rgba(60, 64, 67, 0.15);\n",
              "    fill: var(--button-hover-fill-color);\n",
              "  }\n",
              "\n",
              "  .colab-df-quickchart-complete:disabled,\n",
              "  .colab-df-quickchart-complete:disabled:hover {\n",
              "    background-color: var(--disabled-bg-color);\n",
              "    fill: var(--disabled-fill-color);\n",
              "    box-shadow: none;\n",
              "  }\n",
              "\n",
              "  .colab-df-spinner {\n",
              "    border: 2px solid var(--fill-color);\n",
              "    border-color: transparent;\n",
              "    border-bottom-color: var(--fill-color);\n",
              "    animation:\n",
              "      spin 1s steps(1) infinite;\n",
              "  }\n",
              "\n",
              "  @keyframes spin {\n",
              "    0% {\n",
              "      border-color: transparent;\n",
              "      border-bottom-color: var(--fill-color);\n",
              "      border-left-color: var(--fill-color);\n",
              "    }\n",
              "    20% {\n",
              "      border-color: transparent;\n",
              "      border-left-color: var(--fill-color);\n",
              "      border-top-color: var(--fill-color);\n",
              "    }\n",
              "    30% {\n",
              "      border-color: transparent;\n",
              "      border-left-color: var(--fill-color);\n",
              "      border-top-color: var(--fill-color);\n",
              "      border-right-color: var(--fill-color);\n",
              "    }\n",
              "    40% {\n",
              "      border-color: transparent;\n",
              "      border-right-color: var(--fill-color);\n",
              "      border-top-color: var(--fill-color);\n",
              "    }\n",
              "    60% {\n",
              "      border-color: transparent;\n",
              "      border-right-color: var(--fill-color);\n",
              "    }\n",
              "    80% {\n",
              "      border-color: transparent;\n",
              "      border-right-color: var(--fill-color);\n",
              "      border-bottom-color: var(--fill-color);\n",
              "    }\n",
              "    90% {\n",
              "      border-color: transparent;\n",
              "      border-bottom-color: var(--fill-color);\n",
              "    }\n",
              "  }\n",
              "</style>\n",
              "\n",
              "  <script>\n",
              "    async function quickchart(key) {\n",
              "      const quickchartButtonEl =\n",
              "        document.querySelector('#' + key + ' button');\n",
              "      quickchartButtonEl.disabled = true;  // To prevent multiple clicks.\n",
              "      quickchartButtonEl.classList.add('colab-df-spinner');\n",
              "      try {\n",
              "        const charts = await google.colab.kernel.invokeFunction(\n",
              "            'suggestCharts', [key], {});\n",
              "      } catch (error) {\n",
              "        console.error('Error during call to suggestCharts:', error);\n",
              "      }\n",
              "      quickchartButtonEl.classList.remove('colab-df-spinner');\n",
              "      quickchartButtonEl.classList.add('colab-df-quickchart-complete');\n",
              "    }\n",
              "    (() => {\n",
              "      let quickchartButtonEl =\n",
              "        document.querySelector('#df-ffcb0be0-c5b4-4d7d-a8c9-25232797c0eb button');\n",
              "      quickchartButtonEl.style.display =\n",
              "        google.colab.kernel.accessAllowed ? 'block' : 'none';\n",
              "    })();\n",
              "  </script>\n",
              "</div>\n",
              "\n",
              "  <div id=\"id_f089c9a9-e184-4c10-be2a-48e6eea27b15\">\n",
              "    <style>\n",
              "      .colab-df-generate {\n",
              "        background-color: #E8F0FE;\n",
              "        border: none;\n",
              "        border-radius: 50%;\n",
              "        cursor: pointer;\n",
              "        display: none;\n",
              "        fill: #1967D2;\n",
              "        height: 32px;\n",
              "        padding: 0 0 0 0;\n",
              "        width: 32px;\n",
              "      }\n",
              "\n",
              "      .colab-df-generate:hover {\n",
              "        background-color: #E2EBFA;\n",
              "        box-shadow: 0px 1px 2px rgba(60, 64, 67, 0.3), 0px 1px 3px 1px rgba(60, 64, 67, 0.15);\n",
              "        fill: #174EA6;\n",
              "      }\n",
              "\n",
              "      [theme=dark] .colab-df-generate {\n",
              "        background-color: #3B4455;\n",
              "        fill: #D2E3FC;\n",
              "      }\n",
              "\n",
              "      [theme=dark] .colab-df-generate:hover {\n",
              "        background-color: #434B5C;\n",
              "        box-shadow: 0px 1px 3px 1px rgba(0, 0, 0, 0.15);\n",
              "        filter: drop-shadow(0px 1px 2px rgba(0, 0, 0, 0.3));\n",
              "        fill: #FFFFFF;\n",
              "      }\n",
              "    </style>\n",
              "    <button class=\"colab-df-generate\" onclick=\"generateWithVariable('result')\"\n",
              "            title=\"Generate code using this dataframe.\"\n",
              "            style=\"display:none;\">\n",
              "\n",
              "  <svg xmlns=\"http://www.w3.org/2000/svg\" height=\"24px\"viewBox=\"0 0 24 24\"\n",
              "       width=\"24px\">\n",
              "    <path d=\"M7,19H8.4L18.45,9,17,7.55,7,17.6ZM5,21V16.75L18.45,3.32a2,2,0,0,1,2.83,0l1.4,1.43a1.91,1.91,0,0,1,.58,1.4,1.91,1.91,0,0,1-.58,1.4L9.25,21ZM18.45,9,17,7.55Zm-12,3A5.31,5.31,0,0,0,4.9,8.1,5.31,5.31,0,0,0,1,6.5,5.31,5.31,0,0,0,4.9,4.9,5.31,5.31,0,0,0,6.5,1,5.31,5.31,0,0,0,8.1,4.9,5.31,5.31,0,0,0,12,6.5,5.46,5.46,0,0,0,6.5,12Z\"/>\n",
              "  </svg>\n",
              "    </button>\n",
              "    <script>\n",
              "      (() => {\n",
              "      const buttonEl =\n",
              "        document.querySelector('#id_f089c9a9-e184-4c10-be2a-48e6eea27b15 button.colab-df-generate');\n",
              "      buttonEl.style.display =\n",
              "        google.colab.kernel.accessAllowed ? 'block' : 'none';\n",
              "\n",
              "      buttonEl.onclick = () => {\n",
              "        google.colab.notebook.generateWithVariable('result');\n",
              "      }\n",
              "      })();\n",
              "    </script>\n",
              "  </div>\n",
              "\n",
              "    </div>\n",
              "  </div>\n"
            ]
          },
          "metadata": {},
          "execution_count": 27
        }
      ]
    }
  ]
}